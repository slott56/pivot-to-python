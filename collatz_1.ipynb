{
 "cells": [
  {
   "cell_type": "markdown",
   "id": "366fc495",
   "metadata": {
    "tags": []
   },
   "source": [
    "# Collatz Conjecture\n",
    "\n",
    "See https://projecteuler.net/problem=14\n",
    "\n",
    "Example sequence: 13 → 40 → 20 → 10 → 5 → 16 → 8 → 4 → 2 → 1\n",
    "\n",
    "## Step 1. \n",
    "\n",
    "Define a function.\n",
    "\n",
    "\\\\[\n",
    "    h(n) = \\begin{cases}\n",
    "    \\frac{n}{2}& \\text{if $n$ is even},\\\\\n",
    "    3n+1& \\text{if $n$ is odd}\n",
    "    \\end{cases}\n",
    "\\\\]"
   ]
  },
  {
   "cell_type": "code",
   "execution_count": null,
   "id": "e82394f6",
   "metadata": {},
   "outputs": [],
   "source": [
    "def h(n: int) -> int:\n",
    "    if n % 2 == 0:\n",
    "        return n // 2\n",
    "    else:\n",
    "        return 3 * n + 1"
   ]
  },
  {
   "cell_type": "markdown",
   "id": "99c093d8",
   "metadata": {},
   "source": [
    "## Step 2. \n",
    "\n",
    "Test the function with the sequence: 13 → 40 → 20 → 10 → 5 → 16 → 8 → 4 → 2 → 1\n",
    "\n"
   ]
  },
  {
   "cell_type": "code",
   "execution_count": null,
   "id": "12b63ba8",
   "metadata": {},
   "outputs": [],
   "source": [
    "h(13) == 40"
   ]
  },
  {
   "cell_type": "code",
   "execution_count": null,
   "id": "d1ca3d65",
   "metadata": {},
   "outputs": [],
   "source": [
    "h(40) == 20"
   ]
  },
  {
   "cell_type": "code",
   "execution_count": null,
   "id": "a2d7cd23",
   "metadata": {},
   "outputs": [],
   "source": [
    "h(20) == 10"
   ]
  },
  {
   "cell_type": "code",
   "execution_count": null,
   "id": "b4dfe8a2",
   "metadata": {},
   "outputs": [],
   "source": [
    "h(10) == 5"
   ]
  },
  {
   "cell_type": "code",
   "execution_count": null,
   "id": "176a6c5f",
   "metadata": {},
   "outputs": [],
   "source": [
    "h(5) == 16"
   ]
  },
  {
   "cell_type": "markdown",
   "id": "90bada6c",
   "metadata": {},
   "source": [
    "## Step 3. \n",
    "\n",
    "Iterate a few times."
   ]
  },
  {
   "cell_type": "code",
   "execution_count": null,
   "id": "b51218d1",
   "metadata": {},
   "outputs": [],
   "source": [
    "h(5)"
   ]
  },
  {
   "cell_type": "code",
   "execution_count": null,
   "id": "89426db3",
   "metadata": {},
   "outputs": [],
   "source": [
    "h(16)"
   ]
  },
  {
   "cell_type": "code",
   "execution_count": null,
   "id": "81543b4f",
   "metadata": {},
   "outputs": [],
   "source": [
    "h(Out[5])"
   ]
  },
  {
   "cell_type": "code",
   "execution_count": null,
   "id": "a5d5e78b",
   "metadata": {},
   "outputs": [],
   "source": [
    "h(Out[6])"
   ]
  },
  {
   "cell_type": "markdown",
   "id": "54739cf8",
   "metadata": {},
   "source": [
    "## Step 4. \n",
    "\n",
    "Define an iteration function that prints a result."
   ]
  },
  {
   "cell_type": "code",
   "execution_count": null,
   "id": "b181bff4",
   "metadata": {},
   "outputs": [],
   "source": [
    "n = 13\n",
    "while n != 1:\n",
    "    print(n)\n",
    "    n = h(n)\n",
    "print(n)"
   ]
  },
  {
   "cell_type": "code",
   "execution_count": 12,
   "id": "6494b05c",
   "metadata": {},
   "outputs": [],
   "source": [
    "def iterate_from(n: int) -> None:\n",
    "    print(n)\n",
    "    while n != 1:\n",
    "        n = h(n)\n",
    "        print(n)"
   ]
  },
  {
   "cell_type": "code",
   "execution_count": 13,
   "id": "06bbd9fb",
   "metadata": {},
   "outputs": [
    {
     "name": "stdout",
     "output_type": "stream",
     "text": [
      "16\n",
      "8\n",
      "4\n",
      "2\n",
      "1\n"
     ]
    }
   ],
   "source": [
    "iterate_from(16)"
   ]
  },
  {
   "cell_type": "code",
   "execution_count": 14,
   "id": "f384aa31",
   "metadata": {},
   "outputs": [
    {
     "name": "stdout",
     "output_type": "stream",
     "text": [
      "15\n",
      "46\n",
      "23\n",
      "70\n",
      "35\n",
      "106\n",
      "53\n",
      "160\n",
      "80\n",
      "40\n",
      "20\n",
      "10\n",
      "5\n",
      "16\n",
      "8\n",
      "4\n",
      "2\n",
      "1\n"
     ]
    }
   ],
   "source": [
    "iterate_from(15)"
   ]
  },
  {
   "cell_type": "code",
   "execution_count": null,
   "id": "5a25c75e",
   "metadata": {},
   "outputs": [],
   "source": []
  }
 ],
 "metadata": {
  "kernelspec": {
   "display_name": "Python 3",
   "language": "python",
   "name": "python3"
  },
  "language_info": {
   "codemirror_mode": {
    "name": "ipython",
    "version": 3
   },
   "file_extension": ".py",
   "mimetype": "text/x-python",
   "name": "python",
   "nbconvert_exporter": "python",
   "pygments_lexer": "ipython3",
   "version": "3.9.5"
  }
 },
 "nbformat": 4,
 "nbformat_minor": 5
}
