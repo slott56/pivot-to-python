{
 "cells": [
  {
   "cell_type": "markdown",
   "id": "351680ab",
   "metadata": {},
   "source": [
    "# Volume of a tetrahedron.\n",
    "\n",
    "\\\\[\n",
    "    V = \\frac{a^3}{6 \\sqrt{2}}\n",
    "\\\\]"
   ]
  },
  {
   "cell_type": "markdown",
   "id": "de49ae4b",
   "metadata": {},
   "source": [
    "Real tetrahedron is irregular with three **nearly-equal** measurements."
   ]
  },
  {
   "cell_type": "code",
   "execution_count": 1,
   "id": "fedb707f",
   "metadata": {},
   "outputs": [],
   "source": [
    "a_1 = 48\n",
    "a_2 = 36\n",
    "a_3 = a_2\n",
    "a_4 = 51\n",
    "a_5 = a_4\n",
    "a_6 = 53"
   ]
  },
  {
   "cell_type": "code",
   "execution_count": 2,
   "id": "6b55cc8d",
   "metadata": {},
   "outputs": [],
   "source": [
    "a = (a_1 + a_2 + a_3 + a_4 + a_5 + a_6) / 6"
   ]
  },
  {
   "cell_type": "code",
   "execution_count": 3,
   "id": "6a1e0cc0",
   "metadata": {},
   "outputs": [
    {
     "data": {
      "text/plain": [
       "45.833333333333336"
      ]
     },
     "execution_count": 3,
     "metadata": {},
     "output_type": "execute_result"
    }
   ],
   "source": [
    "a"
   ]
  },
  {
   "cell_type": "code",
   "execution_count": 4,
   "id": "2006e531",
   "metadata": {},
   "outputs": [],
   "source": [
    "from math import sqrt"
   ]
  },
  {
   "cell_type": "code",
   "execution_count": 5,
   "id": "f780dd6e",
   "metadata": {},
   "outputs": [],
   "source": [
    "V = a**3 / (6*sqrt(2))"
   ]
  },
  {
   "cell_type": "code",
   "execution_count": 6,
   "id": "425dd98d",
   "metadata": {},
   "outputs": [
    {
     "data": {
      "text/plain": [
       "11346.922330238413"
      ]
     },
     "execution_count": 6,
     "metadata": {},
     "output_type": "execute_result"
    }
   ],
   "source": [
    "V"
   ]
  },
  {
   "cell_type": "code",
   "execution_count": 7,
   "id": "24f6de1a",
   "metadata": {},
   "outputs": [
    {
     "data": {
      "text/plain": [
       "49.120875888477975"
      ]
     },
     "execution_count": 7,
     "metadata": {},
     "output_type": "execute_result"
    }
   ],
   "source": [
    "V / 231"
   ]
  },
  {
   "cell_type": "code",
   "execution_count": 8,
   "id": "0e4643a6",
   "metadata": {},
   "outputs": [
    {
     "data": {
      "text/plain": [
       "49"
      ]
     },
     "execution_count": 8,
     "metadata": {},
     "output_type": "execute_result"
    }
   ],
   "source": [
    "round(Out[7])"
   ]
  },
  {
   "cell_type": "code",
   "execution_count": null,
   "id": "7858144a",
   "metadata": {},
   "outputs": [],
   "source": []
  }
 ],
 "metadata": {
  "kernelspec": {
   "display_name": "Python 3 (ipykernel)",
   "language": "python",
   "name": "python3"
  },
  "language_info": {
   "codemirror_mode": {
    "name": "ipython",
    "version": 3
   },
   "file_extension": ".py",
   "mimetype": "text/x-python",
   "name": "python",
   "nbconvert_exporter": "python",
   "pygments_lexer": "ipython3",
   "version": "3.12.5"
  }
 },
 "nbformat": 4,
 "nbformat_minor": 5
}
