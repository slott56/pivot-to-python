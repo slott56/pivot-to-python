{
 "cells": [
  {
   "cell_type": "code",
   "execution_count": 1,
   "id": "b4287ef2",
   "metadata": {},
   "outputs": [
    {
     "data": {
      "text/plain": [
       "3.1415929203539825"
      ]
     },
     "execution_count": 1,
     "metadata": {},
     "output_type": "execute_result"
    }
   ],
   "source": [
    "355/113"
   ]
  },
  {
   "cell_type": "code",
   "execution_count": 2,
   "id": "823bbb86",
   "metadata": {},
   "outputs": [],
   "source": [
    "e = 42"
   ]
  },
  {
   "cell_type": "code",
   "execution_count": 3,
   "id": "bee5dfe1",
   "metadata": {},
   "outputs": [
    {
     "data": {
      "text/plain": [
       "0"
      ]
     },
     "execution_count": 3,
     "metadata": {},
     "output_type": "execute_result"
    }
   ],
   "source": [
    "e % 2"
   ]
  },
  {
   "cell_type": "code",
   "execution_count": 4,
   "id": "a531ea02",
   "metadata": {},
   "outputs": [],
   "source": [
    "o = 41"
   ]
  },
  {
   "cell_type": "code",
   "execution_count": 5,
   "id": "f6b796b7",
   "metadata": {},
   "outputs": [
    {
     "data": {
      "text/plain": [
       "1"
      ]
     },
     "execution_count": 5,
     "metadata": {},
     "output_type": "execute_result"
    }
   ],
   "source": [
    "o % 2"
   ]
  },
  {
   "cell_type": "code",
   "execution_count": 6,
   "id": "4c8cd772",
   "metadata": {},
   "outputs": [],
   "source": [
    "def odd(n):\n",
    "    return n % 2 != 0"
   ]
  },
  {
   "cell_type": "code",
   "execution_count": 7,
   "id": "32ca321b",
   "metadata": {},
   "outputs": [
    {
     "data": {
      "text/plain": [
       "False"
      ]
     },
     "execution_count": 7,
     "metadata": {},
     "output_type": "execute_result"
    }
   ],
   "source": [
    "odd(42)"
   ]
  },
  {
   "cell_type": "code",
   "execution_count": 8,
   "id": "350fc10d",
   "metadata": {},
   "outputs": [
    {
     "data": {
      "text/plain": [
       "True"
      ]
     },
     "execution_count": 8,
     "metadata": {},
     "output_type": "execute_result"
    }
   ],
   "source": [
    "odd(41)"
   ]
  },
  {
   "cell_type": "code",
   "execution_count": 9,
   "id": "5d7a15ce",
   "metadata": {},
   "outputs": [],
   "source": [
    "def h(n: int) -> int:\n",
    "    if odd(n):\n",
    "        return 3 * n + 1\n",
    "    else:\n",
    "        return n // 2"
   ]
  },
  {
   "cell_type": "code",
   "execution_count": 10,
   "id": "c4a44baa",
   "metadata": {},
   "outputs": [
    {
     "data": {
      "text/plain": [
       "True"
      ]
     },
     "execution_count": 10,
     "metadata": {},
     "output_type": "execute_result"
    }
   ],
   "source": [
    "h(1) == 4 and h(4) == 2 and h(2) == 1"
   ]
  },
  {
   "cell_type": "code",
   "execution_count": null,
   "id": "b650c2db",
   "metadata": {},
   "outputs": [],
   "source": []
  }
 ],
 "metadata": {
  "kernelspec": {
   "display_name": "Python 3 (ipykernel)",
   "language": "python",
   "name": "python3"
  },
  "language_info": {
   "codemirror_mode": {
    "name": "ipython",
    "version": 3
   },
   "file_extension": ".py",
   "mimetype": "text/x-python",
   "name": "python",
   "nbconvert_exporter": "python",
   "pygments_lexer": "ipython3",
   "version": "3.12.5"
  }
 },
 "nbformat": 4,
 "nbformat_minor": 5
}
