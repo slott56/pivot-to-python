{
 "cells": [
  {
   "cell_type": "markdown",
   "id": "92e68412",
   "metadata": {},
   "source": [
    "## Case Study\n",
    "\n",
    "New alternator on an old engine.\n",
    "\n",
    "The tachometer display reflects the ratio of drive wheels on a serpentine belt. There's often a peculiar-looking ratio of engine wheel size to tach wheel size, for example, 2.3:1 or 4.65:1. When the engine is rotating at 1000 RPM, the alternator may be spinning at 2300 RPM.\n",
    "\n",
    "The new alternator has a smaller drive wheel. This means the tachometer display is now wrong.\n",
    "\n",
    "Preliminary measurements made it look like the new wheel is $\\tfrac{5}{7}$ the original wheel size. In principle it means scaling tachomter readings by $\\tfrac{5}{7} = 0.7142$.\n",
    "\n",
    "Later, with an optical device in the engine room, detailed samples were gathered. Recorded in a spreadsheet, and saved as a CSV file, `engine.csv`."
   ]
  },
  {
   "cell_type": "code",
   "execution_count": 1,
   "id": "fbca79fe",
   "metadata": {},
   "outputs": [],
   "source": [
    "from csv import DictReader\n",
    "from pathlib import Path"
   ]
  },
  {
   "cell_type": "code",
   "execution_count": 2,
   "id": "c89f01a8",
   "metadata": {},
   "outputs": [
    {
     "data": {
      "text/plain": [
       "[{'Sample': '1', 'Tach': '1000', 'Engine': '883'},\n",
       " {'Sample': '2', 'Tach': '1500', 'Engine': '1242'},\n",
       " {'Sample': '3', 'Tach': '1500', 'Engine': '1217'},\n",
       " {'Sample': '4', 'Tach': '1600', 'Engine': '1306'},\n",
       " {'Sample': '5', 'Tach': '1750', 'Engine': '1534'},\n",
       " {'Sample': '6', 'Tach': '2000', 'Engine': '1805'},\n",
       " {'Sample': '7', 'Tach': '2000', 'Engine': '1720'}]"
      ]
     },
     "execution_count": 2,
     "metadata": {},
     "output_type": "execute_result"
    }
   ],
   "source": [
    "repo = Path.cwd().parent\n",
    "source_path = repo / \"data\" / \"engine.csv\"\n",
    "with source_path.open() as source_file:\n",
    "    reader = DictReader(source_file)\n",
    "    text_tach_readings = list(reader)\n",
    "text_tach_readings"
   ]
  },
  {
   "cell_type": "markdown",
   "id": "c6d7c9e0",
   "metadata": {},
   "source": [
    "So far, so good. We have the data.\n",
    "\n",
    "It's all text, however.\n",
    "\n",
    "Since we need to convert it, we should convert it to something we can work with.\n",
    "\n",
    "A named tuple.  This is an extension to the tuple class, but it has names for each item. We'll start with the `typing.NamedTuple` definition as a base class, and extend it."
   ]
  },
  {
   "cell_type": "code",
   "execution_count": 3,
   "id": "49da1004",
   "metadata": {},
   "outputs": [],
   "source": [
    "from typing import NamedTuple\n",
    "\n",
    "class Sample(NamedTuple):\n",
    "    sample: int\n",
    "    tach: float\n",
    "    engine: float"
   ]
  },
  {
   "cell_type": "markdown",
   "id": "f1532824",
   "metadata": {},
   "source": [
    "We can build these objects from the input CSV file."
   ]
  },
  {
   "cell_type": "code",
   "execution_count": 4,
   "id": "63e3ab44",
   "metadata": {},
   "outputs": [],
   "source": [
    "def make_sample(text_row: dict[str, str]) -> Sample:\n",
    "    return Sample(\n",
    "        sample=int(text_row['Sample']),\n",
    "        tach=float(text_row['Tach']),\n",
    "        engine=float(text_row['Engine'])\n",
    "    )"
   ]
  },
  {
   "cell_type": "code",
   "execution_count": 5,
   "id": "1005517a",
   "metadata": {},
   "outputs": [],
   "source": [
    "repo = Path.cwd().parent\n",
    "source_path = repo / \"data\" / \"engine.csv\"\n",
    "with source_path.open() as source_file:\n",
    "    reader = DictReader(source_file)\n",
    "    sample_iter = (\n",
    "        make_sample(text_row) for text_row in reader\n",
    "    )\n",
    "    tach_readings = list(sample_iter)"
   ]
  },
  {
   "cell_type": "code",
   "execution_count": 6,
   "id": "42c027c8",
   "metadata": {},
   "outputs": [
    {
     "data": {
      "text/plain": [
       "[Sample(sample=1, tach=1000.0, engine=883.0),\n",
       " Sample(sample=2, tach=1500.0, engine=1242.0),\n",
       " Sample(sample=3, tach=1500.0, engine=1217.0),\n",
       " Sample(sample=4, tach=1600.0, engine=1306.0),\n",
       " Sample(sample=5, tach=1750.0, engine=1534.0),\n",
       " Sample(sample=6, tach=2000.0, engine=1805.0),\n",
       " Sample(sample=7, tach=2000.0, engine=1720.0)]"
      ]
     },
     "execution_count": 6,
     "metadata": {},
     "output_type": "execute_result"
    }
   ],
   "source": [
    "tach_readings"
   ]
  },
  {
   "cell_type": "markdown",
   "id": "ff037532",
   "metadata": {},
   "source": [
    "Let's work through this carefully.\n",
    "\n",
    "We create a `DictReader`. This is an iterable of `dict[str, str]` -- each dictionary is a row from the CSV file. It's assinged to the `reader` variable.\n",
    "\n",
    "`sample_iter` is a generator expression. It consumes the rows in the `reader` object.  It performs a computation on each row, creating a `Sample()` object from the input row.\n",
    "\n",
    "This expression's input is `Iterable[dict[str, str]]`. Output is `Iterator[float]`. We could make this into a generator function, if the conversion processing become more complex. \n",
    "\n",
    "The final result `tach_readings` is a list, built from the generated sequence of `Sample` objects."
   ]
  },
  {
   "cell_type": "markdown",
   "id": "6fd15944",
   "metadata": {},
   "source": [
    "## The Questions:\n",
    "\n",
    "- How well does our initial model correlate with the actual engine?\n",
    "\n",
    "- How well does tach reading correlate with the actual engine?\n",
    "\n",
    "Clearly, we need to compute correlation coefficients.\n",
    "\n",
    "## Correlation Coefficient\n",
    "\n",
    "Here's the formula for computing the coefficient of correlation between two \n",
    "sequences of values, $x$ and $y$.\n",
    "\n",
    "\\\\[ r_{xy} = \\frac{\\sum x y - n \\bar x \\bar y}{(n-1)\\sigma_x\\sigma_y} \\\\]\n",
    "\n",
    "This means this requires the following intermediate results:\n",
    "\n",
    "- $\\sum x y$\n",
    "- $\\bar x$, the mean of x\n",
    "- $\\bar y$, the mean of y\n",
    "- $\\sigma_x$, the standard deviation of x\n",
    "- $\\sigma_y$, the standard deviation of y\n",
    "- $n$, the number of samples\n",
    "\n",
    "Here are two more formulae for $\\bar x$, $\\bar y$, $\\sigma_x$, and $\\sigma_y$:\n",
    "\n",
    "\\\\[ \n",
    "\\begin{align}\n",
    "\\bar x& = \\frac{\\sum x}{n}\n",
    "\\\\\n",
    "\\sigma_x& = \\sqrt{\\frac{\\frac{\\sum x^2}{n-1}-\\left( \\frac{\\sum x}{n} \\right) ^ 2}{n-1}} \n",
    "\\end{align}\n",
    "\\\\] \n",
    "\n",
    "\n",
    "These require\n",
    "\n",
    "- $\\sum x$\n",
    "- $\\sum x^2$\n",
    "\n",
    "In and among the various symbols like $\\bar x$ and $\\sigma_y$, it appears\n",
    "that this computation requires a bunch of intermediate sums. \n",
    "\n",
    "We'll need some functions for simple sum. sum of squares, sum of products."
   ]
  },
  {
   "cell_type": "markdown",
   "id": "9ab55c87",
   "metadata": {},
   "source": [
    "## Some Statistical Tools\n",
    "\n",
    "As a test case, we'll like some data with known values for means and standard deviations.\n",
    "That way we can check the ourselves. There are four small data sets called *Anscombe's Quartet* that's handy for this kind of testing.\n",
    "\n",
    "- $\\bar x = 9$\n",
    "- $\\bar y \\approx 7.50$\n",
    "- $\\sigma_x \\approx \\sqrt {11} = 3.316$\n",
    "- $\\sigma_y \\approx \\sqrt {4.125} = 2.031$\n",
    "- $r_{xy} \\approx 0.816$\n",
    "- Regression: $y = 3 + 0.5 x$\n",
    "\n",
    "See https://www.kaggle.com/carlmcbrideellis/data-anscombes-quartet/version/1 for test data.\n",
    "\n",
    "This CSV file has six columns:\n",
    "- x123\n",
    "- y1\n",
    "- y2\n",
    "- y3\n",
    "- x4\n",
    "- y4\n",
    "\n",
    "To create any of the four series, use one of these combinations of columns:\n",
    "\n",
    "1. (x123, y1)\n",
    "2. (x123, y2)\n",
    "3. (x123, y3)\n",
    "4. (x4, y4)\n",
    "\n",
    "We want to create a similar structure to our engine samples, so we'll have similar-looking code.\n",
    "\n",
    "We also need to define this series to column-pair mapping.\n",
    "\n",
    "It helps to parallel the `make_sample()` function with a `make_anscome()` function that uses the series number to decide which two columns to use."
   ]
  },
  {
   "cell_type": "code",
   "execution_count": 7,
   "id": "31edd70c",
   "metadata": {},
   "outputs": [
    {
     "data": {
      "text/plain": [
       "[Anscombe(x=10.0, y=8.04),\n",
       " Anscombe(x=8.0, y=6.95),\n",
       " Anscombe(x=13.0, y=7.58),\n",
       " Anscombe(x=9.0, y=8.81),\n",
       " Anscombe(x=11.0, y=8.33),\n",
       " Anscombe(x=14.0, y=9.96),\n",
       " Anscombe(x=6.0, y=7.24),\n",
       " Anscombe(x=4.0, y=4.26),\n",
       " Anscombe(x=12.0, y=10.84),\n",
       " Anscombe(x=7.0, y=4.82),\n",
       " Anscombe(x=5.0, y=5.68)]"
      ]
     },
     "execution_count": 7,
     "metadata": {},
     "output_type": "execute_result"
    }
   ],
   "source": [
    "class Anscombe(NamedTuple):\n",
    "    x: float\n",
    "    y: float\n",
    "        \n",
    "def make_anscombe(\n",
    "        text_row: dict[str, str], \n",
    "        series: int = 1\n",
    ") -> Anscombe:\n",
    "    pairs = {\n",
    "        1: (\"x123\", \"y1\"),\n",
    "        2: (\"x123\", \"y2\"),\n",
    "        3: (\"x123\", \"y3\"),\n",
    "        4: (\"x4\", \"y4\"),\n",
    "    }\n",
    "\n",
    "    x_col, y_col = pairs[series]\n",
    "    return Anscombe(\n",
    "        float(text_row[x_col]),\n",
    "        float(text_row[y_col])\n",
    "    )\n",
    "    \n",
    "repo = Path.cwd().parent\n",
    "series_source = repo / \"data\" / \"Anscombe_quartet_data.csv\"\n",
    "with series_source.open() as source:\n",
    "    reader = DictReader(source)\n",
    "    anscome_iter = (\n",
    "        make_anscombe(text_row)\n",
    "        for text_row in reader\n",
    "    )\n",
    "    test_series = list(anscome_iter)\n",
    "    \n",
    "test_series"
   ]
  },
  {
   "cell_type": "code",
   "execution_count": 8,
   "id": "9b7f43a0",
   "metadata": {},
   "outputs": [],
   "source": [
    "from collections.abc import Iterable"
   ]
  },
  {
   "cell_type": "code",
   "execution_count": 9,
   "id": "895ecd42",
   "metadata": {},
   "outputs": [],
   "source": [
    "def sum_2(data: Iterable[float]) -> float:\n",
    "    return sum(v**2 for v in data)"
   ]
  },
  {
   "cell_type": "code",
   "execution_count": 10,
   "id": "1f5034f9",
   "metadata": {},
   "outputs": [],
   "source": [
    "def sum_prod(s_1: Iterable[float], s_2: Iterable[float]) -> float:\n",
    "    pairs = zip(s_1, s_2)\n",
    "    return sum(\n",
    "        x*y for x, y in pairs\n",
    "    )"
   ]
  },
  {
   "cell_type": "code",
   "execution_count": 11,
   "id": "8db705dc",
   "metadata": {},
   "outputs": [],
   "source": [
    "def mean(data: list[float]) -> float:\n",
    "    return sum(data) / len(data)"
   ]
  },
  {
   "cell_type": "code",
   "execution_count": 12,
   "id": "3e784bac",
   "metadata": {},
   "outputs": [],
   "source": [
    "from math import sqrt\n",
    "\n",
    "def stdev(data: list[float]) -> float:\n",
    "    n = len(data)\n",
    "    mean_2 = (sum(data) / n) ** 2\n",
    "    squares = sum_2(data) / (n-1)\n",
    "    return sqrt(squares - mean_2 * n / (n - 1))"
   ]
  },
  {
   "cell_type": "code",
   "execution_count": 13,
   "id": "3fe1aa3e",
   "metadata": {},
   "outputs": [
    {
     "data": {
      "text/plain": [
       "9.0"
      ]
     },
     "execution_count": 13,
     "metadata": {},
     "output_type": "execute_result"
    }
   ],
   "source": [
    "mean([s.x for s in test_series])"
   ]
  },
  {
   "cell_type": "code",
   "execution_count": 14,
   "id": "85ae2200",
   "metadata": {},
   "outputs": [
    {
     "data": {
      "text/plain": [
       "7.500909090909091"
      ]
     },
     "execution_count": 14,
     "metadata": {},
     "output_type": "execute_result"
    }
   ],
   "source": [
    "mean([s.y for s in test_series])"
   ]
  },
  {
   "cell_type": "code",
   "execution_count": 15,
   "id": "9264d3ec",
   "metadata": {},
   "outputs": [
    {
     "data": {
      "text/plain": [
       "3.3166247903554"
      ]
     },
     "execution_count": 15,
     "metadata": {},
     "output_type": "execute_result"
    }
   ],
   "source": [
    "stdev([s.x for s in test_series])"
   ]
  },
  {
   "cell_type": "code",
   "execution_count": 16,
   "id": "acfafa07",
   "metadata": {},
   "outputs": [
    {
     "data": {
      "text/plain": [
       "2.031568135925813"
      ]
     },
     "execution_count": 16,
     "metadata": {},
     "output_type": "execute_result"
    }
   ],
   "source": [
    "stdev([s.y for s in test_series])"
   ]
  },
  {
   "cell_type": "code",
   "execution_count": 17,
   "id": "d2bc5045",
   "metadata": {},
   "outputs": [],
   "source": [
    "from math import isclose\n",
    "assert isclose(mean([s.x for s in test_series]), 9.0)\n",
    "assert isclose(mean([s.y for s in test_series]), 7.5, abs_tol=1E-3)\n",
    "assert isclose(stdev([s.x for s in test_series]), 3.316, abs_tol=1E-3)\n",
    "assert isclose(stdev([s.y for s in test_series]), 2.031, abs_tol=1E-3)"
   ]
  },
  {
   "cell_type": "code",
   "execution_count": 18,
   "id": "450a3be0",
   "metadata": {},
   "outputs": [],
   "source": [
    "def corr(s_1: list[float], s_2: list[float]) -> float:\n",
    "    n = len(s_1)\n",
    "    num = sum_prod(s_1, s_2) - n * mean(s_1) * mean(s_2)\n",
    "    den = (n-1) * stdev(s_1) * stdev(s_2)\n",
    "    return num / den"
   ]
  },
  {
   "cell_type": "code",
   "execution_count": 19,
   "id": "efec4cbb",
   "metadata": {},
   "outputs": [
    {
     "data": {
      "text/plain": [
       "0.8164205163448406"
      ]
     },
     "execution_count": 19,
     "metadata": {},
     "output_type": "execute_result"
    }
   ],
   "source": [
    "corr([s.x for s in test_series], [s.y for s in test_series])"
   ]
  },
  {
   "cell_type": "code",
   "execution_count": 20,
   "id": "50dff859",
   "metadata": {},
   "outputs": [],
   "source": [
    "assert isclose(corr([s.x for s in test_series], [s.y for s in test_series]), 0.816, abs_tol=1E-3)"
   ]
  },
  {
   "cell_type": "markdown",
   "id": "6b5d865d",
   "metadata": {},
   "source": [
    "## Now That We Have Stats"
   ]
  },
  {
   "cell_type": "markdown",
   "id": "32cd35f2",
   "metadata": {},
   "source": [
    "First, tach vs. engine correlation? Are these consistent?"
   ]
  },
  {
   "cell_type": "code",
   "execution_count": 21,
   "id": "f0948dfa",
   "metadata": {},
   "outputs": [
    {
     "data": {
      "text/plain": [
       "0.9847275588081925"
      ]
     },
     "execution_count": 21,
     "metadata": {},
     "output_type": "execute_result"
    }
   ],
   "source": [
    "corr([s.tach for s in tach_readings], [s.engine for s in tach_readings])"
   ]
  },
  {
   "cell_type": "markdown",
   "id": "6719a15c",
   "metadata": {},
   "source": [
    "That's wonderful to see. It means the optical device and the tachometer are likely to agree.\n",
    "\n",
    "The question now, is how far wrong is this model? What's the range of gaps between model engine RPM's and actual engine RPM's."
   ]
  },
  {
   "cell_type": "code",
   "execution_count": 22,
   "id": "fb039d06",
   "metadata": {},
   "outputs": [],
   "source": [
    "def engine_1(s: Sample):\n",
    "    return s.tach * 0.7142"
   ]
  },
  {
   "cell_type": "code",
   "execution_count": 23,
   "id": "d267e106",
   "metadata": {},
   "outputs": [],
   "source": [
    "diffs_1 = [\n",
    "    engine_1(s) - s.engine for s in tach_readings\n",
    "]"
   ]
  },
  {
   "cell_type": "code",
   "execution_count": 24,
   "id": "270d48b4",
   "metadata": {},
   "outputs": [
    {
     "data": {
      "text/plain": [
       "(-376.60000000000014, -145.70000000000005, -228.6900000000001)"
      ]
     },
     "execution_count": 24,
     "metadata": {},
     "output_type": "execute_result"
    }
   ],
   "source": [
    "min(diffs_1), max(diffs_1), mean(diffs_1)"
   ]
  },
  {
   "cell_type": "markdown",
   "id": "83745b79",
   "metadata": {},
   "source": [
    "The predictions of the `engine_1()` model are wrong by anywhere from 146 to 376 RPM's. On average, it's wrong by 228 RPMS.  And, since all the numbers are negative, the model is consistently too low.\n",
    "\n",
    "This is, perhaps, less than ideal."
   ]
  },
  {
   "cell_type": "markdown",
   "id": "a829d69c",
   "metadata": {},
   "source": [
    "## Visual Aids"
   ]
  },
  {
   "cell_type": "code",
   "execution_count": 25,
   "id": "71dbe1b2",
   "metadata": {},
   "outputs": [],
   "source": [
    "%matplotlib inline\n",
    "import matplotlib.pyplot as plt"
   ]
  },
  {
   "cell_type": "code",
   "execution_count": 26,
   "id": "c0163700",
   "metadata": {},
   "outputs": [],
   "source": [
    "x = [s.tach for s in tach_readings]\n",
    "y = [s.engine for s in tach_readings]\n",
    "est_1 = [engine_1(s) for s in tach_readings]"
   ]
  },
  {
   "cell_type": "code",
   "execution_count": 27,
   "id": "28444d2a",
   "metadata": {},
   "outputs": [
    {
     "data": {
      "text/plain": [
       "[<matplotlib.lines.Line2D at 0x114f3c440>]"
      ]
     },
     "execution_count": 27,
     "metadata": {},
     "output_type": "execute_result"
    },
    {
     "data": {
      "image/png": "[encoded data removed]",
      "text/plain": [
       "<Figure size 640x480 with 1 Axes>"
      ]
     },
     "metadata": {},
     "output_type": "display_data"
    }
   ],
   "source": [
    "plt.plot(x, y, 'o', color='blue')\n",
    "plt.plot(x, est_1, '+', color='black')"
   ]
  },
  {
   "cell_type": "code",
   "execution_count": 28,
   "id": "a761e946-7d6c-4a52-ae04-be4cddfe71e8",
   "metadata": {},
   "outputs": [
    {
     "data": {
      "text/plain": [
       "<Figure size 640x480 with 0 Axes>"
      ]
     },
     "metadata": {},
     "output_type": "display_data"
    }
   ],
   "source": [
    "plt.savefig(\"corr1.png\", format=\"png\")"
   ]
  },
  {
   "cell_type": "markdown",
   "id": "1b232625",
   "metadata": {},
   "source": [
    "The estimations are consistently below the actual values. And they seem to have a wrong slope."
   ]
  },
  {
   "cell_type": "markdown",
   "id": "098eed88",
   "metadata": {},
   "source": [
    "## Linear Regression\n",
    "\n",
    "Given the correlation value, $r_{xy}$, we can compute the linear regression $y = a + bx$ line as follows:\n",
    "\n",
    "\\\\[\n",
    "\\begin{align}\n",
    "b& = \\frac{\\sum {x}{y} - n  \\bar x \\bar y}{(n-1){\\sigma_x} ^ 2} = r_{xy} \\frac {\\sigma_y}{\\sigma_x}\n",
    "\\\\\n",
    "a& = \\bar y - b \\bar x\n",
    "\\end{align}\n",
    "\\\\]\n",
    "\n",
    "This doesn't seem to require any new computations."
   ]
  },
  {
   "cell_type": "code",
   "execution_count": 29,
   "id": "026fd8bb",
   "metadata": {},
   "outputs": [],
   "source": [
    "def regression(s_1: list[float], s_2: list[float]) -> tuple[float, float]:\n",
    "    b = corr(s_1, s_2) * stdev(s_2)/stdev(s_1)\n",
    "    a = mean(s_2) - b * mean(s_1)\n",
    "    return a, b"
   ]
  },
  {
   "cell_type": "markdown",
   "id": "f2979b7e",
   "metadata": {},
   "source": [
    "Test Case using the `test_series`."
   ]
  },
  {
   "cell_type": "code",
   "execution_count": 30,
   "id": "e1bfa403",
   "metadata": {},
   "outputs": [
    {
     "data": {
      "text/plain": [
       "(3.0000909090909094, 0.500090909090909)"
      ]
     },
     "execution_count": 30,
     "metadata": {},
     "output_type": "execute_result"
    }
   ],
   "source": [
    "regression([s.x for s in test_series], [s.y for s in test_series])"
   ]
  },
  {
   "cell_type": "markdown",
   "id": "b0c42c70",
   "metadata": {},
   "source": [
    "The above means $y = a + bx = 3 + 0.5x$. This was the expected answer from Anscombe's Quartet."
   ]
  },
  {
   "cell_type": "code",
   "execution_count": 31,
   "id": "909303ae",
   "metadata": {},
   "outputs": [
    {
     "name": "stdout",
     "output_type": "stream",
     "text": [
      "10.00  8.04 model= 8.00\n",
      " 8.00  6.95 model= 7.00\n",
      "13.00  7.58 model= 9.50\n",
      " 9.00  8.81 model= 7.50\n",
      "11.00  8.33 model= 8.50\n",
      "14.00  9.96 model=10.00\n",
      " 6.00  7.24 model= 6.00\n",
      " 4.00  4.26 model= 5.00\n",
      "12.00 10.84 model= 9.00\n",
      " 7.00  4.82 model= 6.50\n",
      " 5.00  5.68 model= 5.50\n"
     ]
    }
   ],
   "source": [
    "a, b = regression([s.x for s in test_series], [s.y for s in test_series])\n",
    "for s in test_series:\n",
    "    print(f\"{s.x:5.2f} {s.y:5.2f} model={a+b*s.x:5.2f}\")"
   ]
  },
  {
   "cell_type": "markdown",
   "id": "cd335931",
   "metadata": {},
   "source": [
    "## Regression applied to engine data\n",
    "\n",
    "This is the crux of the problem."
   ]
  },
  {
   "cell_type": "code",
   "execution_count": 32,
   "id": "edd151cf",
   "metadata": {},
   "outputs": [],
   "source": [
    "a, b = regression(\n",
    "    [s.tach for s in tach_readings], \n",
    "    [s.engine for s in tach_readings]\n",
    ")"
   ]
  },
  {
   "cell_type": "code",
   "execution_count": 33,
   "id": "315c906f",
   "metadata": {},
   "outputs": [
    {
     "data": {
      "text/plain": [
       "'engine = -92.9 + 0.91 × tach'"
      ]
     },
     "execution_count": 33,
     "metadata": {},
     "output_type": "execute_result"
    }
   ],
   "source": [
    "f\"engine = {a:.1f} + {b:.2f} × tach\""
   ]
  },
  {
   "cell_type": "code",
   "execution_count": 34,
   "id": "b3a2bb43",
   "metadata": {},
   "outputs": [],
   "source": [
    "def engine_2(s: Sample):\n",
    "    return -92.9 + 0.91 * s.tach"
   ]
  },
  {
   "cell_type": "code",
   "execution_count": 35,
   "id": "9d2b2e13",
   "metadata": {},
   "outputs": [],
   "source": [
    "diffs_2 = [\n",
    "    engine_2(s) - s.engine for s in tach_readings\n",
    "]"
   ]
  },
  {
   "cell_type": "code",
   "execution_count": 36,
   "id": "1e000c2b",
   "metadata": {},
   "outputs": [
    {
     "data": {
      "text/plain": [
       "(-77.90000000000009, 57.09999999999991, -4.114285714285789)"
      ]
     },
     "execution_count": 36,
     "metadata": {},
     "output_type": "execute_result"
    }
   ],
   "source": [
    "min(diffs_2), max(diffs_2), mean(diffs_2)"
   ]
  },
  {
   "cell_type": "markdown",
   "id": "12255b3c",
   "metadata": {},
   "source": [
    "This is much nicer. The differences are less than 80 RPM, and they vary in sign between negative and positive. The averge is less than 5 RPM."
   ]
  },
  {
   "cell_type": "code",
   "execution_count": 37,
   "id": "38bd56ff",
   "metadata": {},
   "outputs": [],
   "source": [
    "est_2 = [engine_2(s) for s in tach_readings]"
   ]
  },
  {
   "cell_type": "code",
   "execution_count": 38,
   "id": "d4394091",
   "metadata": {},
   "outputs": [
    {
     "data": {
      "text/plain": [
       "Text(0.5, 1.0, 'Regression Model')"
      ]
     },
     "execution_count": 38,
     "metadata": {},
     "output_type": "execute_result"
    },
    {
     "data": {
      "image/png": "[encoded data removed]",
      "text/plain": [
       "<Figure size 640x480 with 1 Axes>"
      ]
     },
     "metadata": {},
     "output_type": "display_data"
    }
   ],
   "source": [
    "data, = plt.plot(x, y, 'o', color='blue', \n",
    "                 label='source data')\n",
    "model, = plt.plot(x, est_2, '+', color='black', \n",
    "                  label='engine_2: $e=-92.9 + 0.91t$')\n",
    "plt.legend(handles=[data, model])\n",
    "plt.ylabel('engine RPM')\n",
    "plt.xlabel('tachometer display')\n",
    "plt.title('Regression Model')"
   ]
  },
  {
   "cell_type": "code",
   "execution_count": null,
   "id": "80a0324d-cdaf-4fea-9128-618b885dcc3c",
   "metadata": {},
   "outputs": [],
   "source": [
    "plt.savefig(\"corr2.png\", format=\"png\")"
   ]
  },
  {
   "cell_type": "markdown",
   "id": "27ee12b5",
   "metadata": {},
   "source": [
    "This shows how well the new model fits the available data points."
   ]
  },
  {
   "cell_type": "markdown",
   "id": "1852f8e6",
   "metadata": {},
   "source": [
    "## Summary\n",
    "\n",
    "We followed a typical process for working with data in a Python. We opened a Jupyter Lab notebook, and loaded the data. \n",
    "\n",
    "We then defined some functions in the notebook. In the long run, it's slightly better to save the functions in a module file and import the module into the notebook. When getting started with new data or a new problem domain, defining functions in the notebook keeps everything in one place.\n",
    "\n",
    "The process of defining the functions was done by first pasting the relevant background information into markdown cell. Then defining a function that matched the definition, then testing the function to be sure it worked.\n",
    "\n",
    "Once the preliminaries of data and processing were completed, we could move on to applying the processing to the available data.\n",
    "\n",
    "First, we saw a good correlation between the measurements taken with the optical device and the display shown on the tachometer. This told us we were using the optical device correctly, and had not introduced some  measurement error.\n",
    "\n",
    "Second, we saw that our initial model was consistently wrong about predicting actual engine RPM's from the tachometer display.\n",
    "\n",
    "Third, we used linear regression to create a better model. This made consistently correct predictions of RPM given tachometer display.\n",
    "\n",
    "The results are all in a single notebook for further review and follow-on work."
   ]
  },
  {
   "cell_type": "code",
   "execution_count": null,
   "id": "2a1b6503",
   "metadata": {},
   "outputs": [],
   "source": []
  }
 ],
 "metadata": {
  "kernelspec": {
   "display_name": "Python 3 (ipykernel)",
   "language": "python",
   "name": "python3"
  },
  "language_info": {
   "codemirror_mode": {
    "name": "ipython",
    "version": 3
   },
   "file_extension": ".py",
   "mimetype": "text/x-python",
   "name": "python",
   "nbconvert_exporter": "python",
   "pygments_lexer": "ipython3",
   "version": "3.12.5"
  }
 },
 "nbformat": 4,
 "nbformat_minor": 5
}
