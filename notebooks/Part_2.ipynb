{
 "cells": [
  {
   "cell_type": "markdown",
   "id": "309d62f8",
   "metadata": {},
   "source": [
    "# Part 2: Built-in data structures: list, set, dictionary, tuple"
   ]
  },
  {
   "cell_type": "markdown",
   "id": "9aebb26c",
   "metadata": {},
   "source": [
    "## Agenda\n",
    "\n",
    "1.  Numbers\n",
    "\n",
    "2.  Strings\n",
    "\n",
    "3.  Booleans\n",
    "\n",
    "4.  Tuples\n",
    "\n",
    "5.  Mutable Data Structures\n",
    "\n",
    "    a.  Sets\n",
    "\n",
    "    b.  Lists\n",
    "\n",
    "    c.  Dictionaries\n",
    "    \n",
    "    d.  Composites: list of dict \n",
    "    \n",
    "6. Assignment and Variables"
   ]
  },
  {
   "cell_type": "markdown",
   "id": "01ebdcf8",
   "metadata": {},
   "source": [
    "## 1. Numbers\n",
    "\n",
    "Integers\n",
    "\n",
    "Floats\n",
    "\n",
    "Complex"
   ]
  },
  {
   "cell_type": "code",
   "execution_count": 1,
   "id": "84283d56",
   "metadata": {},
   "outputs": [
    {
     "data": {
      "text/plain": [
       "468"
      ]
     },
     "execution_count": 1,
     "metadata": {},
     "output_type": "execute_result"
    }
   ],
   "source": [
    "355 + 113"
   ]
  },
  {
   "cell_type": "code",
   "execution_count": 2,
   "id": "653893bf",
   "metadata": {},
   "outputs": [
    {
     "data": {
      "text/plain": [
       "3.1415929203539825"
      ]
     },
     "execution_count": 2,
     "metadata": {},
     "output_type": "execute_result"
    }
   ],
   "source": [
    "355. / 113."
   ]
  },
  {
   "cell_type": "code",
   "execution_count": 3,
   "id": "e5caf549",
   "metadata": {},
   "outputs": [
    {
     "data": {
      "text/plain": [
       "(6.5+13j)"
      ]
     },
     "execution_count": 3,
     "metadata": {},
     "output_type": "execute_result"
    }
   ],
   "source": [
    "(2 + 3j) * (4 + .5j)"
   ]
  },
  {
   "cell_type": "markdown",
   "id": "e4122903",
   "metadata": {},
   "source": [
    "Limits:\n",
    "\n",
    "Integers have no limits. If you try to create too large a number, you really can fill memory and crash.  But it's a big number.\n",
    "\n",
    "Float is IEEE 64-bit floats. \n",
    "\n",
    "Complex is a pair of 64-bit floats."
   ]
  },
  {
   "cell_type": "code",
   "execution_count": 4,
   "id": "e56d4687",
   "metadata": {},
   "outputs": [
    {
     "data": {
      "text/plain": [
       "32317006071311007300714876688669951960444102669715484032130345427524655138867890893197201411522913463688717960921898019494119559150490921095088152386448283120630877367300996091750197750389652106796057638384067568276792218642619756161838094338476170470581645852036305042887575891541065808607552399123930385521914333389668342420684974786564569494856176035326322058077805659331026192708460314150258592864177116725943603718461857357598351152301645904403697613233287231227125684710820209725157101726931323469678542580656697935045997268352998638215525166389437335543602135433229604645318478604952148193555853611059596230656"
      ]
     },
     "execution_count": 4,
     "metadata": {},
     "output_type": "execute_result"
    }
   ],
   "source": [
    "2**2048"
   ]
  },
  {
   "cell_type": "markdown",
   "id": "f5d5f817",
   "metadata": {},
   "source": [
    "## Built-in functions"
   ]
  },
  {
   "cell_type": "code",
   "execution_count": 5,
   "id": "2a005af9",
   "metadata": {},
   "outputs": [
    {
     "data": {
      "text/plain": [
       "42.0"
      ]
     },
     "execution_count": 5,
     "metadata": {},
     "output_type": "execute_result"
    }
   ],
   "source": [
    "float(\"42\")"
   ]
  },
  {
   "cell_type": "code",
   "execution_count": 6,
   "id": "988d0d9c",
   "metadata": {},
   "outputs": [
    {
     "data": {
      "text/plain": [
       "2"
      ]
     },
     "execution_count": 6,
     "metadata": {},
     "output_type": "execute_result"
    }
   ],
   "source": [
    "int(2.718281828459045)"
   ]
  },
  {
   "cell_type": "markdown",
   "id": "91afd27c",
   "metadata": {},
   "source": [
    "## The math library"
   ]
  },
  {
   "cell_type": "code",
   "execution_count": 7,
   "id": "77b16894",
   "metadata": {},
   "outputs": [],
   "source": [
    "import math"
   ]
  },
  {
   "cell_type": "code",
   "execution_count": 8,
   "id": "a37826d8",
   "metadata": {},
   "outputs": [
    {
     "data": {
      "text/plain": [
       "1.4142135623730951"
      ]
     },
     "execution_count": 8,
     "metadata": {},
     "output_type": "execute_result"
    }
   ],
   "source": [
    "math.sqrt(2)"
   ]
  },
  {
   "cell_type": "code",
   "execution_count": 9,
   "id": "4fa6bd2f",
   "metadata": {},
   "outputs": [
    {
     "name": "stdout",
     "output_type": "stream",
     "text": [
      "Help on built-in module math:\n",
      "\n",
      "NAME\n",
      "    math\n",
      "\n",
      "DESCRIPTION\n",
      "    This module provides access to the mathematical functions\n",
      "    defined by the C standard.\n",
      "\n",
      "FUNCTIONS\n",
      "    acos(x, /)\n",
      "        Return the arc cosine (measured in radians) of x.\n",
      "\n",
      "        The result is between 0 and pi.\n",
      "\n",
      "    acosh(x, /)\n",
      "        Return the inverse hyperbolic cosine of x.\n",
      "\n",
      "    asin(x, /)\n",
      "        Return the arc sine (measured in radians) of x.\n",
      "\n",
      "        The result is between -pi/2 and pi/2.\n",
      "\n",
      "    asinh(x, /)\n",
      "        Return the inverse hyperbolic sine of x.\n",
      "\n",
      "    atan(x, /)\n",
      "        Return the arc tangent (measured in radians) of x.\n",
      "\n",
      "        The result is between -pi/2 and pi/2.\n",
      "\n",
      "    atan2(y, x, /)\n",
      "        Return the arc tangent (measured in radians) of y/x.\n",
      "\n",
      "        Unlike atan(y/x), the signs of both x and y are considered.\n",
      "\n",
      "    atanh(x, /)\n",
      "        Return the inverse hyperbolic tangent of x.\n",
      "\n",
      "    cbrt(x, /)\n",
      "        Return the cube root of x.\n",
      "\n",
      "    ceil(x, /)\n",
      "        Return the ceiling of x as an Integral.\n",
      "\n",
      "        This is the smallest integer >= x.\n",
      "\n",
      "    comb(n, k, /)\n",
      "        Number of ways to choose k items from n items without repetition and without order.\n",
      "\n",
      "        Evaluates to n! / (k! * (n - k)!) when k <= n and evaluates\n",
      "        to zero when k > n.\n",
      "\n",
      "        Also called the binomial coefficient because it is equivalent\n",
      "        to the coefficient of k-th term in polynomial expansion of the\n",
      "        expression (1 + x)**n.\n",
      "\n",
      "        Raises TypeError if either of the arguments are not integers.\n",
      "        Raises ValueError if either of the arguments are negative.\n",
      "\n",
      "    copysign(x, y, /)\n",
      "        Return a float with the magnitude (absolute value) of x but the sign of y.\n",
      "\n",
      "        On platforms that support signed zeros, copysign(1.0, -0.0)\n",
      "        returns -1.0.\n",
      "\n",
      "    cos(x, /)\n",
      "        Return the cosine of x (measured in radians).\n",
      "\n",
      "    cosh(x, /)\n",
      "        Return the hyperbolic cosine of x.\n",
      "\n",
      "    degrees(x, /)\n",
      "        Convert angle x from radians to degrees.\n",
      "\n",
      "    dist(p, q, /)\n",
      "        Return the Euclidean distance between two points p and q.\n",
      "\n",
      "        The points should be specified as sequences (or iterables) of\n",
      "        coordinates.  Both inputs must have the same dimension.\n",
      "\n",
      "        Roughly equivalent to:\n",
      "            sqrt(sum((px - qx) ** 2.0 for px, qx in zip(p, q)))\n",
      "\n",
      "    erf(x, /)\n",
      "        Error function at x.\n",
      "\n",
      "    erfc(x, /)\n",
      "        Complementary error function at x.\n",
      "\n",
      "    exp(x, /)\n",
      "        Return e raised to the power of x.\n",
      "\n",
      "    exp2(x, /)\n",
      "        Return 2 raised to the power of x.\n",
      "\n",
      "    expm1(x, /)\n",
      "        Return exp(x)-1.\n",
      "\n",
      "        This function avoids the loss of precision involved in the direct evaluation of exp(x)-1 for small x.\n",
      "\n",
      "    fabs(x, /)\n",
      "        Return the absolute value of the float x.\n",
      "\n",
      "    factorial(n, /)\n",
      "        Find n!.\n",
      "\n",
      "        Raise a ValueError if x is negative or non-integral.\n",
      "\n",
      "    floor(x, /)\n",
      "        Return the floor of x as an Integral.\n",
      "\n",
      "        This is the largest integer <= x.\n",
      "\n",
      "    fmod(x, y, /)\n",
      "        Return fmod(x, y), according to platform C.\n",
      "\n",
      "        x % y may differ.\n",
      "\n",
      "    frexp(x, /)\n",
      "        Return the mantissa and exponent of x, as pair (m, e).\n",
      "\n",
      "        m is a float and e is an int, such that x = m * 2.**e.\n",
      "        If x is 0, m and e are both 0.  Else 0.5 <= abs(m) < 1.0.\n",
      "\n",
      "    fsum(seq, /)\n",
      "        Return an accurate floating-point sum of values in the iterable seq.\n",
      "\n",
      "        Assumes IEEE-754 floating-point arithmetic.\n",
      "\n",
      "    gamma(x, /)\n",
      "        Gamma function at x.\n",
      "\n",
      "    gcd(*integers)\n",
      "        Greatest Common Divisor.\n",
      "\n",
      "    hypot(...)\n",
      "        hypot(*coordinates) -> value\n",
      "\n",
      "        Multidimensional Euclidean distance from the origin to a point.\n",
      "\n",
      "        Roughly equivalent to:\n",
      "            sqrt(sum(x**2 for x in coordinates))\n",
      "\n",
      "        For a two dimensional point (x, y), gives the hypotenuse\n",
      "        using the Pythagorean theorem:  sqrt(x*x + y*y).\n",
      "\n",
      "        For example, the hypotenuse of a 3/4/5 right triangle is:\n",
      "\n",
      "            >>> hypot(3.0, 4.0)\n",
      "            5.0\n",
      "\n",
      "    isclose(a, b, *, rel_tol=1e-09, abs_tol=0.0)\n",
      "        Determine whether two floating-point numbers are close in value.\n",
      "\n",
      "          rel_tol\n",
      "            maximum difference for being considered \"close\", relative to the\n",
      "            magnitude of the input values\n",
      "          abs_tol\n",
      "            maximum difference for being considered \"close\", regardless of the\n",
      "            magnitude of the input values\n",
      "\n",
      "        Return True if a is close in value to b, and False otherwise.\n",
      "\n",
      "        For the values to be considered close, the difference between them\n",
      "        must be smaller than at least one of the tolerances.\n",
      "\n",
      "        -inf, inf and NaN behave similarly to the IEEE 754 Standard.  That\n",
      "        is, NaN is not close to anything, even itself.  inf and -inf are\n",
      "        only close to themselves.\n",
      "\n",
      "    isfinite(x, /)\n",
      "        Return True if x is neither an infinity nor a NaN, and False otherwise.\n",
      "\n",
      "    isinf(x, /)\n",
      "        Return True if x is a positive or negative infinity, and False otherwise.\n",
      "\n",
      "    isnan(x, /)\n",
      "        Return True if x is a NaN (not a number), and False otherwise.\n",
      "\n",
      "    isqrt(n, /)\n",
      "        Return the integer part of the square root of the input.\n",
      "\n",
      "    lcm(*integers)\n",
      "        Least Common Multiple.\n",
      "\n",
      "    ldexp(x, i, /)\n",
      "        Return x * (2**i).\n",
      "\n",
      "        This is essentially the inverse of frexp().\n",
      "\n",
      "    lgamma(x, /)\n",
      "        Natural logarithm of absolute value of Gamma function at x.\n",
      "\n",
      "    log(...)\n",
      "        log(x, [base=math.e])\n",
      "        Return the logarithm of x to the given base.\n",
      "\n",
      "        If the base is not specified, returns the natural logarithm (base e) of x.\n",
      "\n",
      "    log10(x, /)\n",
      "        Return the base 10 logarithm of x.\n",
      "\n",
      "    log1p(x, /)\n",
      "        Return the natural logarithm of 1+x (base e).\n",
      "\n",
      "        The result is computed in a way which is accurate for x near zero.\n",
      "\n",
      "    log2(x, /)\n",
      "        Return the base 2 logarithm of x.\n",
      "\n",
      "    modf(x, /)\n",
      "        Return the fractional and integer parts of x.\n",
      "\n",
      "        Both results carry the sign of x and are floats.\n",
      "\n",
      "    nextafter(x, y, /, *, steps=None)\n",
      "        Return the floating-point value the given number of steps after x towards y.\n",
      "\n",
      "        If steps is not specified or is None, it defaults to 1.\n",
      "\n",
      "        Raises a TypeError, if x or y is not a double, or if steps is not an integer.\n",
      "        Raises ValueError if steps is negative.\n",
      "\n",
      "    perm(n, k=None, /)\n",
      "        Number of ways to choose k items from n items without repetition and with order.\n",
      "\n",
      "        Evaluates to n! / (n - k)! when k <= n and evaluates\n",
      "        to zero when k > n.\n",
      "\n",
      "        If k is not specified or is None, then k defaults to n\n",
      "        and the function returns n!.\n",
      "\n",
      "        Raises TypeError if either of the arguments are not integers.\n",
      "        Raises ValueError if either of the arguments are negative.\n",
      "\n",
      "    pow(x, y, /)\n",
      "        Return x**y (x to the power of y).\n",
      "\n",
      "    prod(iterable, /, *, start=1)\n",
      "        Calculate the product of all the elements in the input iterable.\n",
      "\n",
      "        The default start value for the product is 1.\n",
      "\n",
      "        When the iterable is empty, return the start value.  This function is\n",
      "        intended specifically for use with numeric values and may reject\n",
      "        non-numeric types.\n",
      "\n",
      "    radians(x, /)\n",
      "        Convert angle x from degrees to radians.\n",
      "\n",
      "    remainder(x, y, /)\n",
      "        Difference between x and the closest integer multiple of y.\n",
      "\n",
      "        Return x - n*y where n*y is the closest integer multiple of y.\n",
      "        In the case where x is exactly halfway between two multiples of\n",
      "        y, the nearest even value of n is used. The result is always exact.\n",
      "\n",
      "    sin(x, /)\n",
      "        Return the sine of x (measured in radians).\n",
      "\n",
      "    sinh(x, /)\n",
      "        Return the hyperbolic sine of x.\n",
      "\n",
      "    sqrt(x, /)\n",
      "        Return the square root of x.\n",
      "\n",
      "    sumprod(p, q, /)\n",
      "        Return the sum of products of values from two iterables p and q.\n",
      "\n",
      "        Roughly equivalent to:\n",
      "\n",
      "            sum(itertools.starmap(operator.mul, zip(p, q, strict=True)))\n",
      "\n",
      "        For float and mixed int/float inputs, the intermediate products\n",
      "        and sums are computed with extended precision.\n",
      "\n",
      "    tan(x, /)\n",
      "        Return the tangent of x (measured in radians).\n",
      "\n",
      "    tanh(x, /)\n",
      "        Return the hyperbolic tangent of x.\n",
      "\n",
      "    trunc(x, /)\n",
      "        Truncates the Real x to the nearest Integral toward 0.\n",
      "\n",
      "        Uses the __trunc__ magic method.\n",
      "\n",
      "    ulp(x, /)\n",
      "        Return the value of the least significant bit of the float x.\n",
      "\n",
      "DATA\n",
      "    e = 2.718281828459045\n",
      "    inf = inf\n",
      "    nan = nan\n",
      "    pi = 3.141592653589793\n",
      "    tau = 6.283185307179586\n",
      "\n",
      "FILE\n",
      "    (built-in)\n",
      "\n",
      "\n"
     ]
    }
   ],
   "source": [
    "help(math)"
   ]
  },
  {
   "cell_type": "markdown",
   "id": "a77c3767",
   "metadata": {},
   "source": [
    "## Important\n",
    "\n",
    "Don't use ``float`` values for currency.\n",
    "\n",
    "IEEE standards mean **float is an approximation**.\n",
    "\n",
    "(This is not a Python *problem*.  You'll see Stack Overflow questions that make it seem like it's unique to Python or it's a problem. It's neither.)\n",
    "\n",
    "Number Theory:\n",
    "\n",
    "\\\\[\n",
    "((a + b) - a) - b = 0\n",
    "\\\\]\n",
    "\n",
    "IEEE Approximations:"
   ]
  },
  {
   "cell_type": "code",
   "execution_count": 10,
   "id": "9cacb3f1",
   "metadata": {},
   "outputs": [
    {
     "data": {
      "text/plain": [
       "-9.0951551845464e-15"
      ]
     },
     "execution_count": 10,
     "metadata": {},
     "output_type": "execute_result"
    }
   ],
   "source": [
    "((1000.0 + .01) - 1000.0) - 0.01"
   ]
  },
  {
   "cell_type": "markdown",
   "id": "12aa71e0",
   "metadata": {},
   "source": [
    "It's nearly zero; \\\\(\\approx -\\frac{1}{2^{47}}\\\\)"
   ]
  },
  {
   "cell_type": "code",
   "execution_count": 11,
   "id": "0cb8e485",
   "metadata": {},
   "outputs": [
    {
     "data": {
      "text/plain": [
       "-7.105427357601002e-15"
      ]
     },
     "execution_count": 11,
     "metadata": {},
     "output_type": "execute_result"
    }
   ],
   "source": [
    "-1/2**47"
   ]
  },
  {
   "cell_type": "markdown",
   "id": "80819279",
   "metadata": {},
   "source": [
    "It turns out, it's \\\\(\\frac{5505}{2^{60}}\\\\) \n",
    "\n",
    "What's important is that the fraction is based on a power of 2, and anything relatively prime will have possible truncation problems. Since \\\\(10 = 2 \\times 5\\\\), decimal fractions present a bit of an approximation issue."
   ]
  },
  {
   "cell_type": "markdown",
   "id": "cea796bf",
   "metadata": {},
   "source": [
    "For equality tests, use ``math.isclose()``"
   ]
  },
  {
   "cell_type": "code",
   "execution_count": 12,
   "id": "9df6547c",
   "metadata": {},
   "outputs": [],
   "source": [
    "from math import isclose"
   ]
  },
  {
   "cell_type": "code",
   "execution_count": 13,
   "id": "57a8949e",
   "metadata": {},
   "outputs": [
    {
     "data": {
      "text/plain": [
       "True"
      ]
     },
     "execution_count": 13,
     "metadata": {},
     "output_type": "execute_result"
    }
   ],
   "source": [
    "isclose(((1000.0 + .01) - 1000.0) - 0.01, 0.0, abs_tol=1E-10)"
   ]
  },
  {
   "cell_type": "markdown",
   "id": "1a9aef1f",
   "metadata": {},
   "source": [
    "## Using the decimal module"
   ]
  },
  {
   "cell_type": "code",
   "execution_count": 14,
   "id": "89b59e95",
   "metadata": {},
   "outputs": [],
   "source": [
    "from decimal import Decimal"
   ]
  },
  {
   "cell_type": "code",
   "execution_count": 15,
   "id": "ec8cd7e1",
   "metadata": {},
   "outputs": [
    {
     "data": {
      "text/plain": [
       "Decimal('7.416250')"
      ]
     },
     "execution_count": 15,
     "metadata": {},
     "output_type": "execute_result"
    }
   ],
   "source": [
    "cost = Decimal('6.98')\n",
    "tax_rate = Decimal('.0625')\n",
    "total = cost + cost*tax_rate\n",
    "total"
   ]
  },
  {
   "cell_type": "code",
   "execution_count": 16,
   "id": "18606454",
   "metadata": {},
   "outputs": [
    {
     "data": {
      "text/plain": [
       "Decimal('7.42')"
      ]
     },
     "execution_count": 16,
     "metadata": {},
     "output_type": "execute_result"
    }
   ],
   "source": [
    "penny = Decimal('0.01')\n",
    "total.quantize(penny)"
   ]
  },
  {
   "cell_type": "markdown",
   "id": "d4faa298",
   "metadata": {},
   "source": [
    "## Fractions"
   ]
  },
  {
   "cell_type": "code",
   "execution_count": 17,
   "id": "270eb9db",
   "metadata": {},
   "outputs": [],
   "source": [
    "from fractions import Fraction"
   ]
  },
  {
   "cell_type": "markdown",
   "id": "59613bcc",
   "metadata": {},
   "source": [
    "Recipe uses \\\\(\\frac{2}{3}\\\\) of a yam to serve 4.\n",
    "\n",
    "But. \n",
    "\n",
    "Expecting 5 vaccinated guests.\n",
    "\n",
    "So. \\\\(\\frac{5}{4}\\times\\frac{2}{3}\\\\).\n"
   ]
  },
  {
   "cell_type": "code",
   "execution_count": 18,
   "id": "588324f9",
   "metadata": {},
   "outputs": [
    {
     "data": {
      "text/plain": [
       "Fraction(5, 6)"
      ]
     },
     "execution_count": 18,
     "metadata": {},
     "output_type": "execute_result"
    }
   ],
   "source": [
    "yams = Fraction(2, 3)\n",
    "serves = 4\n",
    "guests = 5\n",
    "guests * yams/serves"
   ]
  },
  {
   "cell_type": "markdown",
   "id": "27332420",
   "metadata": {},
   "source": [
    "## 2. Strings\n",
    "\n",
    "Unicode text (not bytes, not ASCII)"
   ]
  },
  {
   "cell_type": "code",
   "execution_count": 19,
   "id": "963c1d6f",
   "metadata": {},
   "outputs": [
    {
     "data": {
      "text/plain": [
       "'Hello, 🌐'"
      ]
     },
     "execution_count": 19,
     "metadata": {},
     "output_type": "execute_result"
    }
   ],
   "source": [
    "\"Hello, 🌐\""
   ]
  },
  {
   "cell_type": "code",
   "execution_count": 20,
   "id": "44497dd0",
   "metadata": {},
   "outputs": [
    {
     "data": {
      "text/plain": [
       "\"\\nTriple-quoted strings can be very long.\\nThey're used at the beginning of module, class, method, and function definitions.\\n\""
      ]
     },
     "execution_count": 20,
     "metadata": {},
     "output_type": "execute_result"
    }
   ],
   "source": [
    "\"\"\"\n",
    "Triple-quoted strings can be very long.\n",
    "They're used at the beginning of module, class, method, and function definitions.\n",
    "\"\"\""
   ]
  },
  {
   "cell_type": "markdown",
   "id": "88dcffc6",
   "metadata": {},
   "source": [
    "Note that Python has a preferred \"canonical\" display for strings. It uses single apostrophe strings. "
   ]
  },
  {
   "cell_type": "markdown",
   "id": "816dcc0e",
   "metadata": {},
   "source": [
    "## Quotes and Apostrophes"
   ]
  },
  {
   "cell_type": "code",
   "execution_count": 21,
   "id": "23c76f98",
   "metadata": {},
   "outputs": [
    {
     "data": {
      "text/plain": [
       "\"Don't touch that.\""
      ]
     },
     "execution_count": 21,
     "metadata": {},
     "output_type": "execute_result"
    }
   ],
   "source": [
    "\"Don't touch that.\""
   ]
  },
  {
   "cell_type": "code",
   "execution_count": 22,
   "id": "3560b5b2",
   "metadata": {},
   "outputs": [
    {
     "data": {
      "text/plain": [
       "'\"Thanks\", he said.'"
      ]
     },
     "execution_count": 22,
     "metadata": {},
     "output_type": "execute_result"
    }
   ],
   "source": [
    "'\"Thanks\", he said.'"
   ]
  },
  {
   "cell_type": "code",
   "execution_count": 23,
   "id": "6fbd9f66",
   "metadata": {},
   "outputs": [
    {
     "data": {
      "text/plain": [
       "'\"You\\'re welcome,\" she replied.'"
      ]
     },
     "execution_count": 23,
     "metadata": {},
     "output_type": "execute_result"
    }
   ],
   "source": [
    "\"\\\"You're welcome,\\\" she replied.\""
   ]
  },
  {
   "cell_type": "markdown",
   "id": "7e6fa0de",
   "metadata": {},
   "source": [
    "## String Transformations\n",
    "\n",
    "Python generally uses \"post-fix\" notation for methods of objects.\n",
    "We write `s.title()`, for example. The object is first, the method second.\n",
    "\n",
    "This is distinct from the syntax for functions, `len(s)`, which is prefix.\n",
    "\n",
    "And distinct from operators, which are general infix. `s + \" OK?\"`"
   ]
  },
  {
   "cell_type": "code",
   "execution_count": 24,
   "id": "92461fa6",
   "metadata": {},
   "outputs": [],
   "source": [
    "s = \"here's some data.\""
   ]
  },
  {
   "cell_type": "code",
   "execution_count": 25,
   "id": "c4282b49",
   "metadata": {},
   "outputs": [
    {
     "data": {
      "text/plain": [
       "\"Here'S Some Data.\""
      ]
     },
     "execution_count": 25,
     "metadata": {},
     "output_type": "execute_result"
    }
   ],
   "source": [
    "s.title()"
   ]
  },
  {
   "cell_type": "code",
   "execution_count": 26,
   "id": "c89b0a84",
   "metadata": {},
   "outputs": [
    {
     "data": {
      "text/plain": [
       "\"HERE'S SOME DATA.\""
      ]
     },
     "execution_count": 26,
     "metadata": {},
     "output_type": "execute_result"
    }
   ],
   "source": [
    "s.upper()"
   ]
  },
  {
   "cell_type": "code",
   "execution_count": 27,
   "id": "20bb08a1",
   "metadata": {},
   "outputs": [
    {
     "data": {
      "text/plain": [
       "[\"here's\", 'some', 'data.']"
      ]
     },
     "execution_count": 27,
     "metadata": {},
     "output_type": "execute_result"
    }
   ],
   "source": [
    "s.split()"
   ]
  },
  {
   "cell_type": "markdown",
   "id": "e51dd1b7",
   "metadata": {},
   "source": [
    "The []'s indicate a list object, we'll return to this below."
   ]
  },
  {
   "cell_type": "code",
   "execution_count": 28,
   "id": "2fb7bc33",
   "metadata": {},
   "outputs": [
    {
     "data": {
      "text/plain": [
       "\"h?r?'s som? data.\""
      ]
     },
     "execution_count": 28,
     "metadata": {},
     "output_type": "execute_result"
    }
   ],
   "source": [
    "s.replace(\"e\", \"?\")"
   ]
  },
  {
   "cell_type": "code",
   "execution_count": 29,
   "id": "88addf9c",
   "metadata": {},
   "outputs": [
    {
     "data": {
      "text/plain": [
       "4"
      ]
     },
     "execution_count": 29,
     "metadata": {},
     "output_type": "execute_result"
    }
   ],
   "source": [
    "s.index(\"'\")"
   ]
  },
  {
   "cell_type": "code",
   "execution_count": 30,
   "id": "c46268f7",
   "metadata": {},
   "outputs": [
    {
     "data": {
      "text/plain": [
       "\"'\""
      ]
     },
     "execution_count": 30,
     "metadata": {},
     "output_type": "execute_result"
    }
   ],
   "source": [
    "s[4]"
   ]
  },
  {
   "cell_type": "markdown",
   "id": "c64948fc",
   "metadata": {},
   "source": [
    "This selects the 4th position of the string, ``s``. "
   ]
  },
  {
   "cell_type": "markdown",
   "id": "8f1b669a",
   "metadata": {},
   "source": [
    "## Immutability\n",
    "\n",
    "Strings are immutable. Like numbers, they have no internal state to change.\n",
    "\n",
    "String transformations create new strings.\n",
    "\n",
    "The unused old string is removed from memory when no longer needed."
   ]
  },
  {
   "cell_type": "markdown",
   "id": "d74768aa",
   "metadata": {},
   "source": [
    "## Fancy f-strings"
   ]
  },
  {
   "cell_type": "code",
   "execution_count": 31,
   "id": "c06cd370",
   "metadata": {},
   "outputs": [],
   "source": [
    "n = 355\n",
    "d = 113"
   ]
  },
  {
   "cell_type": "code",
   "execution_count": 32,
   "id": "485d7cbe",
   "metadata": {},
   "outputs": [
    {
     "data": {
      "text/plain": [
       "'n=355, d=113: n/d=3.1415929203539825'"
      ]
     },
     "execution_count": 32,
     "metadata": {},
     "output_type": "execute_result"
    }
   ],
   "source": [
    "f\"{n=}, {d=}: {n/d=}\""
   ]
  },
  {
   "cell_type": "code",
   "execution_count": 33,
   "id": "6b9a4e0c",
   "metadata": {},
   "outputs": [
    {
     "data": {
      "text/plain": [
       "'355 / 113 = 3.141593'"
      ]
     },
     "execution_count": 33,
     "metadata": {},
     "output_type": "execute_result"
    }
   ],
   "source": [
    "f\"{n} / {d} = {n/d:.6f}\""
   ]
  },
  {
   "cell_type": "markdown",
   "id": "e1155c4f",
   "metadata": {},
   "source": [
    "## Equality Tests\n",
    "\n",
    "Unlike some languages, Python uses ``==``."
   ]
  },
  {
   "cell_type": "code",
   "execution_count": 34,
   "id": "cc0b4881",
   "metadata": {},
   "outputs": [],
   "source": [
    "s_1 = \"Some String\"\n",
    "s_2a = \"Some \"\n",
    "s_2b = \"String\""
   ]
  },
  {
   "cell_type": "code",
   "execution_count": 35,
   "id": "4fb06c59",
   "metadata": {},
   "outputs": [
    {
     "data": {
      "text/plain": [
       "True"
      ]
     },
     "execution_count": 35,
     "metadata": {},
     "output_type": "execute_result"
    }
   ],
   "source": [
    "s_1 == s_2a + s_2b"
   ]
  },
  {
   "cell_type": "markdown",
   "id": "fbd37974",
   "metadata": {},
   "source": [
    "The ``is`` tests asks if these are the same object.\n",
    "\n",
    "They're not. The ``id()`` function reveals their internal object ID's are distinct."
   ]
  },
  {
   "cell_type": "code",
   "execution_count": 36,
   "id": "daaaf77c",
   "metadata": {},
   "outputs": [
    {
     "data": {
      "text/plain": [
       "False"
      ]
     },
     "execution_count": 36,
     "metadata": {},
     "output_type": "execute_result"
    }
   ],
   "source": [
    "s_1 is  s_2a + s_2b"
   ]
  },
  {
   "cell_type": "code",
   "execution_count": 37,
   "id": "1c7318eb",
   "metadata": {},
   "outputs": [
    {
     "data": {
      "text/plain": [
       "(4580920432, 4580951472)"
      ]
     },
     "execution_count": 37,
     "metadata": {},
     "output_type": "execute_result"
    }
   ],
   "source": [
    "id(s_1), id(s_2a + s_2b)"
   ]
  },
  {
   "cell_type": "markdown",
   "id": "ff2b8189",
   "metadata": {},
   "source": [
    "## Raw Strings"
   ]
  },
  {
   "cell_type": "code",
   "execution_count": 38,
   "id": "a59f2413",
   "metadata": {},
   "outputs": [
    {
     "data": {
      "text/plain": [
       "'This has \\\\t in it'"
      ]
     },
     "execution_count": 38,
     "metadata": {},
     "output_type": "execute_result"
    }
   ],
   "source": [
    "r\"This has \\t in it\""
   ]
  },
  {
   "cell_type": "code",
   "execution_count": 39,
   "id": "3126b57a",
   "metadata": {},
   "outputs": [
    {
     "name": "stdout",
     "output_type": "stream",
     "text": [
      "This has \\t in it\n"
     ]
    }
   ],
   "source": [
    "print(r\"This has \\t in it\")"
   ]
  },
  {
   "cell_type": "code",
   "execution_count": 40,
   "id": "25e18662",
   "metadata": {},
   "outputs": [
    {
     "data": {
      "text/plain": [
       "'This has \\t in it'"
      ]
     },
     "execution_count": 40,
     "metadata": {},
     "output_type": "execute_result"
    }
   ],
   "source": [
    "\"This has \\t in it\""
   ]
  },
  {
   "cell_type": "code",
   "execution_count": 41,
   "id": "509c73fe",
   "metadata": {},
   "outputs": [
    {
     "name": "stdout",
     "output_type": "stream",
     "text": [
      "This has \t in it\n"
     ]
    }
   ],
   "source": [
    "print(\"This has \\t in it\")"
   ]
  },
  {
   "cell_type": "markdown",
   "id": "7b0f0eaf",
   "metadata": {},
   "source": [
    "Python uses \"escape\" codes used to create characters not on your keyboard.\n",
    "\n",
    "A few of these overlap with regular expressions.\n",
    "\n",
    "Raw strings don't process escape codes. They leave the ``\\`` in place."
   ]
  },
  {
   "cell_type": "code",
   "execution_count": 42,
   "id": "69d6b50d",
   "metadata": {},
   "outputs": [
    {
     "data": {
      "text/plain": [
       "'This is a ⌘ Symbol'"
      ]
     },
     "execution_count": 42,
     "metadata": {},
     "output_type": "execute_result"
    }
   ],
   "source": [
    "\"This is a \\N{PLACE OF INTEREST SIGN} Symbol\""
   ]
  },
  {
   "cell_type": "code",
   "execution_count": 43,
   "id": "f3a4bbf8",
   "metadata": {},
   "outputs": [
    {
     "data": {
      "text/plain": [
       "'Captured ♚ !'"
      ]
     },
     "execution_count": 43,
     "metadata": {},
     "output_type": "execute_result"
    }
   ],
   "source": [
    "my_piece = \"\\u265A\"\n",
    "f\"Captured {my_piece} \\u0021\""
   ]
  },
  {
   "cell_type": "markdown",
   "id": "3586cedd",
   "metadata": {},
   "source": [
    "## Bytes\n",
    "\n",
    "These are sequences of numbers in the range 0 to 255. ASCII characters can be used.\n",
    "\n",
    "Any string literal values must have a ``b`` prefix. "
   ]
  },
  {
   "cell_type": "code",
   "execution_count": 44,
   "id": "6283a34d",
   "metadata": {},
   "outputs": [
    {
     "data": {
      "text/plain": [
       "b'\\these a\\re \\x08ytes'"
      ]
     },
     "execution_count": 44,
     "metadata": {},
     "output_type": "execute_result"
    }
   ],
   "source": [
    "b'\\these a\\re \\bytes'"
   ]
  },
  {
   "cell_type": "code",
   "execution_count": 45,
   "id": "a4e13cab",
   "metadata": {},
   "outputs": [
    {
     "data": {
      "text/plain": [
       "b'ASCII'"
      ]
     },
     "execution_count": 45,
     "metadata": {},
     "output_type": "execute_result"
    }
   ],
   "source": [
    "bytes([65, 83, 67, 73, 73])"
   ]
  },
  {
   "cell_type": "markdown",
   "id": "13d748bc",
   "metadata": {},
   "source": [
    "We built a ``bytes`` object from a list of individual integer values. The ``[]`` created a list."
   ]
  },
  {
   "cell_type": "code",
   "execution_count": 46,
   "id": "01c7eaa3",
   "metadata": {},
   "outputs": [
    {
     "data": {
      "text/plain": [
       "115"
      ]
     },
     "execution_count": 46,
     "metadata": {},
     "output_type": "execute_result"
    }
   ],
   "source": [
    "data = b'some bytes'\n",
    "data[0]"
   ]
  },
  {
   "cell_type": "markdown",
   "id": "31c63a60",
   "metadata": {},
   "source": [
    "We examined the byte in position 0. "
   ]
  },
  {
   "cell_type": "code",
   "execution_count": 47,
   "id": "72da8c87",
   "metadata": {},
   "outputs": [
    {
     "data": {
      "text/plain": [
       "b's'"
      ]
     },
     "execution_count": 47,
     "metadata": {},
     "output_type": "execute_result"
    }
   ],
   "source": [
    "bytes([115])"
   ]
  },
  {
   "cell_type": "markdown",
   "id": "169904de",
   "metadata": {},
   "source": [
    "What bytes has code 115? Python displays the ASCII-coded ``b's'`` as its canonical short-hand."
   ]
  },
  {
   "cell_type": "markdown",
   "id": "bdc39eb2",
   "metadata": {},
   "source": [
    "## Encode and Decode"
   ]
  },
  {
   "cell_type": "code",
   "execution_count": 48,
   "id": "2ead8fea",
   "metadata": {},
   "outputs": [],
   "source": [
    "u = \"Hello 🌐. Greetings to 🚼 and 🧙🏾\""
   ]
  },
  {
   "cell_type": "code",
   "execution_count": 49,
   "id": "05c991c5",
   "metadata": {},
   "outputs": [
    {
     "data": {
      "text/plain": [
       "b'Hello \\xf0\\x9f\\x8c\\x90. Greetings to \\xf0\\x9f\\x9a\\xbc and \\xf0\\x9f\\xa7\\x99\\xf0\\x9f\\x8f\\xbe'"
      ]
     },
     "execution_count": 49,
     "metadata": {},
     "output_type": "execute_result"
    }
   ],
   "source": [
    "b = u.encode(\"utf-8\")\n",
    "b"
   ]
  },
  {
   "cell_type": "code",
   "execution_count": 50,
   "id": "efbd51ad",
   "metadata": {},
   "outputs": [
    {
     "data": {
      "text/plain": [
       "'Hello 🌐. Greetings to 🚼 and 🧙🏾'"
      ]
     },
     "execution_count": 50,
     "metadata": {},
     "output_type": "execute_result"
    }
   ],
   "source": [
    "b.decode(\"utf-8\")"
   ]
  },
  {
   "cell_type": "code",
   "execution_count": 51,
   "id": "11c35d78",
   "metadata": {
    "tags": [
     "raises-exception"
    ]
   },
   "outputs": [
    {
     "ename": "UnicodeDecodeError",
     "evalue": "'charmap' codec can't decode byte 0x90 in position 9: character maps to <undefined>",
     "output_type": "error",
     "traceback": [
      "\u001b[0;31m---------------------------------------------------------------------------\u001b[0m",
      "\u001b[0;31mUnicodeDecodeError\u001b[0m                        Traceback (most recent call last)",
      "Cell \u001b[0;32mIn[51], line 1\u001b[0m\n\u001b[0;32m----> 1\u001b[0m \u001b[43mb\u001b[49m\u001b[38;5;241;43m.\u001b[39;49m\u001b[43mdecode\u001b[49m\u001b[43m(\u001b[49m\u001b[38;5;124;43m\"\u001b[39;49m\u001b[38;5;124;43mcp1252\u001b[39;49m\u001b[38;5;124;43m\"\u001b[39;49m\u001b[43m)\u001b[49m\n",
      "File \u001b[0;32m~/.local/share/uv/python/cpython-3.12.5-macos-x86_64-none/lib/python3.12/encodings/cp1252.py:15\u001b[0m, in \u001b[0;36mCodec.decode\u001b[0;34m(self, input, errors)\u001b[0m\n\u001b[1;32m     14\u001b[0m \u001b[38;5;28;01mdef\u001b[39;00m \u001b[38;5;21mdecode\u001b[39m(\u001b[38;5;28mself\u001b[39m,\u001b[38;5;28minput\u001b[39m,errors\u001b[38;5;241m=\u001b[39m\u001b[38;5;124m'\u001b[39m\u001b[38;5;124mstrict\u001b[39m\u001b[38;5;124m'\u001b[39m):\n\u001b[0;32m---> 15\u001b[0m     \u001b[38;5;28;01mreturn\u001b[39;00m \u001b[43mcodecs\u001b[49m\u001b[38;5;241;43m.\u001b[39;49m\u001b[43mcharmap_decode\u001b[49m\u001b[43m(\u001b[49m\u001b[38;5;28;43minput\u001b[39;49m\u001b[43m,\u001b[49m\u001b[43merrors\u001b[49m\u001b[43m,\u001b[49m\u001b[43mdecoding_table\u001b[49m\u001b[43m)\u001b[49m\n",
      "\u001b[0;31mUnicodeDecodeError\u001b[0m: 'charmap' codec can't decode byte 0x90 in position 9: character maps to <undefined>",
      "\u001b[0mdecoding with 'cp1252' codec failed"
     ]
    }
   ],
   "source": [
    "b.decode(\"cp1252\")"
   ]
  },
  {
   "cell_type": "markdown",
   "id": "dda4e15a",
   "metadata": {},
   "source": [
    "## 3.  Booleans\n",
    "\n",
    "Values are ``True`` and ``False``. \n",
    "Operators are ``and``, ``or``, and ``not``."
   ]
  },
  {
   "cell_type": "code",
   "execution_count": 52,
   "id": "578df6dc",
   "metadata": {},
   "outputs": [
    {
     "data": {
      "text/plain": [
       "'True and True=True, True and False=False, False and True=False, False and False=False'"
      ]
     },
     "execution_count": 52,
     "metadata": {},
     "output_type": "execute_result"
    }
   ],
   "source": [
    "f\"{True and True=}, {True and False=}, {False and True=}, {False and False=}\""
   ]
  },
  {
   "cell_type": "code",
   "execution_count": 53,
   "id": "9d7ead12",
   "metadata": {},
   "outputs": [
    {
     "data": {
      "text/plain": [
       "'True or True=True, True or False=True, False or True=True, False or False=False'"
      ]
     },
     "execution_count": 53,
     "metadata": {},
     "output_type": "execute_result"
    }
   ],
   "source": [
    "f\"{True or True=}, {True or False=}, {False or True=}, {False or False=}\""
   ]
  },
  {
   "cell_type": "markdown",
   "id": "1387005d",
   "metadata": {},
   "source": [
    "``and`` and ``or`` operators \"short circuit\". They only evaluate the right-hand side if necessary.\n",
    "\n",
    "If left-side of ``and`` is False, that's it. No need to do more.\n",
    "\n",
    "If left-side of ``or`` is True, that's it. "
   ]
  },
  {
   "cell_type": "code",
   "execution_count": 54,
   "id": "5c3abf86",
   "metadata": {},
   "outputs": [
    {
     "data": {
      "text/plain": [
       "False"
      ]
     },
     "execution_count": 54,
     "metadata": {},
     "output_type": "execute_result"
    }
   ],
   "source": [
    "False and 2/0"
   ]
  },
  {
   "cell_type": "code",
   "execution_count": 55,
   "id": "42719e98",
   "metadata": {
    "tags": [
     "raises-exception"
    ]
   },
   "outputs": [
    {
     "ename": "ZeroDivisionError",
     "evalue": "division by zero",
     "output_type": "error",
     "traceback": [
      "\u001b[0;31m---------------------------------------------------------------------------\u001b[0m",
      "\u001b[0;31mZeroDivisionError\u001b[0m                         Traceback (most recent call last)",
      "Cell \u001b[0;32mIn[55], line 1\u001b[0m\n\u001b[0;32m----> 1\u001b[0m \u001b[38;5;28;01mTrue\u001b[39;00m \u001b[38;5;129;01mand\u001b[39;00m \u001b[38;5;241;43m2\u001b[39;49m\u001b[38;5;241;43m/\u001b[39;49m\u001b[38;5;241;43m0\u001b[39;49m\n",
      "\u001b[0;31mZeroDivisionError\u001b[0m: division by zero"
     ]
    }
   ],
   "source": [
    "True and 2/0"
   ]
  },
  {
   "cell_type": "markdown",
   "id": "a1a4d58f",
   "metadata": {},
   "source": [
    "All Python objects have a \"truthiness\" to them. Most objects are True. A few objects are False.\n",
    "\n",
    "False are values like ``0``, ``[]``, ``{}``, ``set()``, ``\"\"``."
   ]
  },
  {
   "cell_type": "code",
   "execution_count": 56,
   "id": "f10e7597",
   "metadata": {},
   "outputs": [
    {
     "data": {
      "text/plain": [
       "'Hello'"
      ]
     },
     "execution_count": 56,
     "metadata": {},
     "output_type": "execute_result"
    }
   ],
   "source": [
    "default = \"Hello\"\n",
    "\n",
    "user_input = \"\"\n",
    "response = user_input or default\n",
    "response"
   ]
  },
  {
   "cell_type": "code",
   "execution_count": 57,
   "id": "d9f14496",
   "metadata": {},
   "outputs": [
    {
     "data": {
      "text/plain": [
       "'Welcome'"
      ]
     },
     "execution_count": 57,
     "metadata": {},
     "output_type": "execute_result"
    }
   ],
   "source": [
    "user_input = \"Welcome\"\n",
    "response = user_input or default\n",
    "response"
   ]
  },
  {
   "cell_type": "code",
   "execution_count": 58,
   "id": "691c36d2",
   "metadata": {},
   "outputs": [
    {
     "data": {
      "text/plain": [
       "12"
      ]
     },
     "execution_count": 58,
     "metadata": {},
     "output_type": "execute_result"
    }
   ],
   "source": [
    "parameter = \"12\"\n",
    "factor = int(parameter) if parameter is not None else 42\n",
    "factor"
   ]
  },
  {
   "cell_type": "code",
   "execution_count": 59,
   "id": "457d4d70",
   "metadata": {},
   "outputs": [
    {
     "data": {
      "text/plain": [
       "42"
      ]
     },
     "execution_count": 59,
     "metadata": {},
     "output_type": "execute_result"
    }
   ],
   "source": [
    "parameter = None\n",
    "factor = int(parameter) if parameter is not None else 42\n",
    "factor"
   ]
  },
  {
   "cell_type": "code",
   "execution_count": 60,
   "id": "c4e1c0c7",
   "metadata": {},
   "outputs": [
    {
     "data": {
      "text/plain": [
       "'Hello, 🚼'"
      ]
     },
     "execution_count": 60,
     "metadata": {},
     "output_type": "execute_result"
    }
   ],
   "source": [
    "experience = 0\n",
    "group = \"🚼\" if experience == 0 else \"🧙\"\n",
    "f\"Hello, {group}\""
   ]
  },
  {
   "cell_type": "code",
   "execution_count": 61,
   "id": "48836173",
   "metadata": {},
   "outputs": [],
   "source": [
    "total = 0\n",
    "count = 0\n",
    "mean = total/count if count > 0 else None"
   ]
  },
  {
   "cell_type": "markdown",
   "id": "01c51c89",
   "metadata": {},
   "source": [
    "## Bit-Wise Operators"
   ]
  },
  {
   "cell_type": "code",
   "execution_count": 62,
   "id": "6ae8fc23",
   "metadata": {},
   "outputs": [],
   "source": [
    "user = 1\n",
    "group = 2\n",
    "world = 4\n",
    "applies_to = user | world"
   ]
  },
  {
   "cell_type": "code",
   "execution_count": 63,
   "id": "9f871f00",
   "metadata": {},
   "outputs": [
    {
     "data": {
      "text/plain": [
       "5"
      ]
     },
     "execution_count": 63,
     "metadata": {},
     "output_type": "execute_result"
    }
   ],
   "source": [
    "applies_to"
   ]
  },
  {
   "cell_type": "code",
   "execution_count": 64,
   "id": "b8b99960",
   "metadata": {},
   "outputs": [
    {
     "data": {
      "text/plain": [
       "'0b101'"
      ]
     },
     "execution_count": 64,
     "metadata": {},
     "output_type": "execute_result"
    }
   ],
   "source": [
    "bin(applies_to)"
   ]
  },
  {
   "cell_type": "code",
   "execution_count": 65,
   "id": "b10dce51",
   "metadata": {},
   "outputs": [
    {
     "data": {
      "text/plain": [
       "True"
      ]
     },
     "execution_count": 65,
     "metadata": {},
     "output_type": "execute_result"
    }
   ],
   "source": [
    "bool(applies_to & user)"
   ]
  },
  {
   "cell_type": "code",
   "execution_count": 66,
   "id": "572b85fa",
   "metadata": {},
   "outputs": [
    {
     "data": {
      "text/plain": [
       "False"
      ]
     },
     "execution_count": 66,
     "metadata": {},
     "output_type": "execute_result"
    }
   ],
   "source": [
    "bool(applies_to & group)"
   ]
  },
  {
   "cell_type": "markdown",
   "id": "00ef08db",
   "metadata": {
    "tags": []
   },
   "source": [
    "## 4. Tuples\n",
    "\n",
    "A fixed-length collection of values. Think ordered pairs or ordered triples. There's no defined limit on the size; only the limit imposed by finite memory resources.\n",
    "\n",
    "Typle literals must have ``,``. They're often wrapped in ``()`` or ``tuple()``. An empty tuple is ``()``."
   ]
  },
  {
   "cell_type": "code",
   "execution_count": 67,
   "id": "3eeb7265",
   "metadata": {},
   "outputs": [],
   "source": [
    "rgb = (0xc6, 0x2d, 0x42)"
   ]
  },
  {
   "cell_type": "code",
   "execution_count": 68,
   "id": "44360bf1",
   "metadata": {},
   "outputs": [
    {
     "data": {
      "text/plain": [
       "(198, 45, 66)"
      ]
     },
     "execution_count": 68,
     "metadata": {},
     "output_type": "execute_result"
    }
   ],
   "source": [
    "rgb"
   ]
  },
  {
   "cell_type": "markdown",
   "id": "f1289d69",
   "metadata": {},
   "source": [
    "Singleton tuple special case"
   ]
  },
  {
   "cell_type": "code",
   "execution_count": 69,
   "id": "5fe59a11",
   "metadata": {},
   "outputs": [
    {
     "data": {
      "text/plain": [
       "(42,)"
      ]
     },
     "execution_count": 69,
     "metadata": {},
     "output_type": "execute_result"
    }
   ],
   "source": [
    "t = (42,)\n",
    "t"
   ]
  },
  {
   "cell_type": "markdown",
   "id": "ba46ca79",
   "metadata": {},
   "source": [
    "## Tuples and assignment\n",
    "\n",
    "The assignment statement can decompose a tuple."
   ]
  },
  {
   "cell_type": "code",
   "execution_count": 70,
   "id": "e4b181f1",
   "metadata": {},
   "outputs": [],
   "source": [
    "here = (35.354490, -82.527040)"
   ]
  },
  {
   "cell_type": "code",
   "execution_count": 71,
   "id": "01cb41d6",
   "metadata": {},
   "outputs": [],
   "source": [
    "lat, lon = here"
   ]
  },
  {
   "cell_type": "code",
   "execution_count": 72,
   "id": "e4b6616a",
   "metadata": {},
   "outputs": [
    {
     "data": {
      "text/plain": [
       "35.35449"
      ]
     },
     "execution_count": 72,
     "metadata": {},
     "output_type": "execute_result"
    }
   ],
   "source": [
    "lat"
   ]
  },
  {
   "cell_type": "code",
   "execution_count": 73,
   "id": "6db0449d",
   "metadata": {},
   "outputs": [
    {
     "data": {
      "text/plain": [
       "-82.52704"
      ]
     },
     "execution_count": 73,
     "metadata": {},
     "output_type": "execute_result"
    }
   ],
   "source": [
    "lon"
   ]
  },
  {
   "cell_type": "code",
   "execution_count": 74,
   "id": "1848b2b9",
   "metadata": {},
   "outputs": [
    {
     "data": {
      "text/plain": [
       "35.35449"
      ]
     },
     "execution_count": 74,
     "metadata": {},
     "output_type": "execute_result"
    }
   ],
   "source": [
    "here[0]"
   ]
  },
  {
   "cell_type": "code",
   "execution_count": 75,
   "id": "37fef55a",
   "metadata": {},
   "outputs": [
    {
     "data": {
      "text/plain": [
       "-82.52704"
      ]
     },
     "execution_count": 75,
     "metadata": {},
     "output_type": "execute_result"
    }
   ],
   "source": [
    "here[1]"
   ]
  },
  {
   "cell_type": "markdown",
   "id": "aad6dd44",
   "metadata": {},
   "source": [
    "## Immutability\n",
    "\n",
    "You cannot assign a new value into the middle of one."
   ]
  },
  {
   "cell_type": "code",
   "execution_count": 76,
   "id": "2fe2d55b",
   "metadata": {
    "tags": [
     "raises-exception"
    ]
   },
   "outputs": [
    {
     "ename": "TypeError",
     "evalue": "'tuple' object does not support item assignment",
     "output_type": "error",
     "traceback": [
      "\u001b[0;31m---------------------------------------------------------------------------\u001b[0m",
      "\u001b[0;31mTypeError\u001b[0m                                 Traceback (most recent call last)",
      "Cell \u001b[0;32mIn[76], line 1\u001b[0m\n\u001b[0;32m----> 1\u001b[0m \u001b[43mhere\u001b[49m\u001b[43m[\u001b[49m\u001b[38;5;241;43m0\u001b[39;49m\u001b[43m]\u001b[49m \u001b[38;5;241m=\u001b[39m \u001b[38;5;241m35.4\u001b[39m\n",
      "\u001b[0;31mTypeError\u001b[0m: 'tuple' object does not support item assignment"
     ]
    }
   ],
   "source": [
    "here[0] = 35.4"
   ]
  },
  {
   "cell_type": "markdown",
   "id": "3b49c48a",
   "metadata": {},
   "source": [
    "You can, however, create a new tuple from pieces and parts of other tuples.\n",
    "\n",
    "This works because tuples must have a fixed size with fixed semantics for each item in the tuple.\n",
    "\n",
    "When in doubt, think (r,g,b) or (lat, lon) or (x,y,z) or some other fixed collection of values."
   ]
  },
  {
   "cell_type": "code",
   "execution_count": 77,
   "id": "e1d6054a",
   "metadata": {},
   "outputs": [],
   "source": [
    "new_here = (35.4, here[1])"
   ]
  },
  {
   "cell_type": "code",
   "execution_count": 78,
   "id": "73c0d928",
   "metadata": {},
   "outputs": [
    {
     "data": {
      "text/plain": [
       "(35.35449, -82.52704)"
      ]
     },
     "execution_count": 78,
     "metadata": {},
     "output_type": "execute_result"
    }
   ],
   "source": [
    "here"
   ]
  },
  {
   "cell_type": "code",
   "execution_count": 79,
   "id": "a236f8c3",
   "metadata": {},
   "outputs": [
    {
     "data": {
      "text/plain": [
       "(35.4, -82.52704)"
      ]
     },
     "execution_count": 79,
     "metadata": {},
     "output_type": "execute_result"
    }
   ],
   "source": [
    "new_here"
   ]
  },
  {
   "cell_type": "markdown",
   "id": "64731c60",
   "metadata": {},
   "source": [
    "## Tuple Data Types"
   ]
  },
  {
   "cell_type": "markdown",
   "id": "aa7eb0d0",
   "metadata": {},
   "source": [
    "Types can be mixed."
   ]
  },
  {
   "cell_type": "code",
   "execution_count": 80,
   "id": "722210d1",
   "metadata": {},
   "outputs": [],
   "source": [
    "color = (\"brick red\", (0xc6, 0x2d, 0x42))"
   ]
  },
  {
   "cell_type": "markdown",
   "id": "1ee7cdd8",
   "metadata": {},
   "source": [
    "The ``color`` tuple has two elements: a string and a tuple.\n",
    "\n",
    "Mixed types work because tuples have a fixed size, and we need to agree on the order of the items.\n",
    "\n",
    "We describe it like this in a type annotation."
   ]
  },
  {
   "cell_type": "code",
   "execution_count": 81,
   "id": "c2ab93c3",
   "metadata": {},
   "outputs": [
    {
     "data": {
      "text/plain": [
       "tuple[str, tuple[int, int, int]]"
      ]
     },
     "execution_count": 81,
     "metadata": {},
     "output_type": "execute_result"
    }
   ],
   "source": [
    "tuple[str, tuple[int, int, int]]"
   ]
  },
  {
   "cell_type": "markdown",
   "id": "f273042d",
   "metadata": {},
   "source": [
    "The notebook doesn't use the annotations. Other tools do. We'll see this in the last section when we talk about tools and workflows."
   ]
  },
  {
   "cell_type": "markdown",
   "id": "8eb6d20d",
   "metadata": {},
   "source": [
    "## Named Tuples\n",
    "\n",
    "Expressions like `color[0]` and `color[1][0]` are pretty hard fathom.\n",
    "\n",
    "A name would be more useful."
   ]
  },
  {
   "cell_type": "code",
   "execution_count": 82,
   "id": "752b0662",
   "metadata": {},
   "outputs": [],
   "source": [
    "from typing import NamedTuple\n",
    "\n",
    "class RGB(NamedTuple):\n",
    "    red: int\n",
    "    green: int\n",
    "    blue: int"
   ]
  },
  {
   "cell_type": "code",
   "execution_count": 83,
   "id": "0302df07",
   "metadata": {},
   "outputs": [],
   "source": [
    "brick_red = RGB(0xc6, 0x2d, 0x42)"
   ]
  },
  {
   "cell_type": "code",
   "execution_count": 84,
   "id": "0bd54e48",
   "metadata": {},
   "outputs": [
    {
     "data": {
      "text/plain": [
       "198"
      ]
     },
     "execution_count": 84,
     "metadata": {},
     "output_type": "execute_result"
    }
   ],
   "source": [
    "brick_red.red"
   ]
  },
  {
   "cell_type": "markdown",
   "id": "3b52043a",
   "metadata": {},
   "source": [
    "## 5. Mutable Structures\n",
    "\n",
    "- Sets\n",
    "\n",
    "- Lists\n",
    "\n",
    "- Dictionaries\n",
    "\n",
    "- Composite structures like a List of Dictionaries.\n",
    "\n",
    "## 5a. Sets\n",
    "\n",
    "Essential math. Set Intersection, Union, Difference, Symmetric Difference.\n",
    "\n",
    "\\\\[\\cap, \\cup, \\setminus, \\triangle \\\\]\n",
    "\n",
    "While mixed types are allowed, you won't be happy with it. \n",
    "\n",
    "Set literals are wrapped in ``{}``. \n",
    "\n",
    "Note there's no literal value for an empty use, use ``set()``."
   ]
  },
  {
   "cell_type": "code",
   "execution_count": 85,
   "id": "d9bd71c8",
   "metadata": {},
   "outputs": [],
   "source": [
    "e = {2, 4, 6, 8}\n",
    "f = {1, 1, 2, 3, 5, 8}"
   ]
  },
  {
   "cell_type": "markdown",
   "id": "f2c969ae",
   "metadata": {},
   "source": [
    "Intersection \\\\( e \\cap f \\\\)"
   ]
  },
  {
   "cell_type": "code",
   "execution_count": 86,
   "id": "bfeac5a4",
   "metadata": {},
   "outputs": [
    {
     "data": {
      "text/plain": [
       "{2, 8}"
      ]
     },
     "execution_count": 86,
     "metadata": {},
     "output_type": "execute_result"
    }
   ],
   "source": [
    "e & f"
   ]
  },
  {
   "cell_type": "markdown",
   "id": "8109a4e6",
   "metadata": {},
   "source": [
    "Union \\\\( e \\cup f \\\\)"
   ]
  },
  {
   "cell_type": "code",
   "execution_count": 87,
   "id": "868135a1",
   "metadata": {},
   "outputs": [
    {
     "data": {
      "text/plain": [
       "{1, 2, 3, 4, 5, 6, 8}"
      ]
     },
     "execution_count": 87,
     "metadata": {},
     "output_type": "execute_result"
    }
   ],
   "source": [
    "e | f"
   ]
  },
  {
   "cell_type": "markdown",
   "id": "b8139a2b",
   "metadata": {},
   "source": [
    "Subtraction \\\\( e \\setminus f \\\\)"
   ]
  },
  {
   "cell_type": "code",
   "execution_count": 88,
   "id": "6a57aa44",
   "metadata": {},
   "outputs": [
    {
     "data": {
      "text/plain": [
       "{4, 6}"
      ]
     },
     "execution_count": 88,
     "metadata": {},
     "output_type": "execute_result"
    }
   ],
   "source": [
    "e - f"
   ]
  },
  {
   "cell_type": "markdown",
   "id": "66d6f03f",
   "metadata": {},
   "source": [
    "Symmetric Difference \\\\(e \\triangle f\\\\)"
   ]
  },
  {
   "cell_type": "code",
   "execution_count": 89,
   "id": "024cec92",
   "metadata": {},
   "outputs": [
    {
     "data": {
      "text/plain": [
       "{1, 3, 4, 5, 6}"
      ]
     },
     "execution_count": 89,
     "metadata": {},
     "output_type": "execute_result"
    }
   ],
   "source": [
    "e ^ f"
   ]
  },
  {
   "cell_type": "markdown",
   "id": "72e7aa84",
   "metadata": {},
   "source": [
    "## Mutability\n",
    "\n",
    "Sets are mutable -- you can update a set.\n",
    "\n",
    "A lipogram: \"Omitting it is as hard as making muffins without flour\""
   ]
  },
  {
   "cell_type": "code",
   "execution_count": 90,
   "id": "b2bd53b4",
   "metadata": {},
   "outputs": [
    {
     "data": {
      "text/plain": [
       "{'a', 'f', 'g', 'h', 'i', 'k', 'l', 'm', 'n', 'o', 'r', 's', 't', 'u', 'w'}"
      ]
     },
     "execution_count": 90,
     "metadata": {},
     "output_type": "execute_result"
    }
   ],
   "source": [
    "letters = set()\n",
    "letters.update(set(\"making\"))\n",
    "letters.update(set(\"muffins\"))\n",
    "letters.update(set(\"without\"))\n",
    "letters.update(set(\"flour\"))\n",
    "\n",
    "letters"
   ]
  },
  {
   "cell_type": "code",
   "execution_count": 91,
   "id": "3e59a574",
   "metadata": {},
   "outputs": [],
   "source": [
    "l_2 = letters.copy()\n",
    "l_3 = letters.copy()"
   ]
  },
  {
   "cell_type": "code",
   "execution_count": 92,
   "id": "e459b295",
   "metadata": {},
   "outputs": [
    {
     "data": {
      "text/plain": [
       "{'a', 'i', 'o', 'u'}"
      ]
     },
     "execution_count": 92,
     "metadata": {},
     "output_type": "execute_result"
    }
   ],
   "source": [
    "letters.intersection_update({\"a\", \"e\", \"i\", \"o\", \"u\"})\n",
    "letters"
   ]
  },
  {
   "cell_type": "code",
   "execution_count": 93,
   "id": "ce956b49",
   "metadata": {},
   "outputs": [
    {
     "data": {
      "text/plain": [
       "{'a', 'i', 'o', 'u'}"
      ]
     },
     "execution_count": 93,
     "metadata": {},
     "output_type": "execute_result"
    }
   ],
   "source": [
    "l_2 = l_2 & {\"a\", \"e\", \"i\", \"o\", \"u\"}\n",
    "l_2"
   ]
  },
  {
   "cell_type": "code",
   "execution_count": 94,
   "id": "515c32bc",
   "metadata": {},
   "outputs": [
    {
     "data": {
      "text/plain": [
       "{'a', 'i', 'o', 'u'}"
      ]
     },
     "execution_count": 94,
     "metadata": {},
     "output_type": "execute_result"
    }
   ],
   "source": [
    "l_3 &= {\"a\", \"e\", \"i\", \"o\", \"u\"}\n",
    "l_3"
   ]
  },
  {
   "cell_type": "markdown",
   "id": "17b6c422",
   "metadata": {},
   "source": [
    "## Set Element Constraint\n",
    "\n",
    "Set elements must be immutable: numbers, strings, tuples"
   ]
  },
  {
   "cell_type": "code",
   "execution_count": 95,
   "id": "4e7fa859",
   "metadata": {},
   "outputs": [
    {
     "data": {
      "text/plain": [
       "{'e', 'l', 'r', 's', 't'}"
      ]
     },
     "execution_count": 95,
     "metadata": {},
     "output_type": "execute_result"
    }
   ],
   "source": [
    "s = set(\"letters\")\n",
    "s"
   ]
  },
  {
   "cell_type": "code",
   "execution_count": 96,
   "id": "3e1c2cbf",
   "metadata": {},
   "outputs": [
    {
     "data": {
      "text/plain": [
       "{'e', 'l', 'r', 't'}"
      ]
     },
     "execution_count": 96,
     "metadata": {},
     "output_type": "execute_result"
    }
   ],
   "source": [
    "s.remove('s')\n",
    "s"
   ]
  },
  {
   "cell_type": "markdown",
   "id": "a96c1fe1",
   "metadata": {},
   "source": [
    "Lets make some small sets."
   ]
  },
  {
   "cell_type": "code",
   "execution_count": 97,
   "id": "dca278d0",
   "metadata": {},
   "outputs": [],
   "source": [
    "empty = set()\n",
    "singleton_string = {'one string'}\n",
    "singleton_int = {42}\n",
    "singleton_bool = {True}\n",
    "singleton_tuple = {(35.35449, -82.52704)}"
   ]
  },
  {
   "cell_type": "markdown",
   "id": "aca7d2cf",
   "metadata": {},
   "source": [
    "They work as expected."
   ]
  },
  {
   "cell_type": "code",
   "execution_count": 98,
   "id": "2d8d38d6",
   "metadata": {},
   "outputs": [
    {
     "data": {
      "text/plain": [
       "{(35.35449, -82.52704), 42, True, 'one string'}"
      ]
     },
     "execution_count": 98,
     "metadata": {},
     "output_type": "execute_result"
    }
   ],
   "source": [
    "empty | singleton_string | singleton_int | singleton_bool | singleton_tuple"
   ]
  },
  {
   "cell_type": "markdown",
   "id": "fa531111",
   "metadata": {},
   "source": [
    "Now, let's try to create a set that contains a mutable list object and several other immutable objects."
   ]
  },
  {
   "cell_type": "code",
   "execution_count": 99,
   "id": "b20bbe23",
   "metadata": {
    "tags": [
     "raises-exception"
    ]
   },
   "outputs": [
    {
     "ename": "TypeError",
     "evalue": "unhashable type: 'list'",
     "output_type": "error",
     "traceback": [
      "\u001b[0;31m---------------------------------------------------------------------------\u001b[0m",
      "\u001b[0;31mTypeError\u001b[0m                                 Traceback (most recent call last)",
      "Cell \u001b[0;32mIn[99], line 1\u001b[0m\n\u001b[0;32m----> 1\u001b[0m {\u001b[38;5;28mlist\u001b[39m(), \u001b[38;5;241m42\u001b[39m, \u001b[38;5;124m'\u001b[39m\u001b[38;5;124mone string\u001b[39m\u001b[38;5;124m'\u001b[39m, \u001b[38;5;28;01mTrue\u001b[39;00m, (\u001b[38;5;241m35.35449\u001b[39m, \u001b[38;5;241m-\u001b[39m\u001b[38;5;241m82.52704\u001b[39m)}\n",
      "\u001b[0;31mTypeError\u001b[0m: unhashable type: 'list'"
     ]
    }
   ],
   "source": [
    "{list(), 42, 'one string', True, (35.35449, -82.52704)}"
   ]
  },
  {
   "cell_type": "markdown",
   "id": "05d0bf8c",
   "metadata": {},
   "source": [
    "The \"unhashable\" is a hint as to why. We'll return to this when we talk about dictionaries."
   ]
  },
  {
   "cell_type": "code",
   "execution_count": 100,
   "id": "94d2d7cb",
   "metadata": {},
   "outputs": [
    {
     "data": {
      "text/plain": [
       "(42, -4366404013268549066, 1, 2626051304226949494)"
      ]
     },
     "execution_count": 100,
     "metadata": {},
     "output_type": "execute_result"
    }
   ],
   "source": [
    "hash(42), hash('one string'), hash(True), hash((35.35449, -82.52704))"
   ]
  },
  {
   "cell_type": "markdown",
   "id": "3f57405b",
   "metadata": {},
   "source": [
    "## Set Comprehension"
   ]
  },
  {
   "cell_type": "code",
   "execution_count": 101,
   "id": "50ad074e",
   "metadata": {},
   "outputs": [],
   "source": [
    "fizz = {n for n in range(10) if n % 3 == 0}\n",
    "buzz = {n for n in range(10) if n % 5 == 0}"
   ]
  },
  {
   "cell_type": "code",
   "execution_count": 102,
   "id": "7b303469",
   "metadata": {},
   "outputs": [
    {
     "data": {
      "text/plain": [
       "{0, 3, 6, 9}"
      ]
     },
     "execution_count": 102,
     "metadata": {},
     "output_type": "execute_result"
    }
   ],
   "source": [
    "fizz"
   ]
  },
  {
   "cell_type": "code",
   "execution_count": 103,
   "id": "fea52aca",
   "metadata": {},
   "outputs": [
    {
     "data": {
      "text/plain": [
       "{0, 5}"
      ]
     },
     "execution_count": 103,
     "metadata": {},
     "output_type": "execute_result"
    }
   ],
   "source": [
    "buzz"
   ]
  },
  {
   "cell_type": "markdown",
   "id": "779b92ff",
   "metadata": {},
   "source": [
    "## Iterating over items in a set\n",
    "\n",
    "Sets implement the Iterable Protocol. This means they play well with the `for` statement."
   ]
  },
  {
   "cell_type": "code",
   "execution_count": 104,
   "id": "83a5e6ac",
   "metadata": {},
   "outputs": [
    {
     "name": "stdout",
     "output_type": "stream",
     "text": [
      "23\n"
     ]
    }
   ],
   "source": [
    "total = 0\n",
    "for n in fizz | buzz:\n",
    "    total += n\n",
    "print(total)"
   ]
  },
  {
   "cell_type": "markdown",
   "id": "44c82733",
   "metadata": {},
   "source": [
    "## 5b. Lists\n",
    "\n",
    "Ordered sequence of objects.\n",
    "\n",
    "They can be of mixed types, but that way lies madness. You're generally happiest with lists of a uniform type.\n",
    "\n",
    "Literals are wrapped in `[]`.  An empty list is either `[]` or `list()`."
   ]
  },
  {
   "cell_type": "code",
   "execution_count": 105,
   "id": "b5eab7c1",
   "metadata": {},
   "outputs": [
    {
     "data": {
      "text/plain": [
       "[1, 1, 2]"
      ]
     },
     "execution_count": 105,
     "metadata": {},
     "output_type": "execute_result"
    }
   ],
   "source": [
    "fib = [1, 1]\n",
    "fib += [2]\n",
    "fib"
   ]
  },
  {
   "cell_type": "code",
   "execution_count": 106,
   "id": "c23f3962",
   "metadata": {},
   "outputs": [
    {
     "data": {
      "text/plain": [
       "3"
      ]
     },
     "execution_count": 106,
     "metadata": {},
     "output_type": "execute_result"
    }
   ],
   "source": [
    "len(fib)"
   ]
  },
  {
   "cell_type": "markdown",
   "id": "45882052",
   "metadata": {},
   "source": [
    "Index values are the position of an item in the list. Start from zero. End just before the length of the list.\n",
    "\n",
    "Length 3: Index positions are 0, 1, and 2."
   ]
  },
  {
   "cell_type": "code",
   "execution_count": 107,
   "id": "5fecaa12",
   "metadata": {},
   "outputs": [
    {
     "data": {
      "text/plain": [
       "1"
      ]
     },
     "execution_count": 107,
     "metadata": {},
     "output_type": "execute_result"
    }
   ],
   "source": [
    "fib[0]"
   ]
  },
  {
   "cell_type": "code",
   "execution_count": 108,
   "id": "0a6c4f64",
   "metadata": {},
   "outputs": [
    {
     "data": {
      "text/plain": [
       "1"
      ]
     },
     "execution_count": 108,
     "metadata": {},
     "output_type": "execute_result"
    }
   ],
   "source": [
    "fib[1]"
   ]
  },
  {
   "cell_type": "code",
   "execution_count": 109,
   "id": "998a20bd",
   "metadata": {},
   "outputs": [
    {
     "data": {
      "text/plain": [
       "2"
      ]
     },
     "execution_count": 109,
     "metadata": {},
     "output_type": "execute_result"
    }
   ],
   "source": [
    "fib[2]"
   ]
  },
  {
   "cell_type": "code",
   "execution_count": 110,
   "id": "83b3be2d",
   "metadata": {
    "tags": [
     "raises-exception"
    ]
   },
   "outputs": [
    {
     "ename": "IndexError",
     "evalue": "list index out of range",
     "output_type": "error",
     "traceback": [
      "\u001b[0;31m---------------------------------------------------------------------------\u001b[0m",
      "\u001b[0;31mIndexError\u001b[0m                                Traceback (most recent call last)",
      "Cell \u001b[0;32mIn[110], line 1\u001b[0m\n\u001b[0;32m----> 1\u001b[0m \u001b[43mfib\u001b[49m\u001b[43m[\u001b[49m\u001b[38;5;241;43m3\u001b[39;49m\u001b[43m]\u001b[49m\n",
      "\u001b[0;31mIndexError\u001b[0m: list index out of range"
     ]
    }
   ],
   "source": [
    "fib[3]"
   ]
  },
  {
   "cell_type": "markdown",
   "id": "07bfd7f5",
   "metadata": {},
   "source": [
    "## Reverse Index\n",
    "\n",
    "Check this out. Negative index values work backwards."
   ]
  },
  {
   "cell_type": "code",
   "execution_count": 111,
   "id": "d0fb5661",
   "metadata": {},
   "outputs": [
    {
     "data": {
      "text/plain": [
       "'x'"
      ]
     },
     "execution_count": 111,
     "metadata": {},
     "output_type": "execute_result"
    }
   ],
   "source": [
    "letters = list(\"The quick brown fox\")\n",
    "letters[-1]"
   ]
  },
  {
   "cell_type": "code",
   "execution_count": 112,
   "id": "0cf3e9c7",
   "metadata": {},
   "outputs": [
    {
     "data": {
      "text/plain": [
       "'o'"
      ]
     },
     "execution_count": 112,
     "metadata": {},
     "output_type": "execute_result"
    }
   ],
   "source": [
    "letters[-2]"
   ]
  },
  {
   "cell_type": "code",
   "execution_count": 113,
   "id": "495b2e89",
   "metadata": {},
   "outputs": [],
   "source": [
    "pal = list(\"9009\")"
   ]
  },
  {
   "cell_type": "code",
   "execution_count": 114,
   "id": "8cdbe4f7",
   "metadata": {},
   "outputs": [
    {
     "data": {
      "text/plain": [
       "True"
      ]
     },
     "execution_count": 114,
     "metadata": {},
     "output_type": "execute_result"
    }
   ],
   "source": [
    "pal[0] == pal[-1]"
   ]
  },
  {
   "cell_type": "code",
   "execution_count": 115,
   "id": "16639521",
   "metadata": {},
   "outputs": [
    {
     "data": {
      "text/plain": [
       "True"
      ]
     },
     "execution_count": 115,
     "metadata": {},
     "output_type": "execute_result"
    }
   ],
   "source": [
    "pal[1] == pal[-2]"
   ]
  },
  {
   "cell_type": "code",
   "execution_count": 116,
   "id": "85f3df85",
   "metadata": {},
   "outputs": [
    {
     "data": {
      "text/plain": [
       "True"
      ]
     },
     "execution_count": 116,
     "metadata": {},
     "output_type": "execute_result"
    }
   ],
   "source": [
    "pal[2] == pal[-3]"
   ]
  },
  {
   "cell_type": "code",
   "execution_count": 117,
   "id": "f7010290",
   "metadata": {},
   "outputs": [
    {
     "data": {
      "text/plain": [
       "True"
      ]
     },
     "execution_count": 117,
     "metadata": {},
     "output_type": "execute_result"
    }
   ],
   "source": [
    "pal[3] == pal[-4]"
   ]
  },
  {
   "cell_type": "markdown",
   "id": "ab0ccf75",
   "metadata": {},
   "source": [
    "## Mutability"
   ]
  },
  {
   "cell_type": "code",
   "execution_count": 118,
   "id": "b645d47f",
   "metadata": {},
   "outputs": [
    {
     "data": {
      "text/plain": [
       "[1, 1, 2, 3, 5, 8, 13]"
      ]
     },
     "execution_count": 118,
     "metadata": {},
     "output_type": "execute_result"
    }
   ],
   "source": [
    "fib = [1, 1]\n",
    "fib.append(fib[-1] + fib[-2])\n",
    "fib.append(fib[-1] + fib[-2])\n",
    "fib.append(fib[-1] + fib[-2])\n",
    "fib.append(fib[-1] + fib[-2])\n",
    "fib.append(fib[-1] + fib[-2])\n",
    "fib"
   ]
  },
  {
   "cell_type": "markdown",
   "id": "c6209b46",
   "metadata": {},
   "source": [
    "The ``append()`` method adds a single item."
   ]
  },
  {
   "cell_type": "code",
   "execution_count": 119,
   "id": "b0b15b16",
   "metadata": {},
   "outputs": [
    {
     "data": {
      "text/plain": [
       "['one', 'two', 'three']"
      ]
     },
     "execution_count": 119,
     "metadata": {},
     "output_type": "execute_result"
    }
   ],
   "source": [
    "words = []\n",
    "words += [\"one\"]\n",
    "words += [\"two\", \"three\"]\n",
    "words"
   ]
  },
  {
   "cell_type": "markdown",
   "id": "71cddd64",
   "metadata": {},
   "source": [
    "The ``extend()`` method (and the ``+=`` assignment) grow a list with another list."
   ]
  },
  {
   "cell_type": "markdown",
   "id": "bb3ccc0a",
   "metadata": {},
   "source": [
    "## Sorting and Reversing\n",
    "\n",
    "A list has methods to update a list to put in into order."
   ]
  },
  {
   "cell_type": "code",
   "execution_count": 120,
   "id": "5bc4afbc",
   "metadata": {},
   "outputs": [],
   "source": [
    "from random import randint"
   ]
  },
  {
   "cell_type": "code",
   "execution_count": 121,
   "id": "842e3271",
   "metadata": {},
   "outputs": [
    {
     "data": {
      "text/plain": [
       "[6, 8, 9, 4, 7, 9, 2, 5, 12, 3]"
      ]
     },
     "execution_count": 121,
     "metadata": {},
     "output_type": "execute_result"
    }
   ],
   "source": [
    "values = [randint(1, 6)+randint(1, 6) for _ in range(10)]\n",
    "values"
   ]
  },
  {
   "cell_type": "code",
   "execution_count": 122,
   "id": "55107255",
   "metadata": {},
   "outputs": [],
   "source": [
    "values.sort()"
   ]
  },
  {
   "cell_type": "code",
   "execution_count": 123,
   "id": "170108f5",
   "metadata": {},
   "outputs": [
    {
     "data": {
      "text/plain": [
       "[2, 3, 4, 5, 6, 7, 8, 9, 9, 12]"
      ]
     },
     "execution_count": 123,
     "metadata": {},
     "output_type": "execute_result"
    }
   ],
   "source": [
    "values"
   ]
  },
  {
   "cell_type": "code",
   "execution_count": 124,
   "id": "33c5e9b5",
   "metadata": {},
   "outputs": [],
   "source": [
    "values.reverse()"
   ]
  },
  {
   "cell_type": "code",
   "execution_count": 125,
   "id": "2dfd9e97",
   "metadata": {},
   "outputs": [
    {
     "data": {
      "text/plain": [
       "[12, 9, 9, 8, 7, 6, 5, 4, 3, 2]"
      ]
     },
     "execution_count": 125,
     "metadata": {},
     "output_type": "execute_result"
    }
   ],
   "source": [
    "values"
   ]
  },
  {
   "cell_type": "markdown",
   "id": "54a845f9",
   "metadata": {},
   "source": [
    "## List ordering functions\n",
    "\n",
    "The ``sorted()`` function create a new list from an old list.\n",
    "\n",
    "The ``reversed()`` function creates an \"iterator\" from which we can clone the list."
   ]
  },
  {
   "cell_type": "code",
   "execution_count": 126,
   "id": "dc5e5235",
   "metadata": {},
   "outputs": [
    {
     "data": {
      "text/plain": [
       "[7, 11, 7, 10, 10, 4, 10, 4, 6, 12]"
      ]
     },
     "execution_count": 126,
     "metadata": {},
     "output_type": "execute_result"
    }
   ],
   "source": [
    "v2 = [randint(1, 6)+randint(1, 6) for _ in range(10)]\n",
    "v2"
   ]
  },
  {
   "cell_type": "code",
   "execution_count": 127,
   "id": "c7d175e6",
   "metadata": {},
   "outputs": [
    {
     "data": {
      "text/plain": [
       "[4, 4, 6, 7, 7, 10, 10, 10, 11, 12]"
      ]
     },
     "execution_count": 127,
     "metadata": {},
     "output_type": "execute_result"
    }
   ],
   "source": [
    "sorted(v2)"
   ]
  },
  {
   "cell_type": "code",
   "execution_count": 128,
   "id": "55d027d4",
   "metadata": {},
   "outputs": [
    {
     "data": {
      "text/plain": [
       "[12, 6, 4, 10, 4, 10, 10, 7, 11, 7]"
      ]
     },
     "execution_count": 128,
     "metadata": {},
     "output_type": "execute_result"
    }
   ],
   "source": [
    "list(reversed(v2))"
   ]
  },
  {
   "cell_type": "code",
   "execution_count": 129,
   "id": "861d59fc",
   "metadata": {},
   "outputs": [
    {
     "data": {
      "text/plain": [
       "[7, 11, 7, 10, 10, 4, 10, 4, 6, 12]"
      ]
     },
     "execution_count": 129,
     "metadata": {},
     "output_type": "execute_result"
    }
   ],
   "source": [
    "v2"
   ]
  },
  {
   "cell_type": "code",
   "execution_count": 130,
   "id": "f05e3afa",
   "metadata": {},
   "outputs": [
    {
     "data": {
      "text/plain": [
       "4"
      ]
     },
     "execution_count": 130,
     "metadata": {},
     "output_type": "execute_result"
    }
   ],
   "source": [
    "min(v2)"
   ]
  },
  {
   "cell_type": "code",
   "execution_count": 131,
   "id": "aeceb818",
   "metadata": {},
   "outputs": [
    {
     "data": {
      "text/plain": [
       "12"
      ]
     },
     "execution_count": 131,
     "metadata": {},
     "output_type": "execute_result"
    }
   ],
   "source": [
    "max(v2)"
   ]
  },
  {
   "cell_type": "code",
   "execution_count": 132,
   "id": "c8b90eec",
   "metadata": {},
   "outputs": [
    {
     "data": {
      "text/plain": [
       "2"
      ]
     },
     "execution_count": 132,
     "metadata": {},
     "output_type": "execute_result"
    }
   ],
   "source": [
    "v2.count(min(v2))"
   ]
  },
  {
   "cell_type": "markdown",
   "id": "8c22dcc0",
   "metadata": {},
   "source": [
    "## List Slicing"
   ]
  },
  {
   "cell_type": "code",
   "execution_count": 133,
   "id": "13eecfbd",
   "metadata": {},
   "outputs": [],
   "source": [
    "word_list = \"Omitting it is as hard as making muffins without flour\".split()"
   ]
  },
  {
   "cell_type": "code",
   "execution_count": 134,
   "id": "f8beec1e",
   "metadata": {},
   "outputs": [
    {
     "data": {
      "text/plain": [
       "['Omitting', 'it', 'is', 'as', 'hard', 'as']"
      ]
     },
     "execution_count": 134,
     "metadata": {},
     "output_type": "execute_result"
    }
   ],
   "source": [
    "word_list[:6]"
   ]
  },
  {
   "cell_type": "code",
   "execution_count": 135,
   "id": "4e1abb75",
   "metadata": {},
   "outputs": [
    {
     "data": {
      "text/plain": [
       "['making', 'muffins', 'without', 'flour']"
      ]
     },
     "execution_count": 135,
     "metadata": {},
     "output_type": "execute_result"
    }
   ],
   "source": [
    "word_list[6:]"
   ]
  },
  {
   "cell_type": "code",
   "execution_count": 136,
   "id": "2b79d938",
   "metadata": {},
   "outputs": [
    {
     "data": {
      "text/plain": [
       "['is', 'as', 'hard', 'as']"
      ]
     },
     "execution_count": 136,
     "metadata": {},
     "output_type": "execute_result"
    }
   ],
   "source": [
    "word_list[2:6]"
   ]
  },
  {
   "cell_type": "code",
   "execution_count": 137,
   "id": "ce9b7d36",
   "metadata": {},
   "outputs": [
    {
     "data": {
      "text/plain": [
       "['making', 'muffins', 'without', 'flour']"
      ]
     },
     "execution_count": 137,
     "metadata": {},
     "output_type": "execute_result"
    }
   ],
   "source": [
    "word_list[-4:]"
   ]
  },
  {
   "cell_type": "markdown",
   "id": "ab4be1d3",
   "metadata": {},
   "source": [
    "## Iterating Over Items In a List"
   ]
  },
  {
   "cell_type": "code",
   "execution_count": 138,
   "id": "54bd3b90",
   "metadata": {},
   "outputs": [
    {
     "name": "stdout",
     "output_type": "stream",
     "text": [
      "0 words with e\n"
     ]
    }
   ],
   "source": [
    "word_list = \"Omitting it is as hard as\".split()\n",
    "word_list.extend(\"making muffins without flour\".split())\n",
    "words_with_e = 0\n",
    "for word in word_list:\n",
    "    if \"e\" in word:\n",
    "        words_with_e += 1\n",
    "print(f\"{words_with_e} words with e\")"
   ]
  },
  {
   "cell_type": "code",
   "execution_count": 139,
   "id": "d3abc40a",
   "metadata": {},
   "outputs": [
    {
     "data": {
      "text/plain": [
       "['Omitting',\n",
       " 'it',\n",
       " 'is',\n",
       " 'as',\n",
       " 'hard',\n",
       " 'as',\n",
       " 'making',\n",
       " 'muffins',\n",
       " 'without',\n",
       " 'flour']"
      ]
     },
     "execution_count": 139,
     "metadata": {},
     "output_type": "execute_result"
    }
   ],
   "source": [
    "word_list"
   ]
  },
  {
   "cell_type": "markdown",
   "id": "020ef60e",
   "metadata": {},
   "source": [
    "## 5c. Dictionaries\n",
    "\n",
    "A Key➔Value Mapping. \n",
    "\n",
    "Literals have ``:`` and are wrapped in ``{}``. The ``dict()`` function expects a sequence of two-tuples. "
   ]
  },
  {
   "cell_type": "code",
   "execution_count": 140,
   "id": "6a3e179c",
   "metadata": {},
   "outputs": [],
   "source": [
    "words = {\n",
    "    \"one\": 1, \"two\": 2, \"three\": 3, \n",
    "    \"four\": 4, \"five\": 5, \"six\": 6, \n",
    "    \"seven\": 7, \"eight\": 8, \"nine\": 9}"
   ]
  },
  {
   "cell_type": "code",
   "execution_count": 141,
   "id": "f4e2aa85",
   "metadata": {},
   "outputs": [
    {
     "data": {
      "text/plain": [
       "2"
      ]
     },
     "execution_count": 141,
     "metadata": {},
     "output_type": "execute_result"
    }
   ],
   "source": [
    "words[\"two\"]"
   ]
  },
  {
   "cell_type": "code",
   "execution_count": 142,
   "id": "d955e597",
   "metadata": {},
   "outputs": [
    {
     "data": {
      "text/plain": [
       "42"
      ]
     },
     "execution_count": 142,
     "metadata": {},
     "output_type": "execute_result"
    }
   ],
   "source": [
    "words[\"four\"]*10 + words[\"two\"]"
   ]
  },
  {
   "cell_type": "code",
   "execution_count": 143,
   "id": "2affec65",
   "metadata": {
    "tags": [
     "raises-exception"
    ]
   },
   "outputs": [
    {
     "ename": "KeyError",
     "evalue": "'ten'",
     "output_type": "error",
     "traceback": [
      "\u001b[0;31m---------------------------------------------------------------------------\u001b[0m",
      "\u001b[0;31mKeyError\u001b[0m                                  Traceback (most recent call last)",
      "Cell \u001b[0;32mIn[143], line 1\u001b[0m\n\u001b[0;32m----> 1\u001b[0m \u001b[43mwords\u001b[49m\u001b[43m[\u001b[49m\u001b[38;5;124;43m\"\u001b[39;49m\u001b[38;5;124;43mten\u001b[39;49m\u001b[38;5;124;43m\"\u001b[39;49m\u001b[43m]\u001b[49m\n",
      "\u001b[0;31mKeyError\u001b[0m: 'ten'"
     ]
    }
   ],
   "source": [
    "words[\"ten\"]"
   ]
  },
  {
   "cell_type": "code",
   "execution_count": 144,
   "id": "1b3f5708",
   "metadata": {},
   "outputs": [
    {
     "data": {
      "text/plain": [
       "-1"
      ]
     },
     "execution_count": 144,
     "metadata": {},
     "output_type": "execute_result"
    }
   ],
   "source": [
    "words.get(\"ten\", -1)"
   ]
  },
  {
   "cell_type": "code",
   "execution_count": 145,
   "id": "75ee9669",
   "metadata": {},
   "outputs": [
    {
     "data": {
      "text/plain": [
       "dict_keys(['one', 'two', 'three', 'four', 'five', 'six', 'seven', 'eight', 'nine'])"
      ]
     },
     "execution_count": 145,
     "metadata": {},
     "output_type": "execute_result"
    }
   ],
   "source": [
    "words.keys()"
   ]
  },
  {
   "cell_type": "code",
   "execution_count": 146,
   "id": "a85450ff",
   "metadata": {},
   "outputs": [
    {
     "data": {
      "text/plain": [
       "dict_values([1, 2, 3, 4, 5, 6, 7, 8, 9])"
      ]
     },
     "execution_count": 146,
     "metadata": {},
     "output_type": "execute_result"
    }
   ],
   "source": [
    "words.values()"
   ]
  },
  {
   "cell_type": "markdown",
   "id": "d652c29e",
   "metadata": {},
   "source": [
    "## Mutability"
   ]
  },
  {
   "cell_type": "code",
   "execution_count": 147,
   "id": "2fecd43b",
   "metadata": {
    "tags": [
     "raises-exception"
    ]
   },
   "outputs": [
    {
     "ename": "KeyError",
     "evalue": "'ten'",
     "output_type": "error",
     "traceback": [
      "\u001b[0;31m---------------------------------------------------------------------------\u001b[0m",
      "\u001b[0;31mKeyError\u001b[0m                                  Traceback (most recent call last)",
      "Cell \u001b[0;32mIn[147], line 1\u001b[0m\n\u001b[0;32m----> 1\u001b[0m \u001b[43mwords\u001b[49m\u001b[43m[\u001b[49m\u001b[38;5;124;43m\"\u001b[39;49m\u001b[38;5;124;43mten\u001b[39;49m\u001b[38;5;124;43m\"\u001b[39;49m\u001b[43m]\u001b[49m\n",
      "\u001b[0;31mKeyError\u001b[0m: 'ten'"
     ]
    }
   ],
   "source": [
    "words[\"ten\"]"
   ]
  },
  {
   "cell_type": "code",
   "execution_count": 148,
   "id": "496bf140",
   "metadata": {},
   "outputs": [
    {
     "data": {
      "text/plain": [
       "False"
      ]
     },
     "execution_count": 148,
     "metadata": {},
     "output_type": "execute_result"
    }
   ],
   "source": [
    "\"ten\" in words"
   ]
  },
  {
   "cell_type": "code",
   "execution_count": 149,
   "id": "bd55deed",
   "metadata": {},
   "outputs": [],
   "source": [
    "words[\"ten\"] = 10\n",
    "words[\"zero\"] = 0"
   ]
  },
  {
   "cell_type": "code",
   "execution_count": 150,
   "id": "4940caf2",
   "metadata": {},
   "outputs": [
    {
     "data": {
      "text/plain": [
       "True"
      ]
     },
     "execution_count": 150,
     "metadata": {},
     "output_type": "execute_result"
    }
   ],
   "source": [
    "\"ten\" in words"
   ]
  },
  {
   "cell_type": "code",
   "execution_count": 151,
   "id": "a3003f85",
   "metadata": {},
   "outputs": [],
   "source": [
    "del words[\"ten\"]"
   ]
  },
  {
   "cell_type": "code",
   "execution_count": 152,
   "id": "6d72f8c6",
   "metadata": {},
   "outputs": [
    {
     "data": {
      "text/plain": [
       "False"
      ]
     },
     "execution_count": 152,
     "metadata": {},
     "output_type": "execute_result"
    }
   ],
   "source": [
    "\"ten\" in words"
   ]
  },
  {
   "cell_type": "markdown",
   "id": "3a4b6afe",
   "metadata": {},
   "source": [
    "## Dictionary Iteration"
   ]
  },
  {
   "cell_type": "code",
   "execution_count": 153,
   "id": "ed8d3697",
   "metadata": {},
   "outputs": [
    {
     "name": "stdout",
     "output_type": "stream",
     "text": [
      "' '  8\n",
      "'O'  1\n",
      "'a'  4\n",
      "'d'  1\n",
      "'f'  3\n",
      "'g'  2\n",
      "'h'  2\n",
      "'i'  7\n",
      "'k'  1\n",
      "'l'  1\n",
      "'m'  3\n",
      "'n'  3\n",
      "'o'  2\n",
      "'r'  2\n",
      "'s'  4\n",
      "'t'  5\n",
      "'u'  3\n",
      "'w'  1\n",
      "'e' count = Wait, what?\n"
     ]
    }
   ],
   "source": [
    "text = (\"Omitting it is as hard as\"\n",
    "    \"making muffins without flour\")\n",
    "letter_count = {}\n",
    "for letter in text:\n",
    "    letter_count[letter] = letter_count.get(letter, 0) + 1\n",
    "for letter in sorted(letter_count):\n",
    "    print(f\"{letter!r} {letter_count[letter]:2d}\")\n",
    "print(f\"'e' count = {letter_count.get('e', 'Wait, what?')}\")"
   ]
  },
  {
   "cell_type": "code",
   "execution_count": 154,
   "id": "17c15515",
   "metadata": {},
   "outputs": [
    {
     "name": "stdout",
     "output_type": "stream",
     "text": [
      "' '  8\n",
      "'O'  1\n",
      "'a'  4\n",
      "'d'  1\n",
      "'f'  3\n",
      "'g'  2\n",
      "'h'  2\n",
      "'i'  7\n",
      "'k'  1\n",
      "'l'  1\n",
      "'m'  3\n",
      "'n'  3\n",
      "'o'  2\n",
      "'r'  2\n",
      "'s'  4\n",
      "'t'  5\n",
      "'u'  3\n",
      "'w'  1\n"
     ]
    }
   ],
   "source": [
    "from collections import defaultdict\n",
    "letter_count_d = defaultdict(int)\n",
    "for letter in text:\n",
    "    letter_count_d[letter] += 1\n",
    "for letter in sorted(letter_count_d):\n",
    "    print(f\"{letter!r} {letter_count_d[letter]:2d}\")"
   ]
  },
  {
   "cell_type": "code",
   "execution_count": 155,
   "id": "960d77c0",
   "metadata": {},
   "outputs": [
    {
     "name": "stdout",
     "output_type": "stream",
     "text": [
      "' '  8\n",
      "'O'  1\n",
      "'a'  4\n",
      "'d'  1\n",
      "'f'  3\n",
      "'g'  2\n",
      "'h'  2\n",
      "'i'  7\n",
      "'k'  1\n",
      "'l'  1\n",
      "'m'  3\n",
      "'n'  3\n",
      "'o'  2\n",
      "'r'  2\n",
      "'s'  4\n",
      "'t'  5\n",
      "'u'  3\n",
      "'w'  1\n"
     ]
    }
   ],
   "source": [
    "from collections import Counter\n",
    "letter_count_c = Counter(text)\n",
    "for letter in sorted(letter_count_c):\n",
    "    print(f\"{letter!r} {letter_count_c[letter]:2d}\")"
   ]
  },
  {
   "cell_type": "markdown",
   "id": "6bd5303a",
   "metadata": {},
   "source": [
    "## 5d. Composite Objects\n",
    "\n",
    "Example is a spreadsheet in CSV notation.\n",
    "\n",
    "Rows of dictionaries with row header and row value."
   ]
  },
  {
   "cell_type": "code",
   "execution_count": 156,
   "id": "ca47dff2",
   "metadata": {
    "tags": []
   },
   "outputs": [],
   "source": [
    "import csv\n",
    "from pathlib import Path"
   ]
  },
  {
   "cell_type": "code",
   "execution_count": 157,
   "id": "541f3418",
   "metadata": {
    "tags": []
   },
   "outputs": [],
   "source": [
    "repo = Path.cwd().parent\n",
    "source = repo / \"data\" / \"series_1.csv\"\n",
    "with source.open() as source_file:\n",
    "    reader = csv.DictReader(source_file)\n",
    "    data = list(reader)"
   ]
  },
  {
   "cell_type": "markdown",
   "id": "1b5ddd05",
   "metadata": {},
   "source": [
    "We've defined the ``Path`` to our data. It's in the current working directory.\n",
    "\n",
    "We've opened the file in a context (so that it will be properly closed when we're done.)\n",
    "\n",
    "We've created a Reader for the CSV-format data. This will parse each line of text and create a dictionary for the row of data\n",
    "\n",
    "We created a list object from the rows of data."
   ]
  },
  {
   "cell_type": "code",
   "execution_count": 158,
   "id": "846e95f7",
   "metadata": {},
   "outputs": [
    {
     "data": {
      "text/plain": [
       "[{'x': '10.0', 'y': '8.04'},\n",
       " {'x': '8.0', 'y': '6.95'},\n",
       " {'x': '13.0', 'y': '7.58'},\n",
       " {'x': '9.0', 'y': '8.81'},\n",
       " {'x': '11.0', 'y': '8.33'},\n",
       " {'x': '14.0', 'y': '9.96'},\n",
       " {'x': '6.0', 'y': '7.24'},\n",
       " {'x': '4.0', 'y': '4.26'},\n",
       " {'x': '12.0', 'y': '10.84'},\n",
       " {'x': '7.0', 'y': '4.82'},\n",
       " {'x': '5.0', 'y': '5.68'}]"
      ]
     },
     "execution_count": 158,
     "metadata": {},
     "output_type": "execute_result"
    }
   ],
   "source": [
    "data"
   ]
  },
  {
   "cell_type": "markdown",
   "id": "b1e19417",
   "metadata": {},
   "source": [
    "The type annotation is the following"
   ]
  },
  {
   "cell_type": "code",
   "execution_count": 159,
   "id": "d74fabe5",
   "metadata": {},
   "outputs": [
    {
     "data": {
      "text/plain": [
       "list[dict[str, str]]"
      ]
     },
     "execution_count": 159,
     "metadata": {},
     "output_type": "execute_result"
    }
   ],
   "source": [
    "list[dict[str, str]]"
   ]
  },
  {
   "cell_type": "markdown",
   "id": "f2dcff7d",
   "metadata": {},
   "source": [
    "The values are all strings; we really need them to be float values. That's the topic for part III. Working with the built-in data structures.\n",
    "\n",
    "Here are some teasers."
   ]
  },
  {
   "cell_type": "code",
   "execution_count": 160,
   "id": "4672a33e",
   "metadata": {},
   "outputs": [
    {
     "name": "stdout",
     "output_type": "stream",
     "text": [
      "10.00  8.04\n",
      " 8.00  6.95\n",
      "13.00  7.58\n",
      " 9.00  8.81\n",
      "11.00  8.33\n",
      "14.00  9.96\n",
      " 6.00  7.24\n",
      " 4.00  4.26\n",
      "12.00 10.84\n",
      " 7.00  4.82\n",
      " 5.00  5.68\n"
     ]
    }
   ],
   "source": [
    "for row in data:\n",
    "    print(f\"{float(row['x']):5.2f} {float(row['y']):5.2f}\")"
   ]
  },
  {
   "cell_type": "code",
   "execution_count": 161,
   "id": "3eee8f4f",
   "metadata": {},
   "outputs": [],
   "source": [
    "x_values = [float(row['x']) for row in data]"
   ]
  },
  {
   "cell_type": "code",
   "execution_count": 162,
   "id": "629920de",
   "metadata": {},
   "outputs": [
    {
     "data": {
      "text/plain": [
       "4.0"
      ]
     },
     "execution_count": 162,
     "metadata": {},
     "output_type": "execute_result"
    }
   ],
   "source": [
    "min(x_values)"
   ]
  },
  {
   "cell_type": "code",
   "execution_count": 163,
   "id": "fb586b51",
   "metadata": {},
   "outputs": [],
   "source": [
    "from statistics import mean, stdev"
   ]
  },
  {
   "cell_type": "code",
   "execution_count": 164,
   "id": "4412ce72",
   "metadata": {},
   "outputs": [
    {
     "name": "stdout",
     "output_type": "stream",
     "text": [
      "mean = 9.0\n"
     ]
    }
   ],
   "source": [
    "print(f\"mean = {mean(x_values)}\")"
   ]
  },
  {
   "cell_type": "code",
   "execution_count": 165,
   "id": "aad4a0b8",
   "metadata": {},
   "outputs": [
    {
     "name": "stdout",
     "output_type": "stream",
     "text": [
      "stdev = 3.3166247903554\n"
     ]
    }
   ],
   "source": [
    "print(f\"stdev = {stdev(x_values)}\")"
   ]
  },
  {
   "cell_type": "markdown",
   "id": "6da36ff2",
   "metadata": {},
   "source": [
    "## 6. Assignment and Variables"
   ]
  },
  {
   "cell_type": "markdown",
   "id": "9ba57947",
   "metadata": {},
   "source": [
    "Important additional note on the language at its foundation.\n",
    "\n",
    "What is a variable?\n",
    "\n",
    "Lots of languages have variable declarations where a variable is bound to a type.\n",
    "\n",
    "There's no such thing in Python."
   ]
  },
  {
   "cell_type": "code",
   "execution_count": 166,
   "id": "9f573662",
   "metadata": {},
   "outputs": [],
   "source": [
    "a = 42"
   ]
  },
  {
   "cell_type": "code",
   "execution_count": 167,
   "id": "f8879273",
   "metadata": {},
   "outputs": [
    {
     "data": {
      "text/plain": [
       "int"
      ]
     },
     "execution_count": 167,
     "metadata": {},
     "output_type": "execute_result"
    }
   ],
   "source": [
    "type(a)"
   ]
  },
  {
   "cell_type": "code",
   "execution_count": 168,
   "id": "dfcb2b69",
   "metadata": {},
   "outputs": [],
   "source": [
    "a = \"forty-two\""
   ]
  },
  {
   "cell_type": "code",
   "execution_count": 169,
   "id": "24a9b4ff",
   "metadata": {},
   "outputs": [
    {
     "data": {
      "text/plain": [
       "str"
      ]
     },
     "execution_count": 169,
     "metadata": {},
     "output_type": "execute_result"
    }
   ],
   "source": [
    "type(a)"
   ]
  },
  {
   "cell_type": "code",
   "execution_count": 170,
   "id": "f9452a82",
   "metadata": {},
   "outputs": [],
   "source": [
    "del a"
   ]
  },
  {
   "cell_type": "code",
   "execution_count": 171,
   "id": "aaa5b789",
   "metadata": {
    "tags": [
     "raises-exception"
    ]
   },
   "outputs": [
    {
     "ename": "NameError",
     "evalue": "name 'a' is not defined",
     "output_type": "error",
     "traceback": [
      "\u001b[0;31m---------------------------------------------------------------------------\u001b[0m",
      "\u001b[0;31mNameError\u001b[0m                                 Traceback (most recent call last)",
      "Cell \u001b[0;32mIn[171], line 1\u001b[0m\n\u001b[0;32m----> 1\u001b[0m \u001b[38;5;28mtype\u001b[39m(\u001b[43ma\u001b[49m)\n",
      "\u001b[0;31mNameError\u001b[0m: name 'a' is not defined"
     ]
    }
   ],
   "source": [
    "type(a)"
   ]
  },
  {
   "cell_type": "markdown",
   "id": "5bfd6b84",
   "metadata": {},
   "source": [
    "Yes. We can delete variable names. They're dynamic; not declared.\n",
    "\n",
    "How does this work?\n",
    "\n",
    "Need to switch to a non-iPython session to show this.\n",
    "\n",
    "```\n",
    "(python4hr) slott@MacBookPro-SLott ODSC-Live-4hr % python\n",
    "Python 3.9.6 (default, Aug 18 2021, 12:38:10) \n",
    "[Clang 10.0.0 ] :: Anaconda, Inc. on darwin\n",
    "Type \"help\", \"copyright\", \"credits\" or \"license\" for more information.\n",
    ">>> locals()\n",
    "{'__name__': '__main__', '__doc__': None, '__package__': None, '__loader__': <class '_frozen_importlib.BuiltinImporter'>, '__spec__': None, '__annotations__': {}, '__builtins__': <module 'builtins' (built-in)>}\n",
    ">>> a = 42\n",
    ">>> locals()\n",
    "{'__name__': '__main__', '__doc__': None, '__package__': None, '__loader__': <class '_frozen_importlib.BuiltinImporter'>, '__spec__': None, '__annotations__': {}, '__builtins__': <module 'builtins' (built-in)>, 'a': 42}\n",
    ">>>\n",
    "```"
   ]
  },
  {
   "cell_type": "markdown",
   "id": "b755b4e6",
   "metadata": {},
   "source": [
    "Python variables are a dictionary. The dictionary maps variable names to objects.\n",
    "\n",
    "We call it a \"namespace\" because it is the context in which variable names are understood.\n",
    "\n",
    "Objects have types.\n",
    "\n",
    "Variables are just a sticky note hanging off the object.\n",
    "\n",
    "There are other namespaces to for class names, imported modules, warning status, loggers, codecs. Lots of namespaces."
   ]
  },
  {
   "cell_type": "markdown",
   "id": "b3b87488",
   "metadata": {},
   "source": [
    "The core assignment statement, ``=``, creates or replaces the labeled value in a namespace. "
   ]
  },
  {
   "cell_type": "markdown",
   "id": "5b8014ab",
   "metadata": {},
   "source": [
    "# Shared References"
   ]
  },
  {
   "cell_type": "code",
   "execution_count": 172,
   "id": "e8cd48b5",
   "metadata": {},
   "outputs": [],
   "source": [
    "a = 3.1415926"
   ]
  },
  {
   "cell_type": "code",
   "execution_count": 173,
   "id": "e81fc089",
   "metadata": {},
   "outputs": [],
   "source": [
    "b = a"
   ]
  },
  {
   "cell_type": "code",
   "execution_count": 174,
   "id": "a5a9169a",
   "metadata": {},
   "outputs": [
    {
     "data": {
      "text/plain": [
       "4586975152"
      ]
     },
     "execution_count": 174,
     "metadata": {},
     "output_type": "execute_result"
    }
   ],
   "source": [
    "id(a)"
   ]
  },
  {
   "cell_type": "code",
   "execution_count": 175,
   "id": "2319c1f9",
   "metadata": {},
   "outputs": [
    {
     "data": {
      "text/plain": [
       "4586975152"
      ]
     },
     "execution_count": 175,
     "metadata": {},
     "output_type": "execute_result"
    }
   ],
   "source": [
    "id(b)"
   ]
  },
  {
   "cell_type": "code",
   "execution_count": 176,
   "id": "5a08cd4d",
   "metadata": {},
   "outputs": [
    {
     "data": {
      "text/plain": [
       "True"
      ]
     },
     "execution_count": 176,
     "metadata": {},
     "output_type": "execute_result"
    }
   ],
   "source": [
    "b is a"
   ]
  },
  {
   "cell_type": "code",
   "execution_count": 177,
   "id": "c4bc45b3",
   "metadata": {},
   "outputs": [],
   "source": [
    "a = a * 2"
   ]
  },
  {
   "cell_type": "code",
   "execution_count": 178,
   "id": "fb9c1748",
   "metadata": {},
   "outputs": [
    {
     "data": {
      "text/plain": [
       "4586975344"
      ]
     },
     "execution_count": 178,
     "metadata": {},
     "output_type": "execute_result"
    }
   ],
   "source": [
    "id(a)"
   ]
  },
  {
   "cell_type": "code",
   "execution_count": 179,
   "id": "fcd72fb6",
   "metadata": {},
   "outputs": [],
   "source": [
    "x = y = [1, 1, 2, 3, 5, 8]"
   ]
  },
  {
   "cell_type": "code",
   "execution_count": 180,
   "id": "7bed5510",
   "metadata": {},
   "outputs": [
    {
     "data": {
      "text/plain": [
       "True"
      ]
     },
     "execution_count": 180,
     "metadata": {},
     "output_type": "execute_result"
    }
   ],
   "source": [
    "x is y"
   ]
  },
  {
   "cell_type": "code",
   "execution_count": 181,
   "id": "a65d5e5a",
   "metadata": {},
   "outputs": [],
   "source": [
    "x.append(x[-1]+x[-2])"
   ]
  },
  {
   "cell_type": "code",
   "execution_count": 182,
   "id": "13956990",
   "metadata": {},
   "outputs": [
    {
     "data": {
      "text/plain": [
       "[1, 1, 2, 3, 5, 8, 13]"
      ]
     },
     "execution_count": 182,
     "metadata": {},
     "output_type": "execute_result"
    }
   ],
   "source": [
    "y"
   ]
  },
  {
   "cell_type": "markdown",
   "id": "4cb71f10",
   "metadata": {},
   "source": [
    "## Shared References and Functions\n",
    "\n",
    "A not completely obvious consequence of this is two variables can share a reference to an object.  \n",
    "\n",
    "This is how function parameters work."
   ]
  },
  {
   "cell_type": "code",
   "execution_count": 183,
   "id": "28ab7aea",
   "metadata": {},
   "outputs": [],
   "source": [
    "def palindromic(n: int) -> bool:\n",
    "    n_text = str(n)\n",
    "    for i in range(len(n_text)):\n",
    "        if n_text[i] != n_text[-1-i]:\n",
    "            return False\n",
    "    return True"
   ]
  },
  {
   "cell_type": "code",
   "execution_count": 184,
   "id": "e6836480",
   "metadata": {},
   "outputs": [
    {
     "data": {
      "text/plain": [
       "True"
      ]
     },
     "execution_count": 184,
     "metadata": {},
     "output_type": "execute_result"
    }
   ],
   "source": [
    "palindromic(9009)"
   ]
  },
  {
   "cell_type": "code",
   "execution_count": 185,
   "id": "870fb6a1",
   "metadata": {},
   "outputs": [
    {
     "data": {
      "text/plain": [
       "False"
      ]
     },
     "execution_count": 185,
     "metadata": {},
     "output_type": "execute_result"
    }
   ],
   "source": [
    "palindromic(1234)"
   ]
  },
  {
   "cell_type": "code",
   "execution_count": 186,
   "id": "286cf7fd",
   "metadata": {},
   "outputs": [
    {
     "data": {
      "text/plain": [
       "True"
      ]
     },
     "execution_count": 186,
     "metadata": {},
     "output_type": "execute_result"
    }
   ],
   "source": [
    "a = 959\n",
    "palindromic(a)"
   ]
  },
  {
   "cell_type": "markdown",
   "id": "0b91660d",
   "metadata": {},
   "source": [
    "Consider what happens inside the ``palindromic()`` function:\n",
    "\n",
    "A single object, ``959``, will have two references:\n",
    "\n",
    "- both ``a`` (in the global namespace)\n",
    "- and ``n`` (in the function's namespace)\n",
    "\n",
    "Other obejcts, like the string ``\"959\"`` assigned to ``n_text`` only has a reference count of one.\n",
    "\n",
    "When the function is done, objects are removed:\n",
    "\n",
    "1. The namespace associated with the function evaluation is removed.\n",
    "\n",
    "2. The objects in the ``locals()`` dictionary are no longer referenced by the namespace. Theese are ``n_text``, ``n``, and ``i``.\n",
    "\n",
    "3. Objects with a zero reference count (i.e. local objects) are cleaned up.\n",
    "   Other objects have a non-zero reference count; these are shared."
   ]
  },
  {
   "cell_type": "markdown",
   "id": "15c01d55",
   "metadata": {},
   "source": [
    "## Spooky Action at a Distance\n",
    "\n",
    "This is a rare mistake, but everyone makes it sooner or later.\n",
    "\n",
    "Two references to a mutable object."
   ]
  },
  {
   "cell_type": "code",
   "execution_count": 187,
   "id": "f3dbd8f6",
   "metadata": {},
   "outputs": [],
   "source": [
    "d_1 = {\"Some\": \"Dictionary\", \"Of\": \"Values\"}"
   ]
  },
  {
   "cell_type": "code",
   "execution_count": 188,
   "id": "81feda05",
   "metadata": {},
   "outputs": [],
   "source": [
    "d_1[\"Like\"] = \"This\""
   ]
  },
  {
   "cell_type": "code",
   "execution_count": 189,
   "id": "159e70ea",
   "metadata": {},
   "outputs": [
    {
     "data": {
      "text/plain": [
       "{'Some': 'Dictionary', 'Of': 'Values', 'Like': 'This'}"
      ]
     },
     "execution_count": 189,
     "metadata": {},
     "output_type": "execute_result"
    }
   ],
   "source": [
    "d_1"
   ]
  },
  {
   "cell_type": "code",
   "execution_count": 190,
   "id": "799fd7ef",
   "metadata": {},
   "outputs": [],
   "source": [
    "d_2 = d_1"
   ]
  },
  {
   "cell_type": "markdown",
   "id": "8b47be37",
   "metadata": {},
   "source": [
    "What just happened?\n",
    "\n",
    "Copy of the entire dictionary?\n",
    "\n",
    "Shared reference?"
   ]
  },
  {
   "cell_type": "code",
   "execution_count": 191,
   "id": "7017f6ea",
   "metadata": {},
   "outputs": [],
   "source": [
    "del d_2[\"Some\"]"
   ]
  },
  {
   "cell_type": "code",
   "execution_count": 192,
   "id": "1394f03c",
   "metadata": {},
   "outputs": [
    {
     "data": {
      "text/plain": [
       "{'Of': 'Values', 'Like': 'This'}"
      ]
     },
     "execution_count": 192,
     "metadata": {},
     "output_type": "execute_result"
    }
   ],
   "source": [
    "d_2"
   ]
  },
  {
   "cell_type": "markdown",
   "id": "3627770f",
   "metadata": {},
   "source": [
    "What happens to ``d_1``?"
   ]
  },
  {
   "cell_type": "code",
   "execution_count": 193,
   "id": "90a6b544",
   "metadata": {},
   "outputs": [
    {
     "data": {
      "text/plain": [
       "{'Of': 'Values', 'Like': 'This'}"
      ]
     },
     "execution_count": 193,
     "metadata": {},
     "output_type": "execute_result"
    }
   ],
   "source": [
    "d_1"
   ]
  },
  {
   "cell_type": "markdown",
   "id": "24b4c286",
   "metadata": {},
   "source": [
    "This is super handy when you provide a mutable object to a function as an argument value.\n",
    "\n",
    "But.\n",
    "\n",
    "Be wary of simply assigning mutable objects to other variables.\n",
    "\n",
    "If you want a copy, ask for it"
   ]
  },
  {
   "cell_type": "code",
   "execution_count": 194,
   "id": "44cceda9",
   "metadata": {},
   "outputs": [],
   "source": [
    "d_copy = d_1.copy()"
   ]
  },
  {
   "cell_type": "code",
   "execution_count": 195,
   "id": "870fde44",
   "metadata": {},
   "outputs": [],
   "source": [
    "d_copy[\"Some\"] = \"Collection\""
   ]
  },
  {
   "cell_type": "code",
   "execution_count": 196,
   "id": "241d84c8",
   "metadata": {},
   "outputs": [
    {
     "data": {
      "text/plain": [
       "{'Of': 'Values', 'Like': 'This'}"
      ]
     },
     "execution_count": 196,
     "metadata": {},
     "output_type": "execute_result"
    }
   ],
   "source": [
    "d_1"
   ]
  },
  {
   "cell_type": "code",
   "execution_count": 197,
   "id": "7ba603c2",
   "metadata": {},
   "outputs": [
    {
     "data": {
      "text/plain": [
       "{'Of': 'Values', 'Like': 'This', 'Some': 'Collection'}"
      ]
     },
     "execution_count": 197,
     "metadata": {},
     "output_type": "execute_result"
    }
   ],
   "source": [
    "d_copy"
   ]
  },
  {
   "cell_type": "markdown",
   "id": "cce459a4",
   "metadata": {},
   "source": [
    "## Default parameter values"
   ]
  },
  {
   "cell_type": "code",
   "execution_count": 198,
   "id": "07c881aa",
   "metadata": {},
   "outputs": [],
   "source": [
    "def next_fib(fib_list = [1, 1]):\n",
    "    fib_list.append(fib_list[-1] + fib_list[-2])\n",
    "    return fib_list"
   ]
  },
  {
   "cell_type": "code",
   "execution_count": 199,
   "id": "f4023eb2",
   "metadata": {},
   "outputs": [],
   "source": [
    "some_list = [1, 1, 2, 3, 5, 8]\n",
    "bigger_list = next_fib(some_list)"
   ]
  },
  {
   "cell_type": "code",
   "execution_count": 200,
   "id": "632ded69",
   "metadata": {},
   "outputs": [
    {
     "data": {
      "text/plain": [
       "[1, 1, 2, 3, 5, 8, 13]"
      ]
     },
     "execution_count": 200,
     "metadata": {},
     "output_type": "execute_result"
    }
   ],
   "source": [
    "bigger_list"
   ]
  },
  {
   "cell_type": "code",
   "execution_count": 201,
   "id": "b14e900d",
   "metadata": {},
   "outputs": [
    {
     "data": {
      "text/plain": [
       "[1, 1, 2, 3, 5, 8, 13]"
      ]
     },
     "execution_count": 201,
     "metadata": {},
     "output_type": "execute_result"
    }
   ],
   "source": [
    "some_list"
   ]
  },
  {
   "cell_type": "code",
   "execution_count": 202,
   "id": "0344f317",
   "metadata": {},
   "outputs": [
    {
     "data": {
      "text/plain": [
       "True"
      ]
     },
     "execution_count": 202,
     "metadata": {},
     "output_type": "execute_result"
    }
   ],
   "source": [
    "some_list is bigger_list"
   ]
  },
  {
   "cell_type": "code",
   "execution_count": 203,
   "id": "5a33092e",
   "metadata": {},
   "outputs": [],
   "source": [
    "starter_list_1 = next_fib()"
   ]
  },
  {
   "cell_type": "code",
   "execution_count": 204,
   "id": "b9c24c81",
   "metadata": {},
   "outputs": [
    {
     "data": {
      "text/plain": [
       "[1, 1, 2]"
      ]
     },
     "execution_count": 204,
     "metadata": {},
     "output_type": "execute_result"
    }
   ],
   "source": [
    "starter_list_1"
   ]
  },
  {
   "cell_type": "code",
   "execution_count": 205,
   "id": "fc779461",
   "metadata": {},
   "outputs": [
    {
     "data": {
      "text/plain": [
       "[1, 1, 2, 3, 5, 8]"
      ]
     },
     "execution_count": 205,
     "metadata": {},
     "output_type": "execute_result"
    }
   ],
   "source": [
    "next_fib(starter_list_1)\n",
    "next_fib(starter_list_1)\n",
    "next_fib(starter_list_1)"
   ]
  },
  {
   "cell_type": "code",
   "execution_count": 206,
   "id": "a1b8ba37",
   "metadata": {},
   "outputs": [],
   "source": [
    "starter_list_2 = next_fib()"
   ]
  },
  {
   "cell_type": "code",
   "execution_count": 207,
   "id": "895000fd",
   "metadata": {},
   "outputs": [
    {
     "data": {
      "text/plain": [
       "[1, 1, 2, 3, 5, 8, 13]"
      ]
     },
     "execution_count": 207,
     "metadata": {},
     "output_type": "execute_result"
    }
   ],
   "source": [
    "starter_list_2"
   ]
  },
  {
   "cell_type": "code",
   "execution_count": 208,
   "id": "1e2f35a6",
   "metadata": {},
   "outputs": [
    {
     "data": {
      "text/plain": [
       "True"
      ]
     },
     "execution_count": 208,
     "metadata": {},
     "output_type": "execute_result"
    }
   ],
   "source": [
    "starter_list_1 is starter_list_2"
   ]
  },
  {
   "cell_type": "code",
   "execution_count": 209,
   "id": "751447fe",
   "metadata": {},
   "outputs": [],
   "source": [
    "def next_fib_good(fib_list = None):\n",
    "    if fib_list is none:\n",
    "        fib_list = [1, 1]\n",
    "    fib_list.append(fib_list[-1] + fib_list[-2])\n",
    "    return fib_list"
   ]
  },
  {
   "cell_type": "markdown",
   "id": "27858eae",
   "metadata": {},
   "source": [
    "## Wrap-up\n",
    "\n",
    "1.  Numbers\n",
    "\n",
    "2.  Strings\n",
    "\n",
    "3.  Booleans\n",
    "\n",
    "4.  Tuples\n",
    "\n",
    "5.  Mutable Data Structures\n",
    "\n",
    "    a.  Sets\n",
    "\n",
    "    b.  Lists\n",
    "\n",
    "    c.  Dictionaries\n",
    "    \n",
    "    d.  Composites: list of dict \n",
    "    \n",
    "6. Assignment and Variables"
   ]
  },
  {
   "cell_type": "markdown",
   "id": "cb6a2b88",
   "metadata": {},
   "source": [
    "# Questions?\n",
    "\n",
    "We'll start again with Part 3,  **The Five Kinds of Python Functions**"
   ]
  },
  {
   "cell_type": "code",
   "execution_count": null,
   "id": "fbb9b0e7",
   "metadata": {},
   "outputs": [],
   "source": []
  }
 ],
 "metadata": {
  "kernelspec": {
   "display_name": "Python 3 (ipykernel)",
   "language": "python",
   "name": "python3"
  },
  "language_info": {
   "codemirror_mode": {
    "name": "ipython",
    "version": 3
   },
   "file_extension": ".py",
   "mimetype": "text/x-python",
   "name": "python",
   "nbconvert_exporter": "python",
   "pygments_lexer": "ipython3",
   "version": "3.12.5"
  }
 },
 "nbformat": 4,
 "nbformat_minor": 5
}
