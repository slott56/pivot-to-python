{
 "cells": [
  {
   "cell_type": "markdown",
   "id": "e7f8c718",
   "metadata": {},
   "source": [
    "# Part 3: The Five Kinds of Python Functions"
   ]
  },
  {
   "cell_type": "markdown",
   "id": "3878a836",
   "metadata": {},
   "source": [
    "## Agenda\n",
    "\n",
    "1. Function Definitions \n",
    "\n",
    "2. Higher-Order Functions\n",
    "\n",
    "3. Function Wrappers (around methods)\n",
    "\n",
    "4. Lambdas\n",
    "\n",
    "5. Callable Objects\n",
    "\n",
    "6. Generator Functions and Yield\n",
    "\n",
    "Yes. That's six. But. Higher-Order Functions aren't magical."
   ]
  },
  {
   "cell_type": "markdown",
   "id": "fcd9c6dc",
   "metadata": {},
   "source": [
    "## 1. Function Definitions\n",
    "\n",
    "I've hinted at these.\n",
    "\n",
    "Several Elements:\n",
    "\n",
    "-  Name\n",
    "-  Zero or more parameters.\n",
    "-  One or more lines of code in the body.  Use `pass` as a degenerate case.\n",
    "-  Optional `return` statement to return a value. Otherwise it returns `None`."
   ]
  },
  {
   "cell_type": "code",
   "execution_count": 1,
   "id": "8df1a35b",
   "metadata": {},
   "outputs": [],
   "source": [
    "def transform_1a(n: float) -> float:\n",
    "    return n * 0.7142"
   ]
  },
  {
   "cell_type": "code",
   "execution_count": 2,
   "id": "32a2fad2",
   "metadata": {},
   "outputs": [
    {
     "data": {
      "text/plain": [
       "785.6199999999999"
      ]
     },
     "execution_count": 2,
     "metadata": {},
     "output_type": "execute_result"
    }
   ],
   "source": [
    "transform_1a(1100)"
   ]
  },
  {
   "cell_type": "markdown",
   "id": "488e7768",
   "metadata": {},
   "source": [
    "## Some Features\n",
    "\n",
    "- Optional parameters (i.e., there's a default value)\n",
    "\n",
    "- Keyword argument values when calling the function\n",
    "\n",
    "- Variable numbers of positional or keyword parameters"
   ]
  },
  {
   "cell_type": "code",
   "execution_count": 3,
   "id": "0f37b93e",
   "metadata": {},
   "outputs": [],
   "source": [
    "def transform_1b(n: float, factor: float = 0.7142) -> float:\n",
    "    return n * factor"
   ]
  },
  {
   "cell_type": "code",
   "execution_count": 4,
   "id": "46f2c8b1",
   "metadata": {},
   "outputs": [
    {
     "data": {
      "text/plain": [
       "785.6199999999999"
      ]
     },
     "execution_count": 4,
     "metadata": {},
     "output_type": "execute_result"
    }
   ],
   "source": [
    "transform_1b(1100)"
   ]
  },
  {
   "cell_type": "code",
   "execution_count": 5,
   "id": "65626e2b",
   "metadata": {},
   "outputs": [
    {
     "data": {
      "text/plain": [
       "720.0"
      ]
     },
     "execution_count": 5,
     "metadata": {},
     "output_type": "execute_result"
    }
   ],
   "source": [
    "transform_1b(1000, 0.72)"
   ]
  },
  {
   "cell_type": "code",
   "execution_count": 6,
   "id": "e21c622b",
   "metadata": {},
   "outputs": [
    {
     "data": {
      "text/plain": [
       "792.0"
      ]
     },
     "execution_count": 6,
     "metadata": {},
     "output_type": "execute_result"
    }
   ],
   "source": [
    "transform_1b(factor=0.72, n=1100)"
   ]
  },
  {
   "cell_type": "markdown",
   "id": "83b80ead",
   "metadata": {},
   "source": [
    "## Variable Positional Arguments"
   ]
  },
  {
   "cell_type": "code",
   "execution_count": 7,
   "id": "7d339680",
   "metadata": {},
   "outputs": [],
   "source": [
    "def transform_1c(*args: float) -> float:\n",
    "    return [a * 0.7142 for a in args]"
   ]
  },
  {
   "cell_type": "code",
   "execution_count": 8,
   "id": "b344335e",
   "metadata": {},
   "outputs": [
    {
     "data": {
      "text/plain": [
       "[714.1999999999999, 785.6199999999999, 892.7499999999999, 928.4599999999999]"
      ]
     },
     "execution_count": 8,
     "metadata": {},
     "output_type": "execute_result"
    }
   ],
   "source": [
    "transform_1c(1000, 1100, 1250, 1300)"
   ]
  },
  {
   "cell_type": "code",
   "execution_count": 9,
   "id": "9cc992b1",
   "metadata": {},
   "outputs": [],
   "source": [
    "def transform_1d(*args: float) -> float:\n",
    "    results = []\n",
    "    for a in args:\n",
    "        results.append(a * 0.7142)\n",
    "    return results"
   ]
  },
  {
   "cell_type": "code",
   "execution_count": 10,
   "id": "9f45167a",
   "metadata": {},
   "outputs": [
    {
     "data": {
      "text/plain": [
       "[714.1999999999999, 785.6199999999999, 892.7499999999999, 928.4599999999999]"
      ]
     },
     "execution_count": 10,
     "metadata": {},
     "output_type": "execute_result"
    }
   ],
   "source": [
    "transform_1d(1000, 1100, 1250, 1300)"
   ]
  },
  {
   "cell_type": "markdown",
   "id": "c2416b31",
   "metadata": {},
   "source": [
    "## Variable Keyword Arguments"
   ]
  },
  {
   "cell_type": "code",
   "execution_count": 11,
   "id": "74031126",
   "metadata": {},
   "outputs": [],
   "source": [
    "def transform_1e(**kwargs: float) -> float:\n",
    "    n = kwargs[\"n\"]\n",
    "    factor = kwargs.get(\"factor\", 0.7142)\n",
    "    return n * factor"
   ]
  },
  {
   "cell_type": "code",
   "execution_count": 12,
   "id": "afc88cc1",
   "metadata": {},
   "outputs": [
    {
     "data": {
      "text/plain": [
       "792.0"
      ]
     },
     "execution_count": 12,
     "metadata": {},
     "output_type": "execute_result"
    }
   ],
   "source": [
    "transform_1e(factor=0.72, n=1100)"
   ]
  },
  {
   "cell_type": "code",
   "execution_count": 13,
   "id": "504ccf11",
   "metadata": {},
   "outputs": [
    {
     "data": {
      "text/plain": [
       "785.6199999999999"
      ]
     },
     "execution_count": 13,
     "metadata": {},
     "output_type": "execute_result"
    }
   ],
   "source": [
    "transform_1e(n=1100)"
   ]
  },
  {
   "cell_type": "markdown",
   "id": "43eb320b",
   "metadata": {},
   "source": [
    "## Important\n",
    "\n",
    "You rarely need *all* of these features in a single function.\n",
    "\n",
    "- If you think you do, reconsider your design, please.\n",
    "\n",
    "You'll often need default values to create optional arguments.\n",
    "\n",
    "Sometimes you'll want keyword args."
   ]
  },
  {
   "cell_type": "markdown",
   "id": "67fed341",
   "metadata": {},
   "source": [
    "## 2. Higher-Order Functions\n",
    "\n",
    "Function that takes function as an argument.\n",
    "\n",
    "And/or returns function as a result.\n",
    "\n",
    "In some languages, this is **Rocket Science**.\n",
    "\n",
    "Given \\\\(g(x)\\\\) is some function,\n",
    "\n",
    "\\\\[\n",
    "    f(g; a) = g(a \\times 0.7142)\n",
    "\\\\]"
   ]
  },
  {
   "cell_type": "code",
   "execution_count": 14,
   "id": "3315b35f",
   "metadata": {},
   "outputs": [],
   "source": [
    "from typing import Callable, Optional"
   ]
  },
  {
   "cell_type": "code",
   "execution_count": 15,
   "id": "71528ec1",
   "metadata": {},
   "outputs": [],
   "source": [
    "def transform_2a(n: float, g: Optional[Callable[[float], float]] = None) -> float:\n",
    "    if g is None:\n",
    "        g = round\n",
    "    return g(n*0.7142)"
   ]
  },
  {
   "cell_type": "code",
   "execution_count": 16,
   "id": "9adff659",
   "metadata": {},
   "outputs": [
    {
     "data": {
      "text/plain": [
       "786"
      ]
     },
     "execution_count": 16,
     "metadata": {},
     "output_type": "execute_result"
    }
   ],
   "source": [
    "transform_2a(n=1100)"
   ]
  },
  {
   "cell_type": "code",
   "execution_count": 17,
   "id": "d9d4032f",
   "metadata": {},
   "outputs": [
    {
     "data": {
      "text/plain": [
       "785"
      ]
     },
     "execution_count": 17,
     "metadata": {},
     "output_type": "execute_result"
    }
   ],
   "source": [
    "transform_2a(1100, int)"
   ]
  },
  {
   "cell_type": "code",
   "execution_count": 18,
   "id": "d01deb06",
   "metadata": {},
   "outputs": [],
   "source": [
    "def round100(n: float) -> float:\n",
    "    return int(round(n, -2))"
   ]
  },
  {
   "cell_type": "code",
   "execution_count": 19,
   "id": "a2ee5500",
   "metadata": {},
   "outputs": [
    {
     "data": {
      "text/plain": [
       "800"
      ]
     },
     "execution_count": 19,
     "metadata": {},
     "output_type": "execute_result"
    }
   ],
   "source": [
    "transform_2a(1100, round100)"
   ]
  },
  {
   "cell_type": "markdown",
   "id": "cd4802d5",
   "metadata": {},
   "source": [
    "for cleanup in int, round, round100: ",
    "    print(transform_2a(1100, cleanup))\n",
    "This makes a lot of functional programming kind of fun. And not much work."
   ]
  },
  {
   "cell_type": "code",
   "execution_count": 20,
   "id": "75ab78ea",
   "metadata": {},
   "outputs": [
    {
     "name": "stdout",
     "output_type": "stream",
     "text": [
      "1200 857\n",
      "1200 857\n",
      "1200 900\n",
      "1400 999\n",
      "1400 1000\n",
      "1400 1000\n",
      "1600 1142\n",
      "1600 1143\n",
      "1600 1100\n",
      "1800 1285\n",
      "1800 1286\n",
      "1800 1300\n",
      "2000 1428\n",
      "2000 1428\n",
      "2000 1400\n",
      "2200 1571\n",
      "2200 1571\n",
      "2200 1600\n"
     ]
    }
   ],
   "source": [
    "for r in range(1200, 2400, 200):\n",
    "    for cleanup in int, round, round100:\n",
    "        print(r, transform_2a(r, cleanup))"
   ]
  },
  {
   "cell_type": "markdown",
   "id": "2a49512e",
   "metadata": {},
   "source": [
    "## 3. Function Wrappers\n",
    "\n",
    "These are functions that are \"syntactic sugar\" on methods.\n",
    "\n",
    "Example::\n",
    "\n",
    "    len(x)\n",
    "    \n",
    "This is really::\n",
    "\n",
    "    x.__len__()\n",
    "    \n",
    "The `len()` function invokes a similarly-named `__len__()` method of the object."
   ]
  },
  {
   "cell_type": "markdown",
   "id": "1d1faad5",
   "metadata": {},
   "source": [
    "Some folks will try to say the `len()` syntax means Python is not \"purely\" object-oriented.\n",
    "\n",
    "Because it uses the class' `__len__()` method, I submit it is purely OO with some easier-to-read functional syntax."
   ]
  },
  {
   "cell_type": "markdown",
   "id": "4be55efc",
   "metadata": {},
   "source": [
    "These are a special case because there's a trivial mapping between function and method. No additional processing. Nothing. "
   ]
  },
  {
   "cell_type": "markdown",
   "id": "1b4c17fa",
   "metadata": {},
   "source": [
    "## Not the best idea, but it works"
   ]
  },
  {
   "cell_type": "code",
   "execution_count": 21,
   "id": "a3d995c9",
   "metadata": {},
   "outputs": [],
   "source": [
    "from math import isclose\n",
    "class NonZero(list[float]):\n",
    "    def __len__(self) -> int:\n",
    "        return sum(1 for x in self if not isclose(x, 0.0))"
   ]
  },
  {
   "cell_type": "code",
   "execution_count": 22,
   "id": "81489424",
   "metadata": {},
   "outputs": [],
   "source": [
    "x = NonZero([1, 2, 3, 0, 4])"
   ]
  },
  {
   "cell_type": "code",
   "execution_count": 23,
   "id": "d5068484",
   "metadata": {},
   "outputs": [
    {
     "data": {
      "text/plain": [
       "4"
      ]
     },
     "execution_count": 23,
     "metadata": {},
     "output_type": "execute_result"
    }
   ],
   "source": [
    "len(x)"
   ]
  },
  {
   "cell_type": "markdown",
   "id": "ca3f1368",
   "metadata": {},
   "source": [
    "## 4. Lambda Objects\n",
    "\n",
    "Functions without a name and a trivial body.\n",
    "\n",
    "Function definitions via the `def` statement have a name, parameters, and a multi-statement body.\n",
    "\n",
    "Function definition via a `lambda` has parameters and a single expression, nothing more. In effect it's the expression from a `return` statement."
   ]
  },
  {
   "cell_type": "code",
   "execution_count": 24,
   "id": "bb11194c",
   "metadata": {},
   "outputs": [
    {
     "data": {
      "text/plain": [
       "800"
      ]
     },
     "execution_count": 24,
     "metadata": {},
     "output_type": "execute_result"
    }
   ],
   "source": [
    "transform_2a(1100, lambda n: int(round(n, -2)))"
   ]
  },
  {
   "cell_type": "code",
   "execution_count": 25,
   "id": "8d8052e7",
   "metadata": {},
   "outputs": [
    {
     "data": {
      "text/plain": [
       "790"
      ]
     },
     "execution_count": 25,
     "metadata": {},
     "output_type": "execute_result"
    }
   ],
   "source": [
    "transform_2a(1100, lambda n: int(round(n, -1)))"
   ]
  },
  {
   "cell_type": "markdown",
   "id": "82b44a04",
   "metadata": {},
   "source": [
    "Commonly used with functions like `sorted()`, `max()`, `min()`, `map()`, `filter()`, `reduce()`.\n",
    "\n",
    "This works well when we have collections of data."
   ]
  },
  {
   "cell_type": "code",
   "execution_count": 26,
   "id": "2870c09c",
   "metadata": {
    "tags": []
   },
   "outputs": [],
   "source": [
    "import csv\n",
    "from pathlib import Path"
   ]
  },
  {
   "cell_type": "code",
   "execution_count": 27,
   "id": "5502fee6",
   "metadata": {
    "tags": []
   },
   "outputs": [],
   "source": [
    "source = Path(\"series_2.csv\")\n",
    "with source.open() as source_file:\n",
    "    reader = csv.DictReader(source_file)\n",
    "    data = list(reader)"
   ]
  },
  {
   "cell_type": "code",
   "execution_count": 28,
   "id": "01b3b25b",
   "metadata": {},
   "outputs": [
    {
     "data": {
      "text/plain": [
       "[{'x': '10.0', 'y': '9.14'},\n",
       " {'x': '8.0', 'y': '8.14'},\n",
       " {'x': '13.0', 'y': '8.74'},\n",
       " {'x': '9.0', 'y': '8.77'},\n",
       " {'x': '11.0', 'y': '9.26'},\n",
       " {'x': '14.0', 'y': '8.10'},\n",
       " {'x': '6.0', 'y': '6.13'},\n",
       " {'x': '4.0', 'y': '3.10'},\n",
       " {'x': '12.0', 'y': '9.13'},\n",
       " {'x': '7.0', 'y': '7.26'},\n",
       " {'x': '5.0', 'y': '4.74'}]"
      ]
     },
     "execution_count": 28,
     "metadata": {},
     "output_type": "execute_result"
    }
   ],
   "source": [
    "data"
   ]
  },
  {
   "cell_type": "code",
   "execution_count": 29,
   "id": "1e6bbb1d",
   "metadata": {},
   "outputs": [],
   "source": [
    "ascending_y = sorted(data, key=lambda row: float(row['y']))"
   ]
  },
  {
   "cell_type": "code",
   "execution_count": 30,
   "id": "f92c6a1a",
   "metadata": {},
   "outputs": [
    {
     "data": {
      "text/plain": [
       "[{'x': '4.0', 'y': '3.10'},\n",
       " {'x': '5.0', 'y': '4.74'},\n",
       " {'x': '6.0', 'y': '6.13'},\n",
       " {'x': '7.0', 'y': '7.26'},\n",
       " {'x': '14.0', 'y': '8.10'},\n",
       " {'x': '8.0', 'y': '8.14'},\n",
       " {'x': '13.0', 'y': '8.74'},\n",
       " {'x': '9.0', 'y': '8.77'},\n",
       " {'x': '12.0', 'y': '9.13'},\n",
       " {'x': '10.0', 'y': '9.14'},\n",
       " {'x': '11.0', 'y': '9.26'}]"
      ]
     },
     "execution_count": 30,
     "metadata": {},
     "output_type": "execute_result"
    }
   ],
   "source": [
    "ascending_y"
   ]
  },
  {
   "cell_type": "code",
   "execution_count": 31,
   "id": "08f3af8d",
   "metadata": {},
   "outputs": [],
   "source": [
    "ascending_diff = sorted(data, key=lambda row: abs(float(row['y'])-float(row['x'])))"
   ]
  },
  {
   "cell_type": "code",
   "execution_count": 32,
   "id": "d1a621d1",
   "metadata": {},
   "outputs": [
    {
     "data": {
      "text/plain": [
       "[{'x': '6.0', 'y': '6.13'},\n",
       " {'x': '8.0', 'y': '8.14'},\n",
       " {'x': '9.0', 'y': '8.77'},\n",
       " {'x': '7.0', 'y': '7.26'},\n",
       " {'x': '5.0', 'y': '4.74'},\n",
       " {'x': '10.0', 'y': '9.14'},\n",
       " {'x': '4.0', 'y': '3.10'},\n",
       " {'x': '11.0', 'y': '9.26'},\n",
       " {'x': '12.0', 'y': '9.13'},\n",
       " {'x': '13.0', 'y': '8.74'},\n",
       " {'x': '14.0', 'y': '8.10'}]"
      ]
     },
     "execution_count": 32,
     "metadata": {},
     "output_type": "execute_result"
    }
   ],
   "source": [
    "ascending_diff"
   ]
  },
  {
   "cell_type": "code",
   "execution_count": 33,
   "id": "415849c3",
   "metadata": {},
   "outputs": [
    {
     "data": {
      "text/plain": [
       "{'x': '14.0', 'y': '8.10'}"
      ]
     },
     "execution_count": 33,
     "metadata": {},
     "output_type": "execute_result"
    }
   ],
   "source": [
    "max(data, key=lambda row: float(row['x']))"
   ]
  },
  {
   "cell_type": "markdown",
   "id": "a9e327fb",
   "metadata": {},
   "source": [
    "## Map, Filter, and Reduce\n",
    "\n",
    "Two built-in functions and a library function."
   ]
  },
  {
   "cell_type": "code",
   "execution_count": 34,
   "id": "7490bfe4",
   "metadata": {},
   "outputs": [
    {
     "data": {
      "text/plain": [
       "<map at 0x7f9ca10da760>"
      ]
     },
     "execution_count": 34,
     "metadata": {},
     "output_type": "execute_result"
    }
   ],
   "source": [
    "map(\n",
    "    lambda row: {\"x\": float(row[\"x\"]), \"y\": float(row[\"y\"])}, \n",
    "    data\n",
    ")"
   ]
  },
  {
   "cell_type": "markdown",
   "id": "c220d4f7",
   "metadata": {},
   "source": [
    "This is a teaser for a future section. A `map()` is a generator object from which we can built a list."
   ]
  },
  {
   "cell_type": "code",
   "execution_count": 35,
   "id": "ae03f72b",
   "metadata": {},
   "outputs": [
    {
     "data": {
      "text/plain": [
       "[{'x': 10.0, 'y': 9.14},\n",
       " {'x': 8.0, 'y': 8.14},\n",
       " {'x': 13.0, 'y': 8.74},\n",
       " {'x': 9.0, 'y': 8.77},\n",
       " {'x': 11.0, 'y': 9.26},\n",
       " {'x': 14.0, 'y': 8.1},\n",
       " {'x': 6.0, 'y': 6.13},\n",
       " {'x': 4.0, 'y': 3.1},\n",
       " {'x': 12.0, 'y': 9.13},\n",
       " {'x': 7.0, 'y': 7.26},\n",
       " {'x': 5.0, 'y': 4.74}]"
      ]
     },
     "execution_count": 35,
     "metadata": {},
     "output_type": "execute_result"
    }
   ],
   "source": [
    "list(\n",
    "    map(\n",
    "        lambda row: {\"x\": float(row[\"x\"]), \"y\": float(row[\"y\"])}, \n",
    "        data\n",
    "    )\n",
    ")"
   ]
  },
  {
   "cell_type": "markdown",
   "id": "37769d2c",
   "metadata": {},
   "source": [
    "Lambdas are designed to make it easy to work with higher-order functions.\n",
    "\n",
    "They save us from having to write a one-time-only function definition when the function is a single expression."
   ]
  },
  {
   "cell_type": "code",
   "execution_count": 36,
   "id": "faebf2d4",
   "metadata": {},
   "outputs": [
    {
     "data": {
      "text/plain": [
       "[{'x': '13.0', 'y': '8.74'},\n",
       " {'x': '11.0', 'y': '9.26'},\n",
       " {'x': '14.0', 'y': '8.10'},\n",
       " {'x': '12.0', 'y': '9.13'}]"
      ]
     },
     "execution_count": 36,
     "metadata": {},
     "output_type": "execute_result"
    }
   ],
   "source": [
    "list(\n",
    "    filter(\n",
    "        lambda row: float(row[\"x\"]) > 10, \n",
    "        data\n",
    "    )\n",
    ")"
   ]
  },
  {
   "cell_type": "markdown",
   "id": "d688f1a6",
   "metadata": {},
   "source": [
    "Note that we use `float()` above. The `map()` operation did not change the underlying `data` object. It's still text. We might want to combine things."
   ]
  },
  {
   "cell_type": "code",
   "execution_count": 37,
   "id": "6803c17d",
   "metadata": {},
   "outputs": [
    {
     "data": {
      "text/plain": [
       "[{'x': 13.0, 'y': 8.74},\n",
       " {'x': 11.0, 'y': 9.26},\n",
       " {'x': 14.0, 'y': 8.1},\n",
       " {'x': 12.0, 'y': 9.13}]"
      ]
     },
     "execution_count": 37,
     "metadata": {},
     "output_type": "execute_result"
    }
   ],
   "source": [
    "list(\n",
    "    filter(\n",
    "        lambda row: row[\"x\"] > 10,\n",
    "        map(\n",
    "            lambda row: {\"x\": float(row[\"x\"]), \"y\": float(row[\"y\"])}, \n",
    "            data\n",
    "        )\n",
    "    )\n",
    ")"
   ]
  },
  {
   "cell_type": "markdown",
   "id": "e05855c1",
   "metadata": {},
   "source": [
    "We'll expand on this idea of multi-step higher-order functions later."
   ]
  },
  {
   "cell_type": "code",
   "execution_count": 38,
   "id": "5d2920b5",
   "metadata": {},
   "outputs": [],
   "source": [
    "from functools import reduce"
   ]
  },
  {
   "cell_type": "code",
   "execution_count": 39,
   "id": "f23724f8",
   "metadata": {},
   "outputs": [
    {
     "data": {
      "text/plain": [
       "99.0"
      ]
     },
     "execution_count": 39,
     "metadata": {},
     "output_type": "execute_result"
    }
   ],
   "source": [
    "total_x = reduce(lambda total, row: float(row[\"x\"]) + total, data, 0)\n",
    "total_x"
   ]
  },
  {
   "cell_type": "code",
   "execution_count": 40,
   "id": "36224335",
   "metadata": {},
   "outputs": [
    {
     "data": {
      "text/plain": [
       "82.51"
      ]
     },
     "execution_count": 40,
     "metadata": {},
     "output_type": "execute_result"
    }
   ],
   "source": [
    "total_y = reduce(lambda total, row: float(row[\"y\"]) + total, data, 0)\n",
    "total_y"
   ]
  },
  {
   "cell_type": "markdown",
   "id": "dd2cd3e4",
   "metadata": {},
   "source": [
    "And yes, this is the built-in `sum()` function.\n",
    "\n",
    "Want to build your pwn `prod()` function?  It's a reduce using multiply."
   ]
  },
  {
   "cell_type": "code",
   "execution_count": 41,
   "id": "f948072b",
   "metadata": {},
   "outputs": [],
   "source": [
    "def prod(*args: float) -> float:\n",
    "    return reduce(lambda a, b: a*b, args, 1)"
   ]
  },
  {
   "cell_type": "code",
   "execution_count": 42,
   "id": "15120e15",
   "metadata": {},
   "outputs": [],
   "source": [
    "def factorial(n: int) -> int:\n",
    "    return prod(*range(1, n+1))"
   ]
  },
  {
   "cell_type": "code",
   "execution_count": 43,
   "id": "4c8c84f0",
   "metadata": {},
   "outputs": [
    {
     "data": {
      "text/plain": [
       "True"
      ]
     },
     "execution_count": 43,
     "metadata": {},
     "output_type": "execute_result"
    }
   ],
   "source": [
    "factorial(5) == 5*4*3*2*1"
   ]
  },
  {
   "cell_type": "markdown",
   "id": "2fb65950",
   "metadata": {},
   "source": [
    "Built-in logical functions `all()` and `any()` can be viewed as if they're something like `reduce(lambda a, b: a and b, ...)` and `reduce(lambda a, b: a or b, ...)`. \n",
    "\n",
    "They're actually slightly smarter than a simple reduction. They short-circuit and stop evaluating when the answer is known. "
   ]
  },
  {
   "cell_type": "markdown",
   "id": "34ca4fe1",
   "metadata": {},
   "source": [
    "## Sketchy, but valid\n",
    "\n",
    "You can assign lambdas to variables."
   ]
  },
  {
   "cell_type": "code",
   "execution_count": 44,
   "id": "7c64d331",
   "metadata": {},
   "outputs": [],
   "source": [
    "transform_4a = lambda n: n*0.7142"
   ]
  },
  {
   "cell_type": "code",
   "execution_count": 45,
   "id": "ceef9357",
   "metadata": {},
   "outputs": [
    {
     "data": {
      "text/plain": [
       "785.6199999999999"
      ]
     },
     "execution_count": 45,
     "metadata": {},
     "output_type": "execute_result"
    }
   ],
   "source": [
    "transform_4a(1100)"
   ]
  },
  {
   "cell_type": "markdown",
   "id": "c91291da",
   "metadata": {},
   "source": [
    "The debate on assigning lambdas to variables:\n",
    "\n",
    "- It's simple. When you only have one expression, why write out the whole `def` thing?\n",
    "\n",
    "- It's too simple. You can't write a docstring to provide useful documentation.\n",
    "\n",
    "I haven't emphasized docstrings. Here's an example of how we might describe a function. Note the use of the `>>>` prompt example. This can be validated by the **doctest** tool.\n",
    "\n",
    "Jupyter Notebook uses iPython which has a different prompt, `[n]:`, which more clearly shows the history of your interactions with the interpreter. \n",
    "\n",
    "Doctest uses native Python prompt of `>>>` (and `...` for statements that have multiple logical lines.)"
   ]
  },
  {
   "cell_type": "code",
   "execution_count": 46,
   "id": "a2e93822",
   "metadata": {},
   "outputs": [],
   "source": [
    "def transform_4b(n: float) -> float:\n",
    "    \"\"\"\n",
    "    Transforms tachometer readinds to actual engine RPM's. \n",
    "    From this we can estimate horsepower and fuel consumption.\n",
    "    \n",
    "    :param n: tachometer reading\n",
    "    :returns: estimated engine RPM's\n",
    "    \n",
    "    >>> round(transform_4b(1100), -1)\n",
    "    790.0\n",
    "    \"\"\"\n",
    "    return n * 0.7142"
   ]
  },
  {
   "cell_type": "code",
   "execution_count": 47,
   "id": "143e18d1",
   "metadata": {},
   "outputs": [
    {
     "data": {
      "text/plain": [
       "790.0"
      ]
     },
     "execution_count": 47,
     "metadata": {},
     "output_type": "execute_result"
    }
   ],
   "source": [
    "round(transform_4b(1100), -1)"
   ]
  },
  {
   "cell_type": "markdown",
   "id": "45130265",
   "metadata": {},
   "source": [
    "## 5. Callable Objects\n",
    "\n",
    "We'll do some remedial object-oriented programming as a kind of side-bar before creating callable objects.\n",
    "\n",
    "Note the `__init__()` special method.   We produce the double-underscore \"dunder\". As in \"dunder init\" when talking about the code.\n",
    "\n",
    "This is called implicitly as part of object creation. After the new, empty object is built, the `__init__()` method is called to create the initial state.\n",
    "\n",
    "In this case, the initial state is to create the `data` attribute in the object's namespace. The object is provided as the `self` attribute to each method."
   ]
  },
  {
   "cell_type": "code",
   "execution_count": 48,
   "id": "e0061b9c",
   "metadata": {},
   "outputs": [],
   "source": [
    "class Totaller:\n",
    "    def __init__(self, data: dict[str, str]) -> None:\n",
    "        self.data = list(\n",
    "            map(\n",
    "                lambda row: {\"x\": float(row[\"x\"]), \"y\": float(row[\"y\"])}, \n",
    "                data\n",
    "            )\n",
    "        )\n",
    "        \n",
    "    def sum(self, name: str) -> float:\n",
    "        return sum(row[name] for row in self.data)\n",
    "    \n",
    "    def sum_2(self, name: str) -> float:\n",
    "        return sum(row[name]**2 for row in self.data)"
   ]
  },
  {
   "cell_type": "markdown",
   "id": "d0e7cdee",
   "metadata": {},
   "source": [
    "We can create an instance of the object. Since the `__init__()` requires the `data` parameter, we must provide the value when initializing.\n",
    "\n",
    "As with many of the examples, I've include type annotations. They're optional in Python. Juypter Lab doesn't check them. A tool called **mypy** can be used to check them."
   ]
  },
  {
   "cell_type": "code",
   "execution_count": 49,
   "id": "62cb1640",
   "metadata": {},
   "outputs": [],
   "source": [
    "t = Totaller(data)"
   ]
  },
  {
   "cell_type": "code",
   "execution_count": 50,
   "id": "93d8d7d7",
   "metadata": {},
   "outputs": [
    {
     "data": {
      "text/plain": [
       "99.0"
      ]
     },
     "execution_count": 50,
     "metadata": {},
     "output_type": "execute_result"
    }
   ],
   "source": [
    "t.sum(\"x\")"
   ]
  },
  {
   "cell_type": "code",
   "execution_count": 51,
   "id": "c26f50eb",
   "metadata": {},
   "outputs": [
    {
     "data": {
      "text/plain": [
       "82.51"
      ]
     },
     "execution_count": 51,
     "metadata": {},
     "output_type": "execute_result"
    }
   ],
   "source": [
    "t.sum(\"y\")"
   ]
  },
  {
   "cell_type": "markdown",
   "id": "ad5547fa",
   "metadata": {},
   "source": [
    "## What's a \"callable object?\"\n",
    "\n",
    "A class with a `__call__()` special method.\n",
    "\n",
    "(Seems absurdly simple, but Python is designed to be simple.)\n",
    "\n",
    "We call the presence of a particular method, like `__call__()` a \"protocol\".  We say that a class with `__call__()` follows the Callable protocol."
   ]
  },
  {
   "cell_type": "code",
   "execution_count": 52,
   "id": "67943ffc",
   "metadata": {},
   "outputs": [],
   "source": [
    "class Transformer:\n",
    "    def __call__(self, n: float) -> float:\n",
    "        return n*0.7142"
   ]
  },
  {
   "cell_type": "code",
   "execution_count": 53,
   "id": "86e55fa1",
   "metadata": {},
   "outputs": [],
   "source": [
    "transform_5a = Transformer()"
   ]
  },
  {
   "cell_type": "code",
   "execution_count": 54,
   "id": "ae8ca7a1",
   "metadata": {},
   "outputs": [
    {
     "data": {
      "text/plain": [
       "790.0"
      ]
     },
     "execution_count": 54,
     "metadata": {},
     "output_type": "execute_result"
    }
   ],
   "source": [
    "round(transform_5a(1100), -1)"
   ]
  },
  {
   "cell_type": "markdown",
   "id": "477eeb7b",
   "metadata": {},
   "source": [
    "## Why create a callable object?\n",
    "\n",
    "This example wraps a simple expression into a method of an object. That seems like a lot of machinery for a multiplication and a constant.\n",
    "\n",
    "We might want to do this so we can leverage other aspects of object construction, like initialization to provide default values."
   ]
  },
  {
   "cell_type": "code",
   "execution_count": 55,
   "id": "1c64d185",
   "metadata": {},
   "outputs": [],
   "source": [
    "from typing import Optional"
   ]
  },
  {
   "cell_type": "code",
   "execution_count": 56,
   "id": "bfbdeb1d",
   "metadata": {},
   "outputs": [],
   "source": [
    "class Transformer_B:\n",
    "    FACTOR = 0.7142\n",
    "    def __init__(self, factor: Optional[float] = None) -> None:\n",
    "        self.factor = self.FACTOR if factor is None else factor \n",
    "    def __call__(self, n: float) -> float:\n",
    "        return n*self.factor\n",
    "    \n",
    "transform_5b = Transformer_B()"
   ]
  },
  {
   "cell_type": "code",
   "execution_count": 57,
   "id": "149ff33e",
   "metadata": {},
   "outputs": [
    {
     "data": {
      "text/plain": [
       "790.0"
      ]
     },
     "execution_count": 57,
     "metadata": {},
     "output_type": "execute_result"
    }
   ],
   "source": [
    "round(transform_5b(1100), -1)"
   ]
  },
  {
   "cell_type": "code",
   "execution_count": 58,
   "id": "a6ccfc64",
   "metadata": {},
   "outputs": [
    {
     "data": {
      "text/plain": [
       "880.0"
      ]
     },
     "execution_count": 58,
     "metadata": {},
     "output_type": "execute_result"
    }
   ],
   "source": [
    "transform_5b_x = Transformer_B(0.80)\n",
    "round(transform_5b_x(1100), -1)"
   ]
  },
  {
   "cell_type": "markdown",
   "id": "38dff390",
   "metadata": {},
   "source": [
    "There's a lot going on in this simple class. A class-level variable, `FACTOR` shared by all instances of the class.\n",
    "\n",
    "The `__init__()` has an optional value where the default is the special `None` value.\n",
    "\n",
    "We can test for an omitted argument value with the expression `factor is None`. (We don't use `is` for much, but we **always** use it when comparing against the `None` object.)\n",
    "\n",
    "An instance of the class will have a state defined by the `factor` attribute that we can inspect."
   ]
  },
  {
   "cell_type": "code",
   "execution_count": 59,
   "id": "826486aa",
   "metadata": {},
   "outputs": [
    {
     "data": {
      "text/plain": [
       "0.7142"
      ]
     },
     "execution_count": 59,
     "metadata": {},
     "output_type": "execute_result"
    }
   ],
   "source": [
    "transform_5b.factor"
   ]
  },
  {
   "cell_type": "code",
   "execution_count": 60,
   "id": "5dd6ac35",
   "metadata": {},
   "outputs": [
    {
     "data": {
      "text/plain": [
       "0.8"
      ]
     },
     "execution_count": 60,
     "metadata": {},
     "output_type": "execute_result"
    }
   ],
   "source": [
    "transform_5b_x.factor"
   ]
  },
  {
   "cell_type": "markdown",
   "id": "e9760a60",
   "metadata": {},
   "source": [
    "## Why Not A Function?\n",
    "\n",
    "Three reasons:\n",
    "\n",
    "-  We use callable objects when a function is too simple. \n",
    "   For example: a **very** complex computation. We can encapsulate the whole computation as methods within a single class definition.\n",
    "\n",
    "-  We use callable objects to break the rule of idempotency. Normally, a function returns the same result when called with the same arguments. Counter examples of this are random number generators and registries (like the loggers or codecs.)\n",
    "\n",
    "-  Caching"
   ]
  },
  {
   "cell_type": "code",
   "execution_count": 61,
   "id": "d2defb57",
   "metadata": {},
   "outputs": [],
   "source": [
    "from random import Random\n",
    "class D6(Random):\n",
    "    def __call__(self):\n",
    "        return self.randint(1, 6)\n",
    "d6 = D6()"
   ]
  },
  {
   "cell_type": "code",
   "execution_count": 62,
   "id": "991fc667",
   "metadata": {},
   "outputs": [
    {
     "data": {
      "text/plain": [
       "[5, 2, 3, 6, 3, 1, 5, 3, 2, 3]"
      ]
     },
     "execution_count": 62,
     "metadata": {},
     "output_type": "execute_result"
    }
   ],
   "source": [
    "[d6() for _ in range(10)]"
   ]
  },
  {
   "cell_type": "markdown",
   "id": "8d0ba8fc",
   "metadata": {},
   "source": [
    "Different results from `d6()` because it's a callable object and can have an internal state."
   ]
  },
  {
   "cell_type": "markdown",
   "id": "d34d3e06",
   "metadata": {},
   "source": [
    "## Caching\n",
    "\n",
    "A cache means the object is stateful -- the cache evolves.\n",
    "\n",
    "It's still idepotent, though, if we do things properly."
   ]
  },
  {
   "cell_type": "code",
   "execution_count": 63,
   "id": "a0edc717",
   "metadata": {},
   "outputs": [],
   "source": [
    "class Transformer_C:\n",
    "    FACTOR = 0.7142\n",
    "    def __init__(self) -> None:\n",
    "        self.cache = {}\n",
    "    def __call__(self, n: float) -> float:\n",
    "        if n not in self.cache:\n",
    "            self.cache[n] = self.transform(n)\n",
    "        return self.cache[n]\n",
    "    def transform(self, n: float) -> float:\n",
    "        return n * self.FACTOR\n",
    "    \n",
    "transform_5c = Transformer_C()"
   ]
  },
  {
   "cell_type": "code",
   "execution_count": 64,
   "id": "b94a987e",
   "metadata": {},
   "outputs": [
    {
     "data": {
      "text/plain": [
       "790.0"
      ]
     },
     "execution_count": 64,
     "metadata": {},
     "output_type": "execute_result"
    }
   ],
   "source": [
    "round(transform_5c(1100), -1)"
   ]
  },
  {
   "cell_type": "markdown",
   "id": "8ddd5b5a",
   "metadata": {},
   "source": [
    "With a `transform()` method so simple, the effect of caching is hard to measure. \n",
    "\n",
    "If the body of `transform()` were a **lot** more complex, though, you'd see some impact.\n",
    "Let's add some fake workload."
   ]
  },
  {
   "cell_type": "code",
   "execution_count": 65,
   "id": "c0ffe5a0",
   "metadata": {},
   "outputs": [],
   "source": [
    "import time\n",
    "class Transformer_C_slow:\n",
    "    FACTOR = 0.7142\n",
    "    def __init__(self) -> None:\n",
    "        self.cache = {}\n",
    "    def __call__(self, n: float) -> float:\n",
    "        if n not in self.cache:\n",
    "            self.cache[n] = self.transform(n)\n",
    "        return self.cache[n]\n",
    "    def transform(self, n: float) -> float:\n",
    "        time.sleep(1)  # Mocking a LOT of work here.\n",
    "        return n * self.FACTOR\n",
    "    \n",
    "transform_5c_slow = Transformer_C_slow()"
   ]
  },
  {
   "cell_type": "code",
   "execution_count": 66,
   "id": "49d4c9b2",
   "metadata": {},
   "outputs": [
    {
     "name": "stdout",
     "output_type": "stream",
     "text": [
      "CPU times: user 514 µs, sys: 709 µs, total: 1.22 ms\n",
      "Wall time: 1 s\n"
     ]
    },
    {
     "data": {
      "text/plain": [
       "785.6199999999999"
      ]
     },
     "execution_count": 66,
     "metadata": {},
     "output_type": "execute_result"
    }
   ],
   "source": [
    "%%time\n",
    "transform_5c_slow(1100)"
   ]
  },
  {
   "cell_type": "code",
   "execution_count": 67,
   "id": "5493c24c",
   "metadata": {},
   "outputs": [
    {
     "name": "stdout",
     "output_type": "stream",
     "text": [
      "CPU times: user 5 µs, sys: 1 µs, total: 6 µs\n",
      "Wall time: 7.87 µs\n"
     ]
    },
    {
     "data": {
      "text/plain": [
       "785.6199999999999"
      ]
     },
     "execution_count": 67,
     "metadata": {},
     "output_type": "execute_result"
    }
   ],
   "source": [
    "%%time\n",
    "transform_5c_slow(1100)"
   ]
  },
  {
   "cell_type": "markdown",
   "id": "e60eacdf",
   "metadata": {},
   "source": [
    "## Cache Complication\n",
    "\n",
    "This design suffers from a serious problem.\n",
    "\n",
    "`n` is float.\n",
    "\n",
    "Back in section 2, I pointed out that float is **not** a good candidate for exact match retrieval. Computed values may differ by tiny, tiny amounts, and we can wind up with a cache full of nearly equal values.\n",
    "\n",
    "Dictionary lookups rely on a two-step comparison.\n",
    "\n",
    "- Hash must be the same. There's a built-in function, `hash()` which does this. This is a wrapper for the `__hash__()` special method.\n",
    "\n",
    "- Values must be equal. This uses the `__eq__()` special method."
   ]
  },
  {
   "cell_type": "code",
   "execution_count": 68,
   "id": "8474d9c5",
   "metadata": {},
   "outputs": [],
   "source": [
    "a = ((100 + 0.001) - 99.0 - 0.001) * 1100\n",
    "b = ((100 + 0.003) - 99.0 - 0.003) * 1100"
   ]
  },
  {
   "cell_type": "code",
   "execution_count": 69,
   "id": "d629d718",
   "metadata": {},
   "outputs": [
    {
     "data": {
      "text/plain": [
       "False"
      ]
     },
     "execution_count": 69,
     "metadata": {},
     "output_type": "execute_result"
    }
   ],
   "source": [
    "a == b"
   ]
  },
  {
   "cell_type": "code",
   "execution_count": 70,
   "id": "119c086b",
   "metadata": {},
   "outputs": [
    {
     "data": {
      "text/plain": [
       "(1100.0000000000055, 1100.0000000000002)"
      ]
     },
     "execution_count": 70,
     "metadata": {},
     "output_type": "execute_result"
    }
   ],
   "source": [
    "a, b"
   ]
  },
  {
   "cell_type": "code",
   "execution_count": 71,
   "id": "72c0e635",
   "metadata": {},
   "outputs": [
    {
     "data": {
      "text/plain": [
       "True"
      ]
     },
     "execution_count": 71,
     "metadata": {},
     "output_type": "execute_result"
    }
   ],
   "source": [
    "from math import isclose\n",
    "isclose(a, b, abs_tol = 1E-14)"
   ]
  },
  {
   "cell_type": "code",
   "execution_count": 72,
   "id": "e0159667",
   "metadata": {},
   "outputs": [
    {
     "data": {
      "text/plain": [
       "(12584012, 525388)"
      ]
     },
     "execution_count": 72,
     "metadata": {},
     "output_type": "execute_result"
    }
   ],
   "source": [
    "hash(a), hash(b)"
   ]
  },
  {
   "cell_type": "markdown",
   "id": "d99cf1d9",
   "metadata": {},
   "source": [
    "We can't use a simple dictionary lookup. But. We have a bunch of choices. Here are two:\n",
    "\n",
    "1. Use a tree search with `isclose()` instead of a simple dictionary.\n",
    "\n",
    "2. Change the dictionary's key-matching rules.  These are implemented by `__contains__()`, and `__getitem__()` special methods.  You can read about it in the `collections.abc` module. And yes, extending built-in classes to add new behavior is solid Python. A bit too advanced for this course, though.\n",
    "\n",
    "3. Consider converting the RPM value from `float` to `int` (or `fraction`). We can then suppress \"noise\" bits in the `float` approximation.\n",
    "\n",
    "A binary tree search is in the `bisect` module. This maintains a cache in sorted order."
   ]
  },
  {
   "cell_type": "code",
   "execution_count": 73,
   "id": "a0c522bd",
   "metadata": {},
   "outputs": [],
   "source": [
    "import bisect"
   ]
  },
  {
   "cell_type": "code",
   "execution_count": 74,
   "id": "cd51c0cd",
   "metadata": {},
   "outputs": [],
   "source": [
    "class Transformer_D:\n",
    "    FACTOR = 0.7142\n",
    "    def __init__(self) -> None:\n",
    "        self.keys: list[float] = [] \n",
    "        self.values: list[float] = []\n",
    "        \n",
    "    def __call__(self, n: float) -> float:\n",
    "        index = bisect.bisect(self.keys, n)\n",
    "        # Is it in the cache?\n",
    "        try:\n",
    "            cached_n = self.keys[index-1]\n",
    "            result = self.values[index-1]\n",
    "        except IndexError:\n",
    "            # Special case -- cache is empty and index is invalid.\n",
    "            cached_n = None\n",
    "            result = None\n",
    "        if cached_n is None or not isclose(cached_n, n, abs_tol=1E-5):\n",
    "            # Not in the cache or cache is empty.\n",
    "            result = self.transform(n)\n",
    "            # Insert it into the cache, maintaining sort order.\n",
    "            self.keys.insert(index, n)\n",
    "            self.values.insert(index, result)\n",
    "        return result\n",
    "    \n",
    "    def transform(self, n: float) -> float:\n",
    "        return n * self.FACTOR\n",
    "    \n",
    "transform_5d = Transformer_D()"
   ]
  },
  {
   "cell_type": "code",
   "execution_count": 75,
   "id": "fe3493ca",
   "metadata": {},
   "outputs": [
    {
     "data": {
      "text/plain": [
       "(1100.0000000000055, 1100.0000000000002)"
      ]
     },
     "execution_count": 75,
     "metadata": {},
     "output_type": "execute_result"
    }
   ],
   "source": [
    "a, b"
   ]
  },
  {
   "cell_type": "code",
   "execution_count": 76,
   "id": "b20a4d4d",
   "metadata": {},
   "outputs": [
    {
     "data": {
      "text/plain": [
       "False"
      ]
     },
     "execution_count": 76,
     "metadata": {},
     "output_type": "execute_result"
    }
   ],
   "source": [
    "a == b"
   ]
  },
  {
   "cell_type": "code",
   "execution_count": 77,
   "id": "374ebf81",
   "metadata": {},
   "outputs": [
    {
     "data": {
      "text/plain": [
       "785.6200000000039"
      ]
     },
     "execution_count": 77,
     "metadata": {},
     "output_type": "execute_result"
    }
   ],
   "source": [
    "transform_5d(a)"
   ]
  },
  {
   "cell_type": "code",
   "execution_count": 78,
   "id": "ef0a08e9",
   "metadata": {},
   "outputs": [
    {
     "data": {
      "text/plain": [
       "785.6200000000039"
      ]
     },
     "execution_count": 78,
     "metadata": {},
     "output_type": "execute_result"
    }
   ],
   "source": [
    "transform_5d(b)"
   ]
  },
  {
   "cell_type": "code",
   "execution_count": 79,
   "id": "f5772f4b",
   "metadata": {},
   "outputs": [
    {
     "data": {
      "text/plain": [
       "[1100.0000000000055]"
      ]
     },
     "execution_count": 79,
     "metadata": {},
     "output_type": "execute_result"
    }
   ],
   "source": [
    "transform_5d.keys"
   ]
  },
  {
   "cell_type": "markdown",
   "id": "3be1c547",
   "metadata": {},
   "source": [
    "Turns out, there's still a hidden cost. The `list.insert()` method can get expensive when the list is very large. \n",
    "\n",
    "We might try rounding or truncating the RPM values to an integer."
   ]
  },
  {
   "cell_type": "markdown",
   "id": "bace857b",
   "metadata": {},
   "source": [
    "## Quantize the RPM's\n",
    "\n",
    "This is a better way to deal with caching for this particular application."
   ]
  },
  {
   "cell_type": "code",
   "execution_count": 80,
   "id": "204dddc4",
   "metadata": {},
   "outputs": [],
   "source": [
    "class Transformer_E:\n",
    "    FACTOR = 0.7142\n",
    "    def __init__(self) -> None:\n",
    "        self.cache: dict[int, float] = {}\n",
    "    def __call__(self, n: float) -> float:\n",
    "        int_n = int(round(n, -1))  # Nearest 10\n",
    "        if int_n not in self.cache:\n",
    "            self.cache[int_n] = self.transform(n)\n",
    "        return self.cache[int_n]\n",
    "    def transform(self, n: float) -> float:\n",
    "        return n * self.FACTOR\n",
    "    \n",
    "transform_5e = Transformer_E()"
   ]
  },
  {
   "cell_type": "code",
   "execution_count": 81,
   "id": "1ffa7d13",
   "metadata": {},
   "outputs": [
    {
     "data": {
      "text/plain": [
       "785.6200000000039"
      ]
     },
     "execution_count": 81,
     "metadata": {},
     "output_type": "execute_result"
    }
   ],
   "source": [
    "transform_5e(a)"
   ]
  },
  {
   "cell_type": "code",
   "execution_count": 82,
   "id": "0f6b8fff",
   "metadata": {},
   "outputs": [
    {
     "data": {
      "text/plain": [
       "785.6200000000039"
      ]
     },
     "execution_count": 82,
     "metadata": {},
     "output_type": "execute_result"
    }
   ],
   "source": [
    "transform_5e(b)"
   ]
  },
  {
   "cell_type": "markdown",
   "id": "ded40978",
   "metadata": {},
   "source": [
    "## Brief Review of callables\n",
    "\n",
    "1. Ordinary `def` functions.\n",
    "\n",
    "2. Higher-Order Functions. These have functions as parameters or return values. They're not fundamentally unique in Python.\n",
    "\n",
    "3. Function Wrappers (around methods). This is syntactic sugar so we don't have to use object methods all the time. `len(x)` seems better than `x.len()` for a special cases. Some more examples: `str(x)`, `repr(x)`, `hash(x)`.\n",
    "\n",
    "4. Lambdas. Anonymous functions with a single expression. \n",
    "\n",
    "5. Callable Objects. Classes that follow the `Callable` protocol; i.e., have a `__call__()` method."
   ]
  },
  {
   "cell_type": "markdown",
   "id": "bc908f15",
   "metadata": {},
   "source": [
    "## Why so many?\n",
    "\n",
    "Functions, Lambdas, callable objects are all slightly different in the features they offer.\n",
    "\n",
    "Functions are (generally) stateless. You can use the `global` statement to make a stateful function. Please don't.\n",
    "\n",
    "Lambdas are designed to be simpler than a function.\n",
    "\n",
    "The callable object is the most general set of features, able to do anything."
   ]
  },
  {
   "cell_type": "markdown",
   "id": "6b7cafa4",
   "metadata": {},
   "source": [
    "## 6. Generator Functions and Yield\n",
    "\n",
    "This is the best part of Python. Seriously.\n",
    "\n",
    "Let's start with a \"comprehension\".  \n",
    "\n",
    "- List comprehension: generator in []'s\n",
    "\n",
    "- Set comprehension: generator in {}'s\n",
    "\n",
    "- Dictionary comprehension: a generator with :'s in {}'s"
   ]
  },
  {
   "cell_type": "code",
   "execution_count": 83,
   "id": "904d5667",
   "metadata": {},
   "outputs": [
    {
     "data": {
      "text/plain": [
       "[1, 3, 5, 7, 9, 11, 13, 15, 17, 19]"
      ]
     },
     "execution_count": 83,
     "metadata": {},
     "output_type": "execute_result"
    }
   ],
   "source": [
    "[2*x+1 for x in range(10)]"
   ]
  },
  {
   "cell_type": "code",
   "execution_count": 84,
   "id": "1f6f3285",
   "metadata": {},
   "outputs": [
    {
     "data": {
      "text/plain": [
       "{0, 1, 2}"
      ]
     },
     "execution_count": 84,
     "metadata": {},
     "output_type": "execute_result"
    }
   ],
   "source": [
    "{x % 3 for x in range(999)}"
   ]
  },
  {
   "cell_type": "code",
   "execution_count": 85,
   "id": "17df788c",
   "metadata": {},
   "outputs": [
    {
     "data": {
      "text/plain": [
       "{0: '2*n+1=1',\n",
       " 1: '2*n+1=3',\n",
       " 2: '2*n+1=5',\n",
       " 3: '2*n+1=7',\n",
       " 4: '2*n+1=9',\n",
       " 5: '2*n+1=11',\n",
       " 6: '2*n+1=13',\n",
       " 7: '2*n+1=15',\n",
       " 8: '2*n+1=17',\n",
       " 9: '2*n+1=19'}"
      ]
     },
     "execution_count": 85,
     "metadata": {},
     "output_type": "execute_result"
    }
   ],
   "source": [
    "{n: f\"{2*n+1=}\" for n in range(10)}"
   ]
  },
  {
   "cell_type": "markdown",
   "id": "25edec62",
   "metadata": {},
   "source": [
    "Alternative forms:"
   ]
  },
  {
   "cell_type": "code",
   "execution_count": 86,
   "id": "4fa598ed",
   "metadata": {},
   "outputs": [
    {
     "data": {
      "text/plain": [
       "[1, 3, 5, 7, 9, 11, 13, 15, 17, 19]"
      ]
     },
     "execution_count": 86,
     "metadata": {},
     "output_type": "execute_result"
    }
   ],
   "source": [
    "list(2*x+1 for x in range(10))"
   ]
  },
  {
   "cell_type": "code",
   "execution_count": 87,
   "id": "6734468e",
   "metadata": {},
   "outputs": [
    {
     "data": {
      "text/plain": [
       "{0, 1, 2}"
      ]
     },
     "execution_count": 87,
     "metadata": {},
     "output_type": "execute_result"
    }
   ],
   "source": [
    "set(x % 3 for x in range(999)) "
   ]
  },
  {
   "cell_type": "code",
   "execution_count": 88,
   "id": "9d9bb60d",
   "metadata": {},
   "outputs": [
    {
     "data": {
      "text/plain": [
       "{0: '2*n+1=1',\n",
       " 1: '2*n+1=3',\n",
       " 2: '2*n+1=5',\n",
       " 3: '2*n+1=7',\n",
       " 4: '2*n+1=9',\n",
       " 5: '2*n+1=11',\n",
       " 6: '2*n+1=13',\n",
       " 7: '2*n+1=15',\n",
       " 8: '2*n+1=17',\n",
       " 9: '2*n+1=19'}"
      ]
     },
     "execution_count": 88,
     "metadata": {},
     "output_type": "execute_result"
    }
   ],
   "source": [
    "dict( (n, f\"{2*n+1=}\") for n in range(10) )"
   ]
  },
  {
   "cell_type": "markdown",
   "id": "ab71e69b",
   "metadata": {},
   "source": [
    "Yes, the dictionary syntax had to change. We have to provide a sequence of tuples to the dict function because the `k: v` syntax is a special case and only works inside `{}`'s."
   ]
  },
  {
   "cell_type": "markdown",
   "id": "08e89af4",
   "metadata": {},
   "source": [
    "## Some formalities\n",
    "\n",
    "The classes, `list`, `set`, `dict` have initializer methods that work with the  type `Iterable[Any]`. \n",
    "\n",
    "A list object, `[1, 2, 3]`, is an `Iterable[Any]`. \n",
    "\n",
    "The `Iterable` type is a protocol and it requires a method, `__iter__()`, that will produce a sequence of values. \n",
    "\n",
    "The output of `__iter__()` is `Iterator[Any]`. An iterator.\n",
    "    \n",
    "The generator expression `x % 3 for x in range(999)` is an `Iterator[Any]`."
   ]
  },
  {
   "cell_type": "markdown",
   "id": "511d48bf",
   "metadata": {},
   "source": [
    "## Some More Examples\n",
    "\n",
    "`range()` is an iterator over values.\n",
    "\n",
    "`map()` and `filter()` require an iterable. They are iterators."
   ]
  },
  {
   "cell_type": "code",
   "execution_count": 89,
   "id": "b29846ac",
   "metadata": {},
   "outputs": [
    {
     "data": {
      "text/plain": [
       "[1, 3, 5, 7, 9, 11, 13, 15, 17, 19]"
      ]
     },
     "execution_count": 89,
     "metadata": {},
     "output_type": "execute_result"
    }
   ],
   "source": [
    "[2*n+1 for n in range(10)]"
   ]
  },
  {
   "cell_type": "code",
   "execution_count": 90,
   "id": "0e7562b1",
   "metadata": {},
   "outputs": [
    {
     "data": {
      "text/plain": [
       "[0, 1, 2, 3, 4, 5, 6, 7, 8, 9]"
      ]
     },
     "execution_count": 90,
     "metadata": {},
     "output_type": "execute_result"
    }
   ],
   "source": [
    "list(range(10))"
   ]
  },
  {
   "cell_type": "code",
   "execution_count": 91,
   "id": "c82fa5a2",
   "metadata": {},
   "outputs": [
    {
     "data": {
      "text/plain": [
       "<map at 0x7f9ca1227790>"
      ]
     },
     "execution_count": 91,
     "metadata": {},
     "output_type": "execute_result"
    }
   ],
   "source": [
    "map(lambda n: 2*n+1, range(10))"
   ]
  },
  {
   "cell_type": "code",
   "execution_count": 92,
   "id": "d5946a21",
   "metadata": {},
   "outputs": [
    {
     "data": {
      "text/plain": [
       "[1, 3, 5, 7, 9, 11, 13, 15, 17, 19]"
      ]
     },
     "execution_count": 92,
     "metadata": {},
     "output_type": "execute_result"
    }
   ],
   "source": [
    "list(\n",
    "    map(lambda n: 2*n+1, range(10))\n",
    ")"
   ]
  },
  {
   "cell_type": "code",
   "execution_count": 93,
   "id": "fd67cf87",
   "metadata": {},
   "outputs": [
    {
     "data": {
      "text/plain": [
       "[1, 3, 5, 7, 9, 11, 13, 15, 17, 19]"
      ]
     },
     "execution_count": 93,
     "metadata": {},
     "output_type": "execute_result"
    }
   ],
   "source": [
    "list(\n",
    "    2*n+1 for n in range(10)\n",
    ")"
   ]
  },
  {
   "cell_type": "markdown",
   "id": "c9eed90c",
   "metadata": {},
   "source": [
    "This is always true:\n",
    "\n",
    "    map(f, D) == (f(x) for x in D)\n",
    "    \n",
    "They're identical by design. Some folks like `map(f(x), D)`. Some folks like `(f(x) for x in D)`."
   ]
  },
  {
   "cell_type": "markdown",
   "id": "35bf749c",
   "metadata": {},
   "source": [
    "## Continuing this Example"
   ]
  },
  {
   "cell_type": "code",
   "execution_count": 94,
   "id": "90eea2c1",
   "metadata": {},
   "outputs": [],
   "source": [
    "from math import sqrt\n",
    "def prime(n: int) -> bool:\n",
    "    if n < 2: return False\n",
    "    if n == 2: return True\n",
    "    if n % 2 == 0: return False\n",
    "    for k in range(3, int(sqrt(n))+2, 2):\n",
    "        if n % k == 0: return False\n",
    "    return True"
   ]
  },
  {
   "cell_type": "code",
   "execution_count": 95,
   "id": "977a0498",
   "metadata": {},
   "outputs": [
    {
     "data": {
      "text/plain": [
       "[2,\n",
       " 3,\n",
       " 5,\n",
       " 7,\n",
       " 11,\n",
       " 13,\n",
       " 17,\n",
       " 19,\n",
       " 23,\n",
       " 29,\n",
       " 31,\n",
       " 37,\n",
       " 41,\n",
       " 43,\n",
       " 47,\n",
       " 53,\n",
       " 59,\n",
       " 61,\n",
       " 67,\n",
       " 71,\n",
       " 73,\n",
       " 79,\n",
       " 83,\n",
       " 89,\n",
       " 97]"
      ]
     },
     "execution_count": 95,
     "metadata": {},
     "output_type": "execute_result"
    }
   ],
   "source": [
    "list(filter(lambda n: prime(n), range(100)))"
   ]
  },
  {
   "cell_type": "code",
   "execution_count": 96,
   "id": "e07b2b0f",
   "metadata": {},
   "outputs": [
    {
     "data": {
      "text/plain": [
       "[2,\n",
       " 3,\n",
       " 5,\n",
       " 7,\n",
       " 11,\n",
       " 13,\n",
       " 17,\n",
       " 19,\n",
       " 23,\n",
       " 29,\n",
       " 31,\n",
       " 37,\n",
       " 41,\n",
       " 43,\n",
       " 47,\n",
       " 53,\n",
       " 59,\n",
       " 61,\n",
       " 67,\n",
       " 71,\n",
       " 73,\n",
       " 79,\n",
       " 83,\n",
       " 89,\n",
       " 97]"
      ]
     },
     "execution_count": 96,
     "metadata": {},
     "output_type": "execute_result"
    }
   ],
   "source": [
    "list(\n",
    "    n for n in range(100) if prime(n)\n",
    ")"
   ]
  },
  {
   "cell_type": "markdown",
   "id": "ae6166f3",
   "metadata": {},
   "source": [
    "This is always true:\n",
    "\n",
    "    filter(f, D) == (x for x in D if f(x))\n",
    "    \n",
    "They're identical by design. Some folks like `filter(f(x), D)`. Some folks like `(x for x in D if f(x))`."
   ]
  },
  {
   "cell_type": "markdown",
   "id": "2ba49e57",
   "metadata": {},
   "source": [
    "## The pattern is `f(D: Iterable[T]) -> Iterator[T]:`\n",
    "\n",
    "It works like this.\n",
    "\n",
    "Use a `for` statement to consume the source domain of values.\n",
    "\n",
    "Use a `yield` statement to provide one value for the Iterator."
   ]
  },
  {
   "cell_type": "code",
   "execution_count": 97,
   "id": "ed30ec61",
   "metadata": {},
   "outputs": [],
   "source": [
    "from typing import Iterator\n",
    "def some_floats() -> Iterator[float]:\n",
    "    yield 2.7182818\n",
    "    yield 3.1415926"
   ]
  },
  {
   "cell_type": "code",
   "execution_count": 98,
   "id": "38ddee39",
   "metadata": {},
   "outputs": [
    {
     "data": {
      "text/plain": [
       "[2.7182818, 3.1415926]"
      ]
     },
     "execution_count": 98,
     "metadata": {},
     "output_type": "execute_result"
    }
   ],
   "source": [
    "list(some_floats())"
   ]
  },
  {
   "cell_type": "code",
   "execution_count": 99,
   "id": "5b3fde9a",
   "metadata": {},
   "outputs": [],
   "source": [
    "def odd_pairs(limit: int) -> Iterator[tuple[int, int]]:\n",
    "    for n in range(limit):\n",
    "        yield n, 2*n+1"
   ]
  },
  {
   "cell_type": "code",
   "execution_count": 100,
   "id": "944b5d27",
   "metadata": {},
   "outputs": [
    {
     "data": {
      "text/plain": [
       "[(0, 1), (1, 3), (2, 5), (3, 7), (4, 9)]"
      ]
     },
     "execution_count": 100,
     "metadata": {},
     "output_type": "execute_result"
    }
   ],
   "source": [
    "list(odd_pairs(5))"
   ]
  },
  {
   "cell_type": "code",
   "execution_count": 101,
   "id": "9bc736e3",
   "metadata": {},
   "outputs": [],
   "source": [
    "from typing import Iterator, Iterable\n",
    "\n",
    "def odd_pairs_iter(source: Iterable[int]) -> Iterator[tuple[int, int]]:\n",
    "    for n in source:\n",
    "        yield n, 2*n+1"
   ]
  },
  {
   "cell_type": "code",
   "execution_count": 102,
   "id": "177d404d",
   "metadata": {},
   "outputs": [
    {
     "data": {
      "text/plain": [
       "[(0, 1), (1, 3), (2, 5), (3, 7), (4, 9)]"
      ]
     },
     "execution_count": 102,
     "metadata": {},
     "output_type": "execute_result"
    }
   ],
   "source": [
    "list(odd_pairs_iter(range(5)))"
   ]
  },
  {
   "cell_type": "markdown",
   "id": "a6a95980",
   "metadata": {},
   "source": [
    "## A transformer that's an Iterator"
   ]
  },
  {
   "cell_type": "code",
   "execution_count": 103,
   "id": "86eb5d34",
   "metadata": {},
   "outputs": [],
   "source": [
    "from typing import Iterator, Iterable\n",
    "\n",
    "def transform_6(values: Iterable[float]) -> Iterator[float]:\n",
    "    for v in values:\n",
    "        yield v*0.7142"
   ]
  },
  {
   "cell_type": "code",
   "execution_count": 104,
   "id": "725c5741",
   "metadata": {},
   "outputs": [
    {
     "data": {
      "text/plain": [
       "[785.6199999999999,\n",
       " 857.04,\n",
       " 928.4599999999999,\n",
       " 999.8799999999999,\n",
       " 1071.3,\n",
       " 1142.7199999999998,\n",
       " 1214.1399999999999,\n",
       " 1285.56,\n",
       " 1356.9799999999998]"
      ]
     },
     "execution_count": 104,
     "metadata": {},
     "output_type": "execute_result"
    }
   ],
   "source": [
    "list(transform_6(range(1100, 2000, 100)))"
   ]
  },
  {
   "cell_type": "code",
   "execution_count": 105,
   "id": "4e455773",
   "metadata": {},
   "outputs": [
    {
     "data": {
      "text/plain": [
       "[800, 900, 900, 1000, 1100, 1100, 1200, 1300, 1400]"
      ]
     },
     "execution_count": 105,
     "metadata": {},
     "output_type": "execute_result"
    }
   ],
   "source": [
    "list(\n",
    "    map(\n",
    "        round100, \n",
    "        transform_6(\n",
    "            range(1100, 2000, 100)\n",
    "        )\n",
    "    )\n",
    ")"
   ]
  },
  {
   "cell_type": "markdown",
   "id": "dbef54ab",
   "metadata": {},
   "source": [
    "Important:\n",
    "\n",
    "The iterable does not have to be a big data structure laying around in memory.\n",
    "\n",
    "It can be a source of data like a file, that's read one row at a time."
   ]
  },
  {
   "cell_type": "markdown",
   "id": "4592c933",
   "metadata": {},
   "source": [
    "## Case Study\n",
    "\n",
    "New alternator on an old engine.\n",
    "\n",
    "The tachometer display reflects the ratio of drive wheels on a serpentine belt.\n",
    "\n",
    "Smaller wheels on the new alternator means the tachometer display is now wrong.\n",
    "\n",
    "Preliminary measurements made it look like the new wheel is $\\tfrac{5}{7}$ the original wheel size. In principle this means scaling tachomter readings by $\\tfrac{5}{7} = 0.7142$.\n",
    "\n",
    "Later, with an optical device in the engine room, detailed samples were gathered. Recorded in a spreadsheet, and saved as a CSV file, `engine.csv`."
   ]
  },
  {
   "cell_type": "code",
   "execution_count": 106,
   "id": "112d2e87",
   "metadata": {},
   "outputs": [],
   "source": [
    "from csv import DictReader\n",
    "from pathlib import Path"
   ]
  },
  {
   "cell_type": "code",
   "execution_count": 107,
   "id": "40295cdf",
   "metadata": {},
   "outputs": [
    {
     "name": "stdout",
     "output_type": "stream",
     "text": [
      "714.1999999999999\n",
      "1071.3\n",
      "1071.3\n",
      "1142.7199999999998\n",
      "1249.85\n",
      "1428.3999999999999\n",
      "1428.3999999999999\n"
     ]
    }
   ],
   "source": [
    "source_path = Path(\"engine.csv\")\n",
    "with source_path.open() as source_file:\n",
    "    reader = DictReader(source_file)\n",
    "    tach_readings = (float(row[\"Tach\"]) for row in reader)\n",
    "    for result in transform_6(tach_readings):\n",
    "        print(result)"
   ]
  },
  {
   "cell_type": "markdown",
   "id": "9e756ef9",
   "metadata": {},
   "source": [
    "Let's work through this carefully.\n",
    "\n",
    "We create a `DictReader`. This is an iterable of `dict[str, str]` -- each dictionary is a row from the CSV file.\n",
    "\n",
    "`tach_readings` is a generator expression over the rows in the reader.  It performs a computation on each row.\n",
    "Input is `Iterable[dict[str, str]]`. Output is `Iterator[float]`.\n",
    "\n",
    "`transform_6()` is a generator function. Defined as an `Iterable[float]`. Output is another `Iterable[float]`.\n",
    "\n",
    "Note the obvious matchup between `tach_readings` type and `transform_6()` parameter type. Tools like **mypy** love this."
   ]
  },
  {
   "cell_type": "markdown",
   "id": "c0db08e5",
   "metadata": {},
   "source": [
    "## Important: Generators are Lazy!\n",
    "\n",
    "The `for` statement consumes one row from `transform_6()` to print the result.\n",
    "\n",
    "`transform_6()` is a lazy generator. It consumes one row from `tach_readings`.\n",
    "\n",
    "`tach_readings` is a lazy generator. It consumes one row from `reader`.\n",
    "\n",
    "`reader` is just as lazy as everyone else. It consumes one row from the file.\n",
    "\n",
    "Eventually, the `reader` runs of out of rows and each of these iterators stops consuming data.\n",
    "\n",
    "But. \n",
    "\n",
    "There's only one row of source data in memory at a time."
   ]
  },
  {
   "cell_type": "markdown",
   "id": "6e584649",
   "metadata": {},
   "source": [
    "## Hmmm. I want more than one value\n",
    "\n",
    "Instead of `Iterable[float]` I really want `Iterable[dict[str, float]]` with some additional values in the dictionary.\n",
    "\n",
    "Here's what's in the dictionary now.  The `fieldnames` attribute will tell me what the headers in the CSV file really are."
   ]
  },
  {
   "cell_type": "code",
   "execution_count": 108,
   "id": "1d0684ba",
   "metadata": {},
   "outputs": [
    {
     "name": "stdout",
     "output_type": "stream",
     "text": [
      "['Sample', 'Tach', 'Engine']\n"
     ]
    }
   ],
   "source": [
    "source_path = Path(\"engine.csv\")\n",
    "with source_path.open() as source_file:\n",
    "    reader = DictReader(source_file)\n",
    "    print(reader.fieldnames)"
   ]
  },
  {
   "cell_type": "markdown",
   "id": "dd6976a9",
   "metadata": {},
   "source": [
    "I'd like to add a new attribute, `Transfomed`, to compare the actual `Engine` against the transformed `Tach` value.\n",
    "\n",
    "Why? I'm trying to model something and I need to compare model against actual.\n",
    "\n",
    "Two choices:\n",
    "\n",
    "- As described above, update the dictionary. It's mutable.\n",
    "\n",
    "- Change from a mutable dictionary to something a little smarter.\n",
    "\n",
    "    - A NamedTuple or dataclass with a computed property. We'll look at this, first.\n",
    "    \n",
    "    - A sequence of NamedTuples with increasingly sophisticated data."
   ]
  },
  {
   "cell_type": "code",
   "execution_count": 109,
   "id": "3eff410f",
   "metadata": {},
   "outputs": [],
   "source": [
    "from typing import NamedTuple\n",
    "class SampleWithModel(NamedTuple):\n",
    "    tach: float\n",
    "    engine: float\n",
    "    @property\n",
    "    def transformed(self):\n",
    "        return self.tach * 0.7142"
   ]
  },
  {
   "cell_type": "code",
   "execution_count": 110,
   "id": "98bdbcf2",
   "metadata": {},
   "outputs": [
    {
     "name": "stdout",
     "output_type": "stream",
     "text": [
      "1000.0, 883.0, 714.1999999999999\n",
      "1500.0, 1242.0, 1071.3\n",
      "1500.0, 1217.0, 1071.3\n",
      "1600.0, 1306.0, 1142.7199999999998\n",
      "1750.0, 1534.0, 1249.85\n",
      "2000.0, 1805.0, 1428.3999999999999\n",
      "2000.0, 1720.0, 1428.3999999999999\n"
     ]
    }
   ],
   "source": [
    "source_path = Path(\"engine.csv\")\n",
    "with source_path.open() as source_file:\n",
    "    reader = DictReader(source_file)\n",
    "    samples = (\n",
    "        SampleWithModel(float(row[\"Tach\"]), float(row[\"Engine\"]))\n",
    "        for row in reader)\n",
    "    for swm in samples:\n",
    "        print(f\"{swm.tach}, {swm.engine}, {swm.transformed}\")"
   ]
  },
  {
   "cell_type": "markdown",
   "id": "8b09cdf5",
   "metadata": {},
   "source": [
    "## Not a fan\n",
    "\n",
    "The model is buried inside a class as the `transformed()` method. It's awkward to modify as we understand more about the data.\n",
    "\n",
    "Let's try an alternative approach with two, separate named tuples and a separate function for the model.  We'll use `transform_5b()` because it works as well as all the others."
   ]
  },
  {
   "cell_type": "code",
   "execution_count": 111,
   "id": "6ee3c43c",
   "metadata": {},
   "outputs": [],
   "source": [
    "class Sample(NamedTuple):\n",
    "    tach: float\n",
    "    engine: float\n",
    "\n",
    "class SamplePlus(NamedTuple):\n",
    "    tach: float\n",
    "    engine: float\n",
    "    transformed: float"
   ]
  },
  {
   "cell_type": "code",
   "execution_count": 112,
   "id": "74013df5",
   "metadata": {},
   "outputs": [
    {
     "name": "stdout",
     "output_type": "stream",
     "text": [
      "1000.0, 883.0, 714.1999999999999\n",
      "1500.0, 1242.0, 1071.3\n",
      "1500.0, 1217.0, 1071.3\n",
      "1600.0, 1306.0, 1142.7199999999998\n",
      "1750.0, 1534.0, 1249.85\n",
      "2000.0, 1805.0, 1428.3999999999999\n",
      "2000.0, 1720.0, 1428.3999999999999\n"
     ]
    }
   ],
   "source": [
    "source_path = Path(\"engine.csv\")\n",
    "model = transform_5b\n",
    "with source_path.open() as source_file:\n",
    "    reader = DictReader(source_file)\n",
    "    raw_data = (\n",
    "        Sample(float(row[\"Tach\"]), float(row[\"Engine\"]))\n",
    "        for row in reader)\n",
    "    transformed = (\n",
    "        SamplePlus(row.tach, row.engine, model(row.tach))\n",
    "        for row in raw_data)\n",
    "    for swm in transformed:\n",
    "        print(f\"{swm.tach}, {swm.engine}, {swm.transformed}\")"
   ]
  },
  {
   "cell_type": "markdown",
   "id": "1a32f7bf",
   "metadata": {},
   "source": [
    "## Refactor into a higher-order function\n",
    "\n",
    "THe data reading and computation can be a single function to provide an iterable source of objects."
   ]
  },
  {
   "cell_type": "code",
   "execution_count": 113,
   "id": "2bb12f8a",
   "metadata": {},
   "outputs": [],
   "source": [
    "def alternator_mapping(source_path: Path, model: Callable[[float], float]) -> Iterator[SamplePlus]:\n",
    "    with source_path.open() as source_file:\n",
    "        reader = DictReader(source_file)\n",
    "        raw_data = (\n",
    "            Sample(float(row[\"Tach\"]), float(row[\"Engine\"]))\n",
    "            for row in reader)\n",
    "        transformed = (\n",
    "            SamplePlus(row.tach, row.engine, model(row.tach))\n",
    "            for row in raw_data)\n",
    "        yield from transformed"
   ]
  },
  {
   "cell_type": "markdown",
   "id": "0431e09f",
   "metadata": {},
   "source": [
    "Here's how we use the transform_5a model in our engine"
   ]
  },
  {
   "cell_type": "code",
   "execution_count": 114,
   "id": "5a495887",
   "metadata": {},
   "outputs": [
    {
     "data": {
      "text/plain": [
       "[SamplePlus(tach=1000.0, engine=883.0, transformed=714.1999999999999),\n",
       " SamplePlus(tach=1500.0, engine=1242.0, transformed=1071.3),\n",
       " SamplePlus(tach=1500.0, engine=1217.0, transformed=1071.3),\n",
       " SamplePlus(tach=1600.0, engine=1306.0, transformed=1142.7199999999998),\n",
       " SamplePlus(tach=1750.0, engine=1534.0, transformed=1249.85),\n",
       " SamplePlus(tach=2000.0, engine=1805.0, transformed=1428.3999999999999),\n",
       " SamplePlus(tach=2000.0, engine=1720.0, transformed=1428.3999999999999)]"
      ]
     },
     "execution_count": 114,
     "metadata": {},
     "output_type": "execute_result"
    }
   ],
   "source": [
    "list(alternator_mapping(source_path, transform_5a))"
   ]
  },
  {
   "cell_type": "markdown",
   "id": "92e16b21",
   "metadata": {},
   "source": [
    "## Corrected Model\n",
    "\n",
    "Skipping details of the linear regression.\n",
    "\n",
    "It involves a lot of `sum(tach)` and `sum_2(tach)` and that kind of thing.\n",
    "\n",
    "\\\\[ r_{xy} = \\frac{\\sum x y - n \\bar x \\bar y}{(n-1)\\sigma_x\\sigma_y} \\\\]\n",
    "\n",
    "\n",
    "\\\\[\n",
    "b = \\frac{\\sum {x}{y} - n  \\bar x \\bar y}{(n-1){\\sigma_x} ^ 2} = r_{xy} \\frac {\\sigma_y}{\\sigma_x}\n",
    "\\\\]\n",
    "\n",
    "\\\\[\n",
    "a = \\bar y - b \\bar x\n",
    "\\\\]"
   ]
  },
  {
   "cell_type": "code",
   "execution_count": 115,
   "id": "04394db2",
   "metadata": {},
   "outputs": [
    {
     "data": {
      "text/plain": [
       "[SamplePlus(tach=1000.0, engine=883.0, transformed=810.0),\n",
       " SamplePlus(tach=1500.0, engine=1242.0, transformed=1260.0),\n",
       " SamplePlus(tach=1500.0, engine=1217.0, transformed=1260.0),\n",
       " SamplePlus(tach=1600.0, engine=1306.0, transformed=1350.0),\n",
       " SamplePlus(tach=1750.0, engine=1534.0, transformed=1485.0),\n",
       " SamplePlus(tach=2000.0, engine=1805.0, transformed=1710.0),\n",
       " SamplePlus(tach=2000.0, engine=1720.0, transformed=1710.0)]"
      ]
     },
     "execution_count": 115,
     "metadata": {},
     "output_type": "execute_result"
    }
   ],
   "source": [
    "def new_model(t: float) -> float:\n",
    "    return 0.9*t - 90\n",
    "\n",
    "list(alternator_mapping(source_path, new_model))"
   ]
  },
  {
   "cell_type": "markdown",
   "id": "4bc4c116",
   "metadata": {},
   "source": [
    "## Wrap-up\n",
    "\n",
    "1. Function Definitions \n",
    "\n",
    "2. Higher-Order Functions\n",
    "\n",
    "3. Function Wrappers (around methods)\n",
    "\n",
    "4. Lambdas\n",
    "\n",
    "5. Callable Objects\n",
    "\n",
    "6. Generator Functions and Yield\n",
    "\n",
    "Yes. That's six. But. Higher-Order Functions aren't magical."
   ]
  },
  {
   "cell_type": "markdown",
   "id": "7266b134",
   "metadata": {},
   "source": [
    "## Questions?\n",
    "\n",
    "We'll start again with part 4, **Tooling and Good Practices**"
   ]
  },
  {
   "cell_type": "code",
   "execution_count": null,
   "id": "a6d1baaf",
   "metadata": {},
   "outputs": [],
   "source": []
  }
 ],
 "metadata": {
  "kernelspec": {
   "display_name": "Python 3",
   "language": "python",
   "name": "python3"
  },
  "language_info": {
   "codemirror_mode": {
    "name": "ipython",
    "version": 3
   },
   "file_extension": ".py",
   "mimetype": "text/x-python",
   "name": "python",
   "nbconvert_exporter": "python",
   "pygments_lexer": "ipython3",
   "version": "3.9.5"
  }
 },
 "nbformat": 4,
 "nbformat_minor": 5
}
